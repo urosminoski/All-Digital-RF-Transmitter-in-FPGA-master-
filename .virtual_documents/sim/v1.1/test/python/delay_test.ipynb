from signal_utils import *





N = 2**10
n = np.arange(N)

perc = 0.15
Fmax = 0.5 * (1 - perc)

F = 0.013

# xi_test = 1.0 * np.cos(2*np.pi*F*n)
# xq_test = 1.0 * np.sin(2*np.pi*F*n)

# np.savetxt("../../../../VHDL/data/delay_test/xin_i_test.txt", xi_test, fmt="%.12f")
# np.savetxt("../../../../VHDL/data/delay_test/xin_q_test.txt", xq_test, fmt="%.12f")

xi_osr8 = np.loadtxt("../../../../VHDL/data/stage1_test/xout_i_osr8.txt", dtype=np.int32)*2**-15
xq_osr8 = np.loadtxt("../../../../VHDL/data/stage1_test/xout_q_osr8.txt", dtype=np.int32)*2**-15

np.savetxt("../../../../VHDL/data/delay_test/xin_i_test.txt", xi_osr8, fmt="%.12f")
np.savetxt("../../../../VHDL/data/delay_test/xin_q_test.txt", xq_osr8, fmt="%.12f")

xiq_test = xi_osr8 + 1j*xq_osr8
freqs_test, xfftdB_test, an_ = fftdB(xiq_test, True)
plt.figure()
plt.plot(freqs_test, xfftdB_test)
plt.grid()
plt.show()


k3 = np.array([0.5, 0.0, -0.5])
k5 = np.array([-1, 8, 0, -8, +1]) / 12.0
k7 = np.array([1, -9, +45, 0, -45, +9, -1]) / 60.0
k9 = np.array([-1, 12, -39, +56, 0, -56, +39, -12, +1]) / 280.0

np.savetxt("../../../../VHDL/data/delay_test/k3.txt", k3, fmt="%.12f")
np.savetxt("../../../../VHDL/data/delay_test/k5.txt", k5, fmt="%.12f")
np.savetxt("../../../../VHDL/data/delay_test/k7.txt", k7, fmt="%.12f")


delta = 1/8/32
print(f"delta={delta}")
i_delta = -delta
q_delta = delta
k7 = np.array([1, -9, +45, 0, -45, +9, -1]) / 60.0

xi_delay = frac_delay_1st(xi_osr8*1/(1+delta), i_delta, k7)
xq_delay = frac_delay_1st(xq_osr8*1/(1+delta), q_delta, k7)
xiq_delay = xi_delay + 1j*xq_delay

freq_delay, xfftdB_delay, an = fftdB(xiq_delay, True)
plt.figure()
plt.plot(freq_delay, xfftdB_delay)
# plt.ylim([-140, 5])
plt.grid()


xout_i_delay = np.loadtxt("../../../../VHDL/data/delay_test/xout_i_delay.txt", dtype=np.int32)
xout_q_delay = np.loadtxt("../../../../VHDL/data/delay_test/xout_q_delay.txt", dtype=np.int32)


xin_i_delay_2 = xout_i_delay * 2**-15
xin_q_delay_2 = xout_q_delay * 2**-15

print(f"min = {np.min(xin_i_delay_2)}, max = {np.max(xin_i_delay_2)}")
print(f"min = {np.min(xin_q_delay_2)}, max = {np.max(xin_q_delay_2)}")

np.savetxt("../../../../VHDL/data/delay_test/xin_i_delay_2.txt", xin_i_delay_2, fmt="%.12f")
np.savetxt("../../../../VHDL/data/delay_test/xin_q_delay_2.txt", xin_q_delay_2, fmt="%.12f")

xout_iq_delay = xout_i_delay + 1j*xout_q_delay

freq_delay, xfftdB_delay, an = fftdB(xout_iq_delay, True)
plt.figure()
plt.plot(freq_delay, xfftdB_delay)
# plt.ylim([-95, 5])
plt.grid()


plt.figure()
plt.plot(xi_delay[500:800])
plt.plot(xout_i_delay[507:807]*2**-15)


plt.figure()
plt.plot(xq_delay[500:800])
plt.plot(xout_q_delay[507:807]*2**-15)














xi_osr8 = np.loadtxt("../../../../VHDL/data/stage1_test/xout_i_osr8.txt", dtype=np.int32)*2**-15
xq_osr8 = np.loadtxt("../../../../VHDL/data/stage1_test/xout_q_osr8.txt", dtype=np.int32)*2**-15

np.savetxt("../../../../VHDL/data/delay_test/xin_i_delay_1.txt", xi_osr8, fmt="%.12f")
np.savetxt("../../../../VHDL/data/delay_test/xin_q_delay_1.txt", xq_osr8, fmt="%.12f")

delta = 1/8/32
print(f"delta={delta}")
i_delta = -delta
q_delta = delta
k7 = np.array([1, -9, +45, 0, -45, +9, -1]) / 60.0

xi_delay = frac_delay_1st(xi_osr8*1/(1+delta), i_delta, k7)
xq_delay = frac_delay_1st(xq_osr8*1/(1+delta), q_delta, k7)

np.savetxt("../../../../VHDL/data/delay_test/xin_i_delay.txt", xi_delay, fmt="%.12f")
np.savetxt("../../../../VHDL/data/delay_test/xin_q_delay.txt", xq_delay, fmt="%.12f")


print(np.max(xi_osr8), np.min(xi_osr8))
print(np.max(xq_osr8), np.min(xq_osr8))

print(np.max(xi_delay), np.min(xi_delay))
print(np.max(xq_delay), np.min(xq_delay))

xout_iq_delay = xi_delay + 1j*xq_delay

freq_out_delay, xfftdB_out_delay, an = fftdB(xout_iq_delay, True)
plt.figure()
plt.plot(freq_out_delay, xfftdB_out_delay)
plt.grid()


print(37/2**15)


xi_delay_1 = np.loadtxt("../../../../VHDL/data/delay_test/xout_i_delay.txt", dtype=np.int32)
xq_delay_1 = np.loadtxt("../../../../VHDL/data/delay_test/xout_q_delay.txt", dtype=np.int32)

error_i = np.round(np.abs(xi_delay_1[6:] - np.round(xi_delay[:-6]*2**15)), 2)

# print(np.max(error_i), np.min(error_i), np.mean(error_i))
# for i, e in enumerate(error_i):
#     if e != 0:
#         print(i, e)

# error_q = np.sum(np.round(np.abs(xq_delay_1[6:] - np.round(xq_delay[:-6]*2**15)), 2))

# print(f"error_i = {error_i}, error_q = {error_q}")

plt.figure()
plt.plot(xi_delay[800:1000]*2**15)
plt.plot(xi_delay_1[805:1005])

plt.figure()
plt.plot(xq_delay[800:1000]*2**15)
plt.plot(xq_delay_1[805:1006])


xout_i_dsin = np.loadtxt("../../../../VHDL/data/delay_test/xout_i_dsin.txt", dtype=np.int32)
xout_q_dsin = np.loadtxt("../../../../VHDL/data/delay_test/xout_q_dsin.txt", dtype=np.int32)
xout_iq_dsin = xout_i_dsin + 1j*xout_q_dsin

print(len(xout_i_dsin))

freq_out_dsin, xfftdB_out_dsin, an = fftdB(xout_iq_dsin, True)
plt.figure()
plt.plot(freq_out_dsin, xfftdB_out_dsin)
plt.grid()





xout_i_ds = np.loadtxt("../../../../VHDL/data/delay_test/xout_i_ds.txt", dtype=np.int32)
xout_q_ds = np.loadtxt("../../../../VHDL/data/delay_test/xout_q_ds.txt", dtype=np.int32)
xout_iq_ds = xout_i_ds + 1j*xout_q_ds

print(len(xout_i_ds))

freq_out_ds, xfftdB_out_ds, an = fftdB(xout_iq_ds, True)
plt.figure()
plt.plot(freq_out_ds, xfftdB_out_ds)
plt.grid()


xout_i_stage2 = np.loadtxt("../../../../VHDL/data/delay_test/xout_i_stage2.txt", dtype=np.int32)
xout_q_stage2 = np.loadtxt("../../../../VHDL/data/delay_test/xout_q_stage2.txt", dtype=np.int32)
xout_i_stage2 = np.where(xout_i_stage2 == 0, -1, 1)
xout_q_stage2 = np.where(xout_q_stage2 == 0, -1, 1)
xout_iq_stage2 = xout_i_stage2 + 1j*xout_q_stage2

print(len(xout_i_stage2))

freq_out_stage2, xfftdB_out_stage2, an = fftdB(xout_iq_stage2, True)
plt.figure()
plt.plot(freq_out_stage2, xfftdB_out_stage2)
plt.xlim([-0.5/32, 0.5/32])
plt.grid()


xout_stage3 = np.loadtxt("../../../../VHDL/data/delay_test/xout_stage3.txt", dtype=np.int32)
xout_stage3 = np.where(xout_stage3 == 0, -1, 1)
print(len(xout_stage3))

freq_out_stage3, xfftdB_out_stage3, an = fftdB(xout_stage3, True)
freq_out_stage3 *= 4
plt.figure()
plt.plot(freq_out_stage3, xfftdB_out_stage3)
plt.xlim([1-0.5/32, 1+0.5/32])
plt.ylim([-150, 5])
plt.grid()



