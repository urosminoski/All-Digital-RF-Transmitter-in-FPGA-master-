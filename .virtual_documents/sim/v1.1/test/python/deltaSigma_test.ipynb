from signal_utils import *





N = 2**12
n = np.arange(N)
F = 0.02
x_test = 4.0 * np.sin(2*np.pi*F*n)

freqs_test, xfftdB_test, an_ = fftdB(x_test, True)
plt.figure()
plt.plot(freqs_test, xfftdB_test)
plt.grid()
plt.show()


np.savetxt("../../../../VHDL/data/deltaSigma_test/xin_test.txt", x_test, fmt="%.6f")


xout_test = np.loadtxt("../../../../VHDL/data/deltaSigma_test/xout_test.txt", dtype=np.int32)

freq_out_test, xfftdB_out_test, an = fftdB(xout_test, True)
plt.figure()
plt.plot(freq_out_test, xfftdB_out_test)
plt.grid()





N = 2**12
n = np.arange(N)
F = 0.02
xi_test = 4.0*np.cos(2*np.pi*F*n)
xq_test = 4.0*np.sin(2*np.pi*F*n)
xiq_test = xi_test + 1j*xq_test

freqs_test, xfftdB_test, an_ = fftdB(xiq_test, True)
plt.figure()
plt.plot(freqs_test, xfftdB_test)
plt.grid()
plt.show()


np.savetxt("../../../../VHDL/data/deltaSigma_test/xin_i_test.txt", xi_test, fmt="%.6f")
np.savetxt("../../../../VHDL/data/deltaSigma_test/xin_q_test.txt", xq_test, fmt="%.6f")


xout_i_test = np.loadtxt("../../../../VHDL/data/deltaSigma_test/xout_i_test.txt", dtype=np.int32)
xout_q_test = np.loadtxt("../../../../VHDL/data/deltaSigma_test/xout_q_test.txt", dtype=np.int32)
xout_iq_test = xout_i_test + 1j*xout_q_test

freq_out_test, xfftdB_out_test, an = fftdB(xout_iq_test, True)
plt.figure()
plt.plot(freq_out_test, xfftdB_out_test)
plt.grid()





xout_test_ = np.loadtxt("../../../../VHDL/data/lut_serializer_test/xout_test.txt", dtype=np.int32)
xout_test = np.where(xout_test_ == 0, -1, 1)

freq_out_test, xfftdB_out_test, an = fftdB(xout_test, True)
plt.figure()
plt.plot(freq_out_test, xfftdB_out_test)
plt.xlim(-0.5/32, 0.5/32)
plt.grid()



