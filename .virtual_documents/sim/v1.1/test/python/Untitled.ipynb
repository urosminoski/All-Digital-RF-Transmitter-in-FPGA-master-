from signal_utils import *








xout_i_osr8_test = np.loadtxt("../../../../VHDL/data/stage1_test/xout_i_osr8.txt", dtype=np.int32)
xout_q_osr8_test = np.loadtxt("../../../../VHDL/data/stage1_test/xout_q_osr8.txt", dtype=np.int32)
xout_iq_osr8_test = xout_i_osr8_test + 1j*xout_q_osr8_test

freq_out_stage1, xfftdB_out_stage1, an = fftdB(xout_iq_osr8_test, True)
plt.figure()
plt.plot(freq_out_stage1, xfftdB_out_stage1)
plt.grid()


print(np.max(xout_i_osr8_test)*2**-15)
print(np.min(xout_i_osr8_test)*2**-15)

print(np.max(xout_q_osr8_test)*2**-15)
print(np.min(xout_q_osr8_test)*2**-15)


xout_i_test = np.loadtxt("../../../../VHDL/data/stage1_test/xout_i.txt", dtype=np.int32)
xout_q_test = np.loadtxt("../../../../VHDL/data/stage1_test/xout_q.txt", dtype=np.int32)
xout_iq_test = xout_i_test + 1j*xout_q_test

freq_out_stage1, xfftdB_out_stage1, an = fftdB(xout_iq_test, True)
plt.figure()
plt.plot(freq_out_stage1, xfftdB_out_stage1)
plt.grid()



