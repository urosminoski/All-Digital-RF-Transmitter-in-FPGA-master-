from signal_utils import *


N = 2**10
n = np.arange(N)
F = 0.09
AdB = 100
perc = 0.15
Fmax = 0.5 * (1 - perc)

xi_test = (1 - 2**-11)*np.cos(2*np.pi*F*n)
xq_test = (1 - 2**-11)*np.sin(2*np.pi*F*n)
xiq_test = xi_test + 1j*xq_test

freqs_test, xfftdB_test, an_ = fftdB(xiq_test, True)
plt.figure()
plt.plot(freqs_test, xfftdB_test)
plt.grid()
plt.show()


np.savetxt("../../../../VHDL/data/stage1_test/xin_i_test.txt", xi_test, fmt="%.12f")
np.savetxt("../../../../VHDL/data/stage1_test/xin_q_test.txt", xq_test, fmt="%.12f")


xout_i_osr8_test = np.loadtxt("../../../../VHDL/data/stage1_test/xout_i_osr8.txt", dtype=np.int32)
xout_q_osr8_test = np.loadtxt("../../../../VHDL/data/stage1_test/xout_q_osr8.txt", dtype=np.int32)
xout_iq_osr8_test = xout_i_osr8_test + 1j*xout_q_osr8_test

print(np.min(xout_i_osr8_test)*2**-15, np.max(xout_i_osr8_test)*2**-15)
print(np.min(xout_q_osr8_test)*2**-15, np.max(xout_q_osr8_test)*2**-15)

freq_out_osr8, xfftdB_out_osr8, an = fftdB(xout_iq_osr8_test, True)
plt.figure()
plt.plot(freq_out_osr8, xfftdB_out_osr8)
plt.grid()


xout_i_delay_test = np.loadtxt("../../../../VHDL/data/stage1_test/xout_i_delay.txt", dtype=np.int32)
xout_q_delay_test = np.loadtxt("../../../../VHDL/data/stage1_test/xout_q_delay.txt", dtype=np.int32)
xout_iq_delay_test = xout_i_delay_test + 1j*xout_q_delay_test

print(np.min(xout_i_delay_test)*2**-12, np.max(xout_i_delay_test)*2**-12)
print(np.min(xout_q_delay_test)*2**-12, np.max(xout_q_delay_test)*2**-12)

freq_out_delay, xfftdB_out_delay, an = fftdB(xout_iq_delay_test, True)
plt.figure()
plt.plot(freq_out_delay, xfftdB_out_delay)
plt.grid()


xout_i_ds_test = np.loadtxt("../../../../VHDL/data/stage1_test/xout_i_ds.txt", dtype=np.int32)
xout_q_ds_test = np.loadtxt("../../../../VHDL/data/stage1_test/xout_q_ds.txt", dtype=np.int32)
xout_iq_ds_test = xout_i_ds_test + 1j*xout_q_ds_test

print(np.min(xout_i_ds_test)*2**-12, np.max(xout_i_ds_test)*2**-12)
print(np.min(xout_q_ds_test)*2**-12, np.max(xout_q_ds_test)*2**-12)

freq_out_delay, xfftdB_out_delay, an = fftdB(xout_iq_delay_test, True)
plt.figure()
plt.plot(freq_out_delay, xfftdB_out_delay)
plt.grid()


xout_i_stage1_test = np.loadtxt("../../../../VHDL/data/stage1_test/xout_i_stage1.txt", dtype=np.int32)
xout_q_stage1_test = np.loadtxt("../../../../VHDL/data/stage1_test/xout_q_stage1.txt", dtype=np.int32)
xout_iq_stage1_test = xout_i_stage1_test + 1j*xout_q_stage1_test

freq_out_stage1, xfftdB_out_stage1, an = fftdB(xout_iq_stage1_test, True)
plt.figure()
plt.plot(freq_out_stage1, xfftdB_out_stage1)
plt.grid()


print(np.max(xout_i_test)*2**-15)
print(np.min(xout_i_test)*2**-15)

print(np.max(xout_q_test)*2**-15)
print(np.min(xout_q_test)*2**-15)



