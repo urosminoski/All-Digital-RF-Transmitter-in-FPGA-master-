from signal_utils import *





N = 2**12
n = np.arange(N)
F = 0.2

perc = 0.15
Fmax = 0.5 * (1 - perc)

xi_test = (1 - 2**-11)*np.cos(2*np.pi*F*n)
xq_test = (1 - 2**-11)*np.sin(2*np.pi*F*n)
xiq_test = xi_test + 1j*xq_test

freqs_test, xfftdB_test, an_ = fftdB(xiq_test, True)
plt.figure()
plt.plot(freqs_test, xfftdB_test)
plt.grid()
plt.show()


np.savetxt("../../../../VHDL/data/rfTransmitter_test/xin_i_test.txt", xi_test, fmt="%.12f")
np.savetxt("../../../../VHDL/data/rfTransmitter_test/xin_q_test.txt", xq_test, fmt="%.12f")



