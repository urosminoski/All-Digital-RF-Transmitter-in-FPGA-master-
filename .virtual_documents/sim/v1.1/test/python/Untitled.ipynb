from signal_utils import *
import scipy.signal as signal





N = 2**12
n = np.arange(N)
F1 = 0.04
F2 = 0.43
x_test = 1.0*np.sin(2*np.pi*F1*n) + 1.0*np.sin(2*np.pi*F2*n)
x_test /= np.max(x_test)

np.savetxt("../../../../VHDL/data/fir_test/xin_test.txt", x_test, fmt="%.12f")

freqs_test, xfftdB_test, an_ = fftdB(x_test, True)
plt.figure()
plt.plot(freqs_test, xfftdB_test)
plt.grid()
plt.show()


AdB = 100
deltaPass = 10**(-AdB/20)
deltaStop = deltaPass

perc = 0.15
Fmax = 0.5 * (1 - perc)
Fpass = Fmax/2
Fstop = (1-Fmax)/2


firCoeff = remezlp(Fpass, Fstop, deltaPass, deltaStop, even_n = False, nPoints=N, Nmax=N)
print(len(firCoeff))

w, h = scipy.signal.freqz(firCoeff, worN=len(mixChirp)//2)
H = 20*np.log10(abs(h))
H -= np.max(H)
H_full = np.concatenate((H[::-1], H))

# w_hb, h_hb = scipy.signal.freqz(firCoeff_hb)
# H_hb = 20*np.log10(abs(h_hb))
# H_hb -= np.max(H_hb)

plt.figure(figsize=(12,6))
plt.plot(w/(2*np.pi), H, label="Remezov algoritam");
# plt.plot(w_hb/(2*np.pi), H_hb, label="HB korekcija");
plt.plot([0, 0.5], [-AdB, -AdB], 'r--', linewidth=0.5)
plt.plot([Fpass,Fpass], [np.min(H), 0], 'r--');
plt.plot([Fstop,Fstop], [np.min(H), 0], 'r--');
plt.legend()
plt.title(r'Amplitudna karakteristika FIR filtra', fontsize=16)
plt.xlabel(r'Normalizovana frekvencija ($f/f_s$)', fontsize=14)
plt.ylabel(r'$|H(f)| \ [dB]$', fontsize=14)
plt.grid(True)
plt.show();






