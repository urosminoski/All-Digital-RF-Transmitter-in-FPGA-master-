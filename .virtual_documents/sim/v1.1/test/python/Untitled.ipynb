from signal_utils import *


N = 2**14
n = np.arange(N)
F = 0.014
x_test = 4.0 * np.sin(2*np.pi*F*n)

freqs_test, xfftdB_test, an_ = fftdB(x_test, True)
plt.figure()
plt.plot(freqs_test, xfftdB_test)
plt.grid()
plt.show()


np.savetxt("../../../../VHDL/data/deltaSigma_test/xin_test.txt", x_test, fmt="%.6f")


xout_test = np.loadtxt("../../../../VHDL/data/deltaSigma_test/xout_test.txt", dtype=np.int32)

freq_out_test, xfftdB_out_test, an = fftdB(xout_test, True)
plt.figure()
plt.plot(freq_out_test, xfftdB_out_test)
plt.grid()


print(N)



