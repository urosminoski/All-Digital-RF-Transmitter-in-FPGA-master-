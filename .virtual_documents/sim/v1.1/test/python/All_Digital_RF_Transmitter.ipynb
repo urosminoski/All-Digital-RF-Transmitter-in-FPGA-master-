from signal_utils import *


from dataclasses import dataclass
from typing import List, Optional

@dataclass
class RFProcessingConfig:
    N: int
    F: float
    delay_kernel: List[float]
    i_delta: float
    q_delta: float
    osr: int
    AdB: float
    Fmax: float
    cpp_path: str
    quant_type: str
    LUT: List[List[int]]
    dtype: str
    plotShow: bool


def plotFigure(x, x_range, title="", AdB=None, freq_factor=None, y_range=None):
    freqs, xfftdB, angle = fftdB(x, win=True)
    if freq_factor:
        freqs *= freq_factor
    xmin = x_range[0]
    xmax = x_range[1]
    plt.title(title)
    plt.plot(freqs, xfftdB)
    if AdB:
        plt.plot([xmin, xmax], [-AdB, -AdB], '--r')
    plt.xlim([xmin, xmax])
    if y_range:
        plt.ylim([y_range[0], y_range[1]])
    plt.xlabel("f/fs")
    plt.ylabel("|X|dB")
    plt.grid()
    plt.show();   

def process(x, config):
    N = config.N
    n = np.arange(N)
    F = config.F
    i_delta = config.i_delta #1/8 * 1/32*1/8
    q_delta = config.q_delta #-1/8 * 1/32*1/8
    
    AdB = config.AdB
    perc = 0.15
    Fmax = config.Fmax
    
    # xi = 1.0 * np.cos(2*np.pi*F*n)
    # xq = 1.0 * np.sin(2*np.pi*F*n)
    # x = xi + 1j*xq

    if config.dtype == "true-shift":
        # True Fractional Shift
        xi_shift = 1.0 * np.cos(2*np.pi*F*(n-i_delta))
        xq_shift = 1.0 * np.sin(2*np.pi*F*(n-q_delta))
    elif config.dtype == "taylor-shift":
        xi = x[0]
        xq = x[1]
        xi_shift = frac_delay_1st(xi, i_delta, config.delay_kernel)
        xq_shift = frac_delay_1st(xq, q_delta, config.delay_kernel)
    elif config.dtype == "no-shift":
        xi_shift = x[0]
        xq_shift = x[1]
    
    # Interpolation
    OSR = config.osr
    deltaPass = 10**(-AdB/20)
    deltaStop = deltaPass
    delta_interpolation = [deltaPass, deltaStop]
    F_interpolation = [Fmax, 1-Fmax]
    xi_osr = np.real(interpolate(xi_shift, OSR, F_interpolation, delta_interpolation, show=False, prt=False))
    xq_osr = np.real(interpolate(xq_shift, OSR, F_interpolation, delta_interpolation, show=False, prt=False))
    
    # Delta-Sigma modulation
    # factor = 4/np.max(np.abs(xi_osr + 1j*xq_osr))
    factor = 4*OSR
    xi_osr *= factor
    xq_osr *= factor
    quant_type = config.quant_type
    cpp_path = config.cpp_path
    xi_in_path = "./data/serial/xi_in.txt"
    xq_in_path = "./data/serial/xq_in.txt"
    xi_out_path = "./data/serial/xi_out.txt"
    xq_out_path = "./data/serial/xq_out.txt"
    iir_path = "../data/input/deltaSigma_iirs.txt"
    np.savetxt(xi_in_path, xi_osr, fmt="%.18e")
    np.savetxt(xq_in_path, xq_osr, fmt="%.18e")
    subprocess.run([cpp_path, xi_in_path, xq_in_path, xi_out_path, xq_out_path, iir_path, quant_type])  # Call the C++ program with input and output file paths as arguments
    xi_deltaSigma = np.loadtxt(xi_out_path)
    xq_deltaSigma = np.loadtxt(xq_out_path)
    
    # Serialization
    LUT = config.LUT
    xi_1b = convert_1b_optimized(xi_deltaSigma, LUT, quant_type)
    xq_1b = convert_1b_optimized(xq_deltaSigma, LUT, quant_type)
    
    # RFIQ
    x_rfiq = rfiq(xi_1b, xq_1b)
    

    if config.plotShow:
        x_delay_true = xi_shift + 1j*xq_shift
        x_osr = xi_osr + 1j*xq_osr
        x_deltaSigma = xi_deltaSigma + 1j*xq_deltaSigma
        x_1b = xi_1b + 1j*xq_1b
        
        xrange = np.array([-.5, .5])
        # plotFigure(x, xrange)
        plotFigure(x_delay_true, xrange, title = "Delayed Signal")
        plotFigure(x_osr, xrange, AdB=AdB, title = f"Interpolated Signal, OSR = {OSR}")
        plotFigure(x_deltaSigma, xrange, title = "Delta-Sigma Modulation")
        plotFigure(x_1b, xrange/len(LUT[0]), title = "Serialized Signal, LUT")
        plotFigure(x_rfiq, xrange/len(LUT[0])+1, freq_factor=4, y_range=[-150,5], title = "Reconstructed Signal on fs")
        # plotFigure(x_rfiq, xrange/len(LUT[0])/8+1, freq_factor=4, y_range=[-150,5])

    return x_rfiq

def find_SNR(x, f_range, bandwidth=0.005):
    freqs, spectrum_dB, _ = fftdB(x)
    freqs *= 4  # or whatever scaling is correct for your freq axis

    f_low, f_high = f_range

    # 1. Get frequency range of interest
    idx_band = np.where((freqs >= f_low) & (freqs <= f_high))[0]
    freqs_band = freqs[idx_band]
    spectrum_band = spectrum_dB[idx_band]

    # 2. Find peak index (signal)
    idx_peak_local = np.argmax(spectrum_band)
    peak_freq = freqs_band[idx_peak_local]
    signal_level = spectrum_band[idx_peak_local]

    # 3. Exclude bins around the peak
    idx_exclude_local = np.where(
        (freqs_band >= peak_freq - bandwidth) &
        (freqs_band <= peak_freq + bandwidth)
    )[0]

    # 4. Keep only noise bins
    idx_noise_local = np.setdiff1d(np.arange(len(freqs_band)), idx_exclude_local)

    if len(idx_noise_local) == 0:
        raise ValueError("No noise bins left after excluding signal.")

    noise_floor = np.max(spectrum_band[idx_noise_local])

    return signal_level - noise_floor


k3 = np.array([0.5, 0.0, -0.5])
k5 = np.array([-1, 8, 0, -8, +1]) / 12.0
k7 = np.array([1, -9, +45, 0, -45, +9, -1]) / 60.0
k9 = np.array([-1, 12, -39, +56, 0, -56, +39, -12, +1]) / 280.0


cpp_path = "../build/delta-sigma" #"../build/delta-sigma"
quant_type = 'mid-tread'
LUT = LUT3

N = 2**12
n = np.arange(N)
perc = 0.15
Fmax = 0.5 * (1 - perc)

i_delta = -1/8 * 1/8 * 1/len(LUT[0])
q_delta = 1/8 * 1/8 * 1/len(LUT[0])

OSR = 8

F = 0.14567
xi_test = 1.0*np.cos(2*np.pi*F*n)
xq_test = 1.0*np.sin(2*np.pi*F*n)
x = [xi_test, xq_test]

config = RFProcessingConfig(
    N = N,
    F = F,
    delay_kernel = k7,
    i_delta = i_delta,
    q_delta = q_delta,
    osr = 8,
    AdB = 85,
    Fmax = Fmax,
    cpp_path = cpp_path,
    quant_type = quant_type,
    LUT = LUT,
    dtype = "taylor-shift",
    plotShow = True,
)

x_rfiq = process(x, config)

factor = 0.5 / len(LUT[0]) / 8
bandwidth = 0.1 / len(LUT[0]) / 8
f_range = [1 - factor, 1 + factor]
snr = find_SNR(x_rfiq, f_range=f_range, bandwidth=bandwidth)
print(f"SNR = {snr}")





config = RFProcessingConfig(
    N = N,
    F = 0,
    delay_kernel = k7,
    i_delta = i_delta,
    q_delta = q_delta,
    osr = OSR,
    AdB = 100,
    Fmax = Fmax,
    cpp_path = cpp_path,
    quant_type = quant_type,
    LUT = LUT,
    dtype = "taylor-shift",
    plotShow = False,
)

F = np.linspace(0.001, Fmax-0.01, 1024)
dtype_a = np.array(["no-shift", "taylor-shift"])
SNR = np.zeros((dtype_a.size, F.size))

total = len(dtype_a) * len(F)
counter = 0

for i, dtype in enumerate(dtype_a):
    config.dtype = dtype
    for j, f in enumerate(F):
        xi = 1.0 * np.cos(2 * np.pi * f * n)
        xq = 1.0 * np.sin(2 * np.pi * f * n)
        x = [xi, xq]

        config.F = f
        x_rfiq = process(x, config)

        factor = len(LUT[0]) * OSR
        bandwidth = 0.1 / factor
        f_range = [1 - 0.5 / factor, 1 + 0.5 / factor]
        snr = -find_SNR(x_rfiq, f_range=f_range, bandwidth=bandwidth)
        SNR[i, j] = snr

        counter += 1
        print(f"Progress: {counter}/{total} ({100 * counter / total:.1f}%)", end='\r')





n_frac = 11
xi_q11 = float_to_q1n(xi_test, n_frac)
xq_q11 = float_to_q1n(xq_test, n_frac)

np.savetxt("../../../../VHDL/data/xin_i.txt", xi_q11, fmt="%d")
np.savetxt("../../../../VHDL/data/xin_q.txt", xq_q11, fmt="%d")

AdB = 100
OSR = 8
deltaPass = 10**(-AdB/20)
deltaStop = deltaPass
delta_interpolation = [deltaPass, deltaStop]
perc = 0.15
Fmax = 0.5 * (1 - perc)
F_interpolation = [Fmax, 1-Fmax]
xi_osr = np.real(interpolate(xi_test, OSR, F_interpolation, delta_interpolation, show=False, prt=True))

fir0 = np.array([1.42913225e-05, -1.25469998e-07, -3.95164214e-05,  2.00697358e-07,
        9.10726421e-05, -5.03720706e-07, -1.83517720e-04,  8.28311364e-07,
        3.37020847e-04, -1.45883566e-06, -5.78304995e-04,  2.19153555e-06,
        9.40386412e-04, -3.30630520e-06, -1.46432342e-03,  4.59161987e-06,
        2.19919995e-03, -6.30772317e-06, -3.20461151e-03,  8.19780208e-06,
        4.55242030e-03, -1.04842771e-05, -6.33284126e-03,  1.28781958e-05,
        8.66331313e-03, -1.55512021e-05, -1.17086059e-02,  1.81842202e-05,
        1.57184958e-02, -2.08973517e-05, -2.11115317e-02,  2.33480901e-05,
        2.86693917e-02, -2.56599902e-05, -4.00697440e-02,  2.74838396e-05,
        5.96948150e-02, -2.89563716e-05, -1.03678482e-01,  2.97825256e-05,
        3.17492818e-01,  4.99967636e-01,  3.17492818e-01,  2.97825256e-05,
       -1.03678482e-01, -2.89563716e-05,  5.96948150e-02,  2.74838396e-05,
       -4.00697440e-02, -2.56599902e-05,  2.86693917e-02,  2.33480901e-05,
       -2.11115317e-02, -2.08973517e-05,  1.57184958e-02,  1.81842202e-05,
       -1.17086059e-02, -1.55512021e-05,  8.66331313e-03,  1.28781958e-05,
       -6.33284126e-03, -1.04842771e-05,  4.55242030e-03,  8.19780208e-06,
       -3.20461151e-03, -6.30772317e-06,  2.19919995e-03,  4.59161987e-06,
       -1.46432342e-03, -3.30630520e-06,  9.40386412e-04,  2.19153555e-06,
       -5.78304995e-04, -1.45883566e-06,  3.37020847e-04,  8.28311364e-07,
       -1.83517720e-04, -5.03720706e-07,  9.10726421e-05,  2.00697358e-07,
       -3.95164214e-05, -1.25469998e-07,  1.42913225e-05])
fir1 = np.array([7.45880558e-04,  4.20362887e-14, -5.65415293e-03, -4.07624618e-14,
        2.34193754e-02,  3.26520408e-14, -7.49445558e-02, -2.14447011e-14,
        3.06435005e-01,  4.99996896e-01,  3.06435005e-01, -2.14447011e-14,
       -7.49445558e-02,  3.26520408e-14,  2.34193754e-02, -4.07624618e-14,
       -5.65415293e-03,  4.20362887e-14,  7.45880558e-04])
fir2 = np.array([6.73047457e-03,  1.80845557e-05, -5.12997224e-02, -6.24390614e-05,
        2.94570558e-01,  5.00086089e-01,  2.94570558e-01, -6.24390614e-05,
       -5.12997224e-02,  1.80845557e-05,  6.73047457e-03])


N=1024*4
F=0.02
x_test=4.0*np.sin(2*np.pi*F*np.arange(N))
x_test_q11 = float_to_q1n(x_test, 8)

np.savetxt("../../../../VHDL/data/xin_test.txt", x_test, fmt="%.6f")

xout_test = np.loadtxt("../../../../VHDL/data/xout_test.txt", dtype=np.int32)

freq, xout_test_fftdB, an = fftdB(xout_test, True)
plt.figure()
plt.plot(freq, xout_test_fftdB)


cpp_path = "../build/delta-sigma" #"../build/delta-sigma"
quant_type = 'mid-tread'
xi_in_path = "./data/serial/xi_in.txt"
xq_in_path = "./data/serial/xq_in.txt"
xi_out_path = "./data/serial/xi_out.txt"
xq_out_path = "./data/serial/xq_out.txt"
iir_path = "../data/input/deltaSigma_iirs.txt"
np.savetxt(xi_in_path, x_test, fmt="%.18e")
np.savetxt(xq_in_path, x_test, fmt="%.18e")
subprocess.run([cpp_path, xi_in_path, xq_in_path, xi_out_path, xq_out_path, iir_path, quant_type])  # Call the C++ program with input and output file paths as arguments
xi_deltaSigma = np.loadtxt(xi_out_path)
xq_deltaSigma = np.loadtxt(xq_out_path)


freq, xout_test_fftdB, an = fftdB(xi_deltaSigma, True)
plt.figure()
plt.plot(freq, xout_test_fftdB)
plt.grid()




















def interpolate(x, I, F, delta, show=False, prt=False):


    iterator = int(np.log(I)/np.log(2))
    for i in range(iterator):
        Fstop = (1 - Fpass)/2
        Fpass /= 2
        firCoeff = remezlp(Fpass, Fstop, deltaPass, deltaStop, even_n = False, nPoints=N, Nmax=N)
        firCoeff /= np.sum(np.array(firCoeff))
        # print(len(firCoeff))
        x = expander(x, 2)
        x = signal.lfilter(firCoeff, 1.0, np.concatenate((x, x[:len(firCoeff)-1])))[len(firCoeff)-1:]
        # x = polyI(x, firCoeff, 2)

        firCoeffs.append(firCoeff)
        Fpass_arr.append(Fpass)
        Fstop_arr.append(Fstop)
        dF.append(Fstop - Fpass)
        N_fir.append(firCoeff.size)
        if show:
            plotdB(x, win = True)
            plt.plot([-0.5,0.5], [-AdB, -AdB], '--r')
            plt.ylim([-150, 10])
            plt.show();
    if prt:
        print(f"Fpass = {Fpass_arr}")
        print(f"Fstop = {Fstop_arr}")
        print(f"dF = {dF}")
        print(f"N_fir = {N_fir}")
        print(firCoeffs)

    return x


def interpolate_q1n(x_q, firCoeffs_q, N, n_frac=15):
    xin = np.asarray(x_q)
    for i, h_q in enumerate(firCoeffs_q):
        xin = poly_interpolation_q1n(xin, h_q, 2, n_frac)
    return xin

# def deltaSigma_q1n(x, )




n_frac = 20
x_ = float_to_q1n(xi_test/np.max(xi_test), n_frac)
fir0_ = float_to_q1n(fir0/np.max(fir0), n_frac)

xdec = poly_interpolation_q1n(x_, fir0_, 2, n_frac)
freqs_2, xdec_ffrdB, an = fftdB(xdec, True)

plt.figure()
plt.plot(freqs_2, xdec_ffrdB)
plt.grid()


n_frac = 11
firCoeffs = [fir0, fir1, fir2]
firCoeffs_q = [float_to_q1n(v/np.max(v), n_frac) for v in firCoeffs]

x_q1n = float_to_q1n(xi_test/np.max(xi_test), n_frac)

x_osr8_q1n = interpolate_q1n(x_q1n, firCoeffs_q, 3, n_frac)

f_, x_, a_ = fftdB(x_osr8_q1n, True)

plt.plot(f_, x_)
plt.grid()








xi_test_q11 = float_to_q1n(xi_test, n_frac)
print(n_frac)
print(np.min(xi_test_q11)*2**-11)
print(np.min(xi_test))


F=0.134
xc = np.cos(2*np.pi*F*np.arange(2**16))
print(np.min(xc), np.max(xc))



