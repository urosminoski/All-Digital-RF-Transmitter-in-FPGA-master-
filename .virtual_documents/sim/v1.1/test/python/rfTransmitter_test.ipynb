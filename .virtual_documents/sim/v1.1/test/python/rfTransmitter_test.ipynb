from signal_utils import *

np.savetxt("../../../../VHDL/data/rfTransmitter_test/LUT1.txt", LUT1.astype(int), fmt="%d", delimiter=" ")
np.savetxt("../../../../VHDL/data/rfTransmitter_test/LUT2.txt", LUT2.astype(int), fmt="%d", delimiter=" ")
np.savetxt("../../../../VHDL/data/rfTransmitter_test/LUT3.txt", LUT3.astype(int), fmt="%d", delimiter=" ")
np.savetxt("../../../../VHDL/data/rfTransmitter_test/LUT4.txt", LUT4.astype(int), fmt="%d", delimiter=" ")
np.savetxt("../../../../VHDL/data/rfTransmitter_test/LUT5.txt", LUT5.astype(int), fmt="%d", delimiter=" ")





N = 2**12
n = np.arange(N)
F = 0.2
AdB = 100
perc = 0.15
Fmax = 0.5 * (1 - perc)

xi_test = (1 - 2**-11)*np.cos(2*np.pi*F*n)
xq_test = (1 - 2**-11)*np.sin(2*np.pi*F*n)
xiq_test = xi_test + 1j*xq_test

freqs_test, xfftdB_test, an_ = fftdB(xiq_test, True)
plt.figure()
plt.plot(freqs_test, xfftdB_test)
plt.grid()
plt.show()


np.savetxt("../../../../VHDL/data/rfTransmitter_test/xin_i_test.txt", xi_test, fmt="%.12f")
np.savetxt("../../../../VHDL/data/rfTransmitter_test/xin_q_test.txt", xq_test, fmt="%.12f")


xout_i_test = np.loadtxt("../../../../VHDL/data/rfTransmitter_test/xout_i_test.txt", dtype=np.int32)
xout_q_test = np.loadtxt("../../../../VHDL/data/rfTransmitter_test/xout_q_test.txt", dtype=np.int32)
xout_iq_test = xout_i_test + 1j*xout_q_test

freq_out_test, xfftdB_out_test, an = fftdB(xout_iq_test, True)
plt.figure()
plt.plot(freq_out_test, xfftdB_out_test)
plt.plot([Fmax/8, Fmax/8], [-200, 5], "--r")
plt.plot([-Fmax/8, -Fmax/8], [-200, 5], "--r")
plt.plot([-0.5, 0.5], [-AdB, -AdB], "--r")
plt.grid()



