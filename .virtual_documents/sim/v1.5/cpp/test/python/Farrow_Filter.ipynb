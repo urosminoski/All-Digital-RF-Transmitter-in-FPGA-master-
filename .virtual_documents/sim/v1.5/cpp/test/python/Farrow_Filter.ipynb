from signal_utils import *


C0 = np.array([-0.1667, 0.5, -0.5, 0.1667])
C1 = np.array([0.5, -1, 0.5, 0])
C2 = np.array([-0.3333, -0.5, 1, -1.1667])
C3 = np.array([0, 1, 0, 0])
C = [C0, C1, C2, C3]

# Reverse each Ci to get Hi
H = [np.flip(Ci) for Ci in C]
# Display H
for i, Hi in enumerate(H):
    print(f"H{i} =", Hi)


def firrow_filter(x, delta):
    C0 = np.array([-0.1667, 0.5, -0.5, 0.1667])
    C1 = np.array([0.5, -1, 0.5, 0])
    C2 = np.array([-0.3333, -0.5, 1, -1.1667])
    C3 = np.array([0, 1, 0, 0])
    C = [C0, C1, C2, C3]
    # Reverse each Ci to get Hi
    H = [np.flip(Ci) for Ci in C]

    y0 = signal.lfilter(H[0], 1.0, x)
    y1 = signal.lfilter(H[1], 1.0, x)
    y2 = signal.lfilter(H[2], 1.0, x)
    y3 = signal.lfilter(H[3], 1.0, x)

    y = y3 + delta*(y2 + delta*(y1 + delta*y0))
        
    return y


# Impulse signal
N = 1024
impulse = np.zeros(N)
impulse[0] = 1.0

# Apply your Farrow filter to impulse
delta = 0.5
h = firrow_filter(impulse, delta)

# Calculate frequency response
w, H = signal.freqz(h, worN=N, whole=False)

# Convert to cycles/sample
freq = w / (2 * np.pi)

# Phase response in radians
phase_response = np.unwrap(np.angle(H))
print(np.sum(phase_response))

plt.figure(figsize=(12, 6))
plt.subplot(2, 1, 1)
plt.plot(freq, 20 * np.log10(np.abs(H)))
plt.title('Farrow filter magnitude response')
plt.xlabel('Frequency [cycles/sample]')
plt.ylabel('Magnitude [dB]')
plt.grid()

plt.subplot(2, 1, 2)
plt.plot(freq, phase_response)
plt.title('Farrow filter phase response')
plt.xlabel('Frequency [cycles/sample]')
plt.ylabel('Phase [radians]')
plt.grid()

plt.tight_layout()
plt.show()





N = 256
n = np.arange(N)
F0 = 2/N

OSR = 4*2
AdB = 40
deltaPass = 10**(-AdB/20)
deltaStop = deltaPass
perc = 0.15
Fmax = 0.5 * (1 - perc) 
F = [Fmax, 1-Fmax]
delta = [deltaPass, deltaStop]
deltaFarrow = 0.5


x = 1.0 * np.cos(2*np.pi*n*F0)

from scipy.interpolate import BarycentricInterpolator
import numpy as np

# Example data
x = np.array([0, 1, 2, 3])
y = np.sin(2 * np.pi * x / 4)

# Create interpolator (cubic since 4 points)
interpolator = BarycentricInterpolator(x, y)

# Interpolate at fine grid
x_fine = np.linspace(0, 3, 100)
y_fine = interpolator(x_fine)



# plt.figure()
# plt.plot(axis_xi, xi)
# plt.stem(axis_x, x, '--k')
plt.plot(axis_xi, xi)






