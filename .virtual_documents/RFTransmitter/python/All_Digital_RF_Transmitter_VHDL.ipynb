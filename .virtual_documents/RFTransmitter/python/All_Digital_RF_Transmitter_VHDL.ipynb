


import sys, os
sys.path.append(os.path.dirname(os.getcwd()))

from signal_utils import *

import numpy as np
from pathlib import Path

# Parametri
N = 1024
n = np.arange(N)
perc = 0.15
Fmax = 0.5 * (1 - perc)
print(Fmax)

M = 64
Fstart = 0.01
Fstop = Fmax - 0.01
F_test = np.linspace(Fstart, Fstop, M)

OUTDIR = Path(r"../data/input/")
OUTDIR.mkdir(parents=True, exist_ok=True)

np.savetxt(OUTDIR / "N_000.txt", [M], fmt="%d")

for k, f in enumerate(F_test):
    # signal
    xi = (1.0 - 1.0*1e-15) * np.cos(2*np.pi*f*n)
    xq = (1.0 - 1.0*1e-15) * np.sin(2*np.pi*f*n)

    # ime fajla: index + frekvencija na 3 decimale
    # ftag = f"{f:.3f}"          # npr. '0.123'
    ftag = f"{f:.3f}".replace('.', 'p')   # '0p123'

    fi = OUTDIR / f"xinI_{k:03d}_f{ftag}.txt"
    fq = OUTDIR / f"xinQ_{k:03d}_f{ftag}.txt"

    # upis – real po liniji, kako TB već čita
    np.savetxt(fi, xi, fmt="%.15f")
    np.savetxt(fq, xq, fmt="%.15f")

print("Gotovo: generisani su svi ulazni fajlovi.")



from pathlib import Path
import numpy as np

def one(glob_iter, err):
    """Vrati tačno jedan fajl ili baci jasan exception."""
    try:
        return next(glob_iter)
    except StopIteration:
        raise FileNotFoundError(err)

def collect_files(OUTDIR, stage: int, idx: int):
    idx_str = f"{idx:03d}"
    stage_dir = OUTDIR / f"stage{stage}"

    if stage in (1, 2):
        fi = one(stage_dir.glob(f"xout_i_stage{stage}_{idx_str}_*.txt"),
                 f"Nije nađen i-fajl za stage{stage}, idx={idx_str}")
        fq = one(stage_dir.glob(f"xout_q_stage{stage}_{idx_str}_*.txt"),
                 f"Nije nađen q-fajl za stage{stage}, idx={idx_str}")
        return fi, fq
    elif stage == 3:
        f = one(stage_dir.glob(f"xout_stage3_{idx_str}_*.txt"),
                f"Nije nađen fajl za stage3, idx={idx_str}")
        return f
    else:
        raise ValueError("Stage mora biti 1, 2 ili 3.")

def load_vec(path: Path, dtype=float):
    """Učitaj 1D vektor iz .txt (whitespace delimiter)."""
    arr = np.loadtxt(path, dtype=dtype, ndmin=1)  # ndmin=1 garantuje 1D
    return arr

def bin01_to_pm1(x):
    """Mapiraj {0,1} -> {-1,+1} bez kopiranja nepotrebno."""
    # Ako x nije celobrojan, prvo ga zaokruži ili cast-uj po potrebi.
    xi = x.astype(np.int8, copy=False)
    return np.where(xi == 0, -1, 1).astype(np.int8, copy=False)

def get_fftdB(OUTDIR, i, idx):
    if i==1:
        si_path, sq_path = collect_files(OUTDIR, i, idx)
        si = load_vec(si_path, dtype=int)
        sq = load_vec(sq_path, dtype=int)
        s=si+1j*sq
        s_freq, s_fftdB, an = fftdB_f(s, True)
        
    elif i==2:
        si_path, sq_path = collect_files(OUTDIR, i, idx)
        si_raw = load_vec(si_path, dtype=int)
        sq_raw = load_vec(sq_path, dtype=int)
        si = bin01_to_pm1(si_raw)
        sq = bin01_to_pm1(sq_raw)
        s=si+1j*sq
        s_freq, s_fftdB, an = fftdB_f(s, True)

    elif i==3:
        s_path = collect_files(OUTDIR, i, idx)
        s_raw = load_vec(s_path, dtype=int)
        s = bin01_to_pm1(s_raw)
        s_freq, s_fftdB, an = fftdB_f(s, True)
        s_freq*=4

    return s_freq, s_fftdB

def plotResults(OUTDIR, N):
    for idx in range(N):        
        s1_freq, s1_fftdB = get_fftdB(OUTDIR, 1, idx)
        s2_freq, s2_fftdB = get_fftdB(OUTDIR, 2, idx)
        s3_freq, s3_fftdB = get_fftdB(OUTDIR, 3, idx)
    
        fig, axes = plt.subplots(1, 3, figsize=(15, 4))  # 1 red, 3 kolone
        # Stage 1
        axes[0].plot(s1_freq, s1_fftdB)
        axes[0].set_ylim([-145, 5])
        axes[0].set_title("Stage 1")
        axes[0].set_xlabel("Frequency")
        axes[0].set_ylabel("dB")
        axes[0].grid(True)
        # Stage 2
        axes[1].plot(s2_freq, s2_fftdB)
        axes[1].set_xlim([-0.5/32, 0.5/32])
        axes[1].set_ylim([-145, 5])
        axes[1].set_title("Stage 2")
        axes[1].set_xlabel("Frequency")
        axes[1].set_ylabel("dB")
        axes[1].grid(True)
        # Stage 3
        axes[2].plot(s3_freq, s3_fftdB)
        axes[2].set_xlim([1-0.5/32, 1+0.5/32])
        axes[2].set_ylim([-145, 5])
        axes[2].set_title("Stage 3")
        axes[2].set_xlabel("Frequency")
        axes[2].set_ylabel("dB")
        axes[2].grid(True)
        plt.tight_layout()
        plt.show()


def find_SNR(spectrum_dB, freqs, f_range, bandwidth_bins=5, plot=False):
    """
    Računanje SNR-a iz spektra i crtanje granica opsega signala.
    """
    f_low, f_high = f_range

    # 1. Opseg interesa
    idx_band = np.where((freqs >= f_low) & (freqs <= f_high))[0]
    freqs_band = freqs[idx_band]
    spectrum_band = spectrum_dB[idx_band]

    # 2. Pik
    idx_peak_local = np.argmax(spectrum_band)
    peak_freq = freqs_band[idx_peak_local]
    signal_level = spectrum_band[idx_peak_local]

    # 3. Indeksi ± bandwidth_bins
    start = max(0, idx_peak_local - bandwidth_bins)
    stop = min(len(spectrum_band), idx_peak_local + bandwidth_bins + 1)

    f_left = freqs_band[start]
    f_right = freqs_band[stop-1]

    # Plot spektra i granica
    if plot:
        plt.figure()
        plt.plot(freqs_band, spectrum_band, 'k-')
        plt.axvline(f_left, color='r', linestyle='--')
        plt.axvline(f_right, color='r', linestyle='--')
        plt.title("Spektar sa označenim signalnim opsegom")
        plt.xlabel("Frekvencija [Hz]")
        plt.ylabel("Amplituda [dB]")
        plt.grid(True)

    # 4. Preostali noise binovi
    idx_exclude_local = np.arange(start, stop)
    idx_noise_local = np.setdiff1d(np.arange(len(spectrum_band)), idx_exclude_local)

    if len(idx_noise_local) == 0:
        raise ValueError("No noise bins left after excluding signal.")

    noise_floor = np.max(spectrum_band[idx_noise_local])

    return signal_level - noise_floor


OUTDIR = Path(r"../data/output/16bit/LUT3/kernel3")
plotResults(OUTDIR, N=1)


OUTDIR = Path(r"../data/output/12bit/LUT3/kernel7")
plotResults(OUTDIR, N=1)


OUTDIR = Path(r"../data/output/16bit/LUT3/kernel3")
plotResults(OUTDIR, N=1)


OUTDIR = Path(r"../data/output/16bit/LUT5/kernel3")
plotResults(OUTDIR, N=20)


def plot_stages(s_freq, s_fftdB, LUT, Fmax, F_marker, pdf_name=""):

    import matplotlib.pyplot as plt
    from mpl_toolkits.axes_grid1.inset_locator import inset_axes

    stages = [
        (r"a)", r"$\frac{F}{8}$",            s_freq[0], s_fftdB[0], [-0.5, 0.5],            [-Fmax/8, Fmax/8],            F_marker,       True),
        (r"b)", r"$\frac{F}{8 \cdot 32}$",   s_freq[1], s_fftdB[1], [-0.5/LUT, 0.5/LUT],    [-Fmax/8/LUT, Fmax/8/LUT],    F_marker/LUT,   True),
        (r"c)", r"$1-\frac{F}{8 \cdot 32}$", s_freq[2], s_fftdB[2], [1-0.5/LUT, 1+0.5/LUT], [1-Fmax/8/LUT, 1+Fmax/8/LUT], 1-F_marker/LUT, False)
    ]
    fig, axes = plt.subplots(1, 3, figsize=(18, 4), sharey=True)
    
    for ax, (title, label_tex, freq, fftdB, xlim_main, xlim_zoom, f_marker, two_peaks) in zip(axes, stages):
        # glavni plot
        ax.plot(freq, fftdB, '-k', linewidth=0.8)
        ax.set_xlim(xlim_main)
        ax.set_ylim([-145, 5])
        ax.set_xlabel(r"$f/f_s$")
        ax.set_title(title)
        ax.grid(True, linestyle=':', alpha=0.7)
    
        # zoom inset
        axins = inset_axes(ax, width="30%", height="30%", loc="upper right")
        axins.plot(freq, fftdB, '-k', linewidth=0.8)
        axins.set_xlim(xlim_zoom)
        axins.set_ylim([-145, 5])
        axins.grid(True, linestyle=':', color='k', alpha=0.3)
        axins.tick_params(labelleft=False, labelbottom=False);
    
        if two_peaks:
            # desni pik (+)
            # axins.axvline(+f_marker, color='k', linestyle='--', linewidth=0.6)
            axins.annotate(label_tex, xy=(+f_marker, -30), xycoords='data',
                           xytext=(-8, 0), textcoords='offset points',
                           ha='right', va='bottom', fontsize=9)
    
            # levi pik (−)
            # axins.axvline(-f_marker, color='k', linestyle='--', linewidth=0.6)
            axins.annotate("−"+label_tex, xy=(-f_marker, -80), xycoords='data',
                           xytext=(8, 0), textcoords='offset points',
                           ha='left', va='bottom', fontsize=9)
        else:
            # samo jedan pik
            # axins.axvline(f_marker, color='k', linestyle='--', linewidth=0.6)
            axins.annotate(label_tex, xy=(f_marker, -30), xycoords='data',
                           xytext=(8, 0), textcoords='offset points',
                           ha='left', va='bottom', fontsize=9)
    
    axes[0].set_ylabel(r"$X\,[\mathrm{dB}]$");
    plt.show();
    plt.savefig(pdf_name + ".pdf", format="pdf", bbox_inches="tight"); # čuva u PDF



idx = 40
LUT3 = 32
LUT5 = 19
F_marker = F_test[idx]/8

OUTDIR_lut3 = Path(r"../data/output/16bit/LUT3/kernel3")
OUTDIR_lut5 = Path(r"../data/output/16bit/LUT5/kernel3")

s1_freq_lut3, s1_fftdB_lut3 = get_fftdB(OUTDIR_lut3, 1, idx)
s2_freq_lut3, s2_fftdB_lut3 = get_fftdB(OUTDIR_lut3, 2, idx)
s3_freq_lut3, s3_fftdB_lut3 = get_fftdB(OUTDIR_lut3, 3, idx)
s_freq_lut3 = [s1_freq_lut3, s2_freq_lut3, s3_freq_lut3]
s_fftdB_lut3 = [s1_fftdB_lut3, s2_fftdB_lut3, s3_fftdB_lut3]

s1_freq_lut5, s1_fftdB_lut5 = get_fftdB(OUTDIR_lut5, 1, idx)
s2_freq_lut5, s2_fftdB_lut5 = get_fftdB(OUTDIR_lut5, 2, idx)
s3_freq_lut5, s3_fftdB_lut5 = get_fftdB(OUTDIR_lut5, 3, idx)
s_freq_lut5 = [s1_freq_lut5, s2_freq_lut5, s3_freq_lut5]
s_fftdB_lut5 = [s1_fftdB_lut5, s2_fftdB_lut5, s3_fftdB_lut5]

plot_stages(s_freq_lut3, s_fftdB_lut3, LUT3, Fmax, F_marker, "Stages_lut3_16bit")
plot_stages(s_freq_lut5, s_fftdB_lut5, LUT5, Fmax, F_marker, "Stages_lut5_16bit")





import numpy as np
import matplotlib.pyplot as plt
from scipy import signal

# ---------- Helper ----------
def freqz_delta(delta, worN=4096):
    # h[n] = [delta/2, 1, -delta/2]
    k = np.array([delta/2.0, 1.0, -delta/2.0], dtype=float)
    w, h = signal.freqz(k, worN=worN)          # w in [0, pi]
    Hmag = np.abs(h)                           # linear magnitude
    phi  = np.unwrap(np.angle(h)) * 180/np.pi  # phase [deg]
    omega_deg = w * 180/np.pi
    excess = phi + omega_deg                   # excess phase [deg]
    return w, Hmag, phi, excess

# ---------- Deltas ----------
deltas = {
    r'$\delta=+1/8/32$':  1/8/32,
    r'$\delta=-1/8/32$': -1/8/32,
    r'$\delta=+1/8/19$':  1/8/19,
    r'$\delta=-1/8/19$': -1/8/19,
}

# ---------- Compute ----------
curves = {}
w_ref = None
for lbl, d in deltas.items():
    w, H, ph, exc = freqz_delta(d)
    curves[lbl] = (w, H, ph, exc)
    if w_ref is None:
        w_ref = w

x = w_ref/np.pi  # Normalized frequency ω/π

# ---------- Plot ----------
plt.rcParams.update({
    "font.size": 12,
    "mathtext.fontset": "cm",
})

fig, (ax1, ax2, ax3) = plt.subplots(3, 1, figsize=(10, 7), sharex=True)

# marker/linestyle map (crno-belo, različiti markeri/linije)
styles = {
    r'$\delta=+1/8/32$': dict(ls='-',  marker=None,  lw=1.5),
    r'$\delta=-1/8/32$': dict(ls='-',  marker='^',   lw=1.2, markevery=200, ms=4),
    r'$\delta=+1/8/19$': dict(ls='--', marker=None,  lw=1.2),
    r'$\delta=-1/8/19$': dict(ls='-',  marker='s',   lw=1.2, markevery=200, ms=3.5),
}

# (a) Magnitude
for lbl, (w, H, ph, exc) in curves.items():
    ax1.plot(x, H, 'k', label=lbl, **styles[lbl])
ax1.set_ylabel(r'$|H(e^{j\omega})|$', fontsize=16)
# ax1.set_title(r'Comparison for $h[n]=[\delta/2,\;1,\;-\delta/2]$')
ax1.grid(True, which='both', linestyle=':', color='k', alpha=0.3)
ax1.legend(loc='center right', frameon=True)
ax1.text(1.02, 0.5, "(a)", transform=ax1.transAxes, va="center")

# (b) Phase
for lbl, (w, H, ph, exc) in curves.items():
    ax2.plot(x, ph, 'k', **{k:v for k,v in styles[lbl].items() if k in ('ls','marker','lw','markevery','ms')}, label=lbl)
ax2.set_ylabel(r'$\Phi \, [\mathrm{deg}]$', fontsize=16)
ax2.legend(loc='center right', frameon=True)
ax2.grid(True, which='both', linestyle=':', color='k', alpha=0.3)
ax2.text(1.02, 0.5, "(b)", transform=ax2.transAxes, va="center")

# (c) Excess phase
for lbl, (w, H, ph, exc) in curves.items():
    ax3.plot(x, exc, 'k', **{k:v for k,v in styles[lbl].items() if k in ('ls','marker','lw','markevery','ms')}, label=lbl)
ax3.set_xlabel(r'$\,\omega/\pi$', fontsize=16)
ax3.set_ylabel(r'$\Phi_e \, [\mathrm{deg}]$', fontsize=16)
ax3.grid(True, which='both', linestyle=':', color='k', alpha=0.3)
ax3.set_ylim(-1.0, 1.0)
ax3.legend(loc='center right', frameon=True)
ax3.text(1.02, 0.5, "(c)", transform=ax3.transAxes, va="center")

plt.tight_layout()
plt.show()
plt.savefig("delay_mag_phase.pdf", format="pdf", bbox_inches="tight"); # čuva u PDF





Fmin = 1 - 0.3/32
Fmax = 1 + 0.3/32
fac = 0.425/8/32
fac_2 = 0.425/8/19
F = np.linspace(Fmin, Fmax, 1024)
delta = 1/4

phi_1 = np.pi/2*F - np.arctan(delta*np.sin(2*np.pi*F))
phi_2 = np.pi/2*F
theta_1 = np.pi/2-phi_1
theta_2 = np.pi/2-phi_2
ir_1 = 10*np.log10((1+np.cos(theta_1)) / (1-np.cos(theta_1) + 1e-14))
ir_2 = 10*np.log10((1+np.cos(theta_2)) / (1-np.cos(theta_2) + 1e-14))

plt.figure(figsize=(10, 6))
plt.plot(F, ir_1, '-k', label="IQ korekcija") 
plt.plot(F, ir_2, '-k', marker='^', markevery=50, label="Bez korekcije")
plt.plot([1-fac, 1-fac], [40, 147], '--k', label="In-band (32-bit LUT)")
plt.plot([1+fac, 1+fac], [40, 147], '--k')

plt.plot([1-fac_2, 1-fac_2], [40, 147], '-.k', label="In-band (19-bit LUT)")
plt.plot([1+fac_2, 1+fac_2], [40, 147], '-.k')
plt.ylim([35, 150])
plt.legend()
plt.grid()





def find_SNRs(OUTDIR, N, Fmax, LUT):
    s1_snr = []
    s2_snr = []
    s3_snr = []
    counter = 0
    for idx in range(N):
        # stage 1: učitaj i i q (pretpostavka: višebitni/float/int, NE mapira se 0/1)
        s1_i_path, s1_q_path = collect_files(OUTDIR, 1, idx)
        s1_i = load_vec(s1_i_path)
        s1_q = load_vec(s1_q_path)
        s1 = s1_i + 1j * s1_q
        
        # stage 2: učitaj i q, pa mapiraj 0->-1, 1->+1
        s2_i_path, s2_q_path = collect_files(OUTDIR, 2, idx)
        s2_i_raw = load_vec(s2_i_path, dtype=int)
        s2_q_raw = load_vec(s2_q_path, dtype=int)
        s2_i = bin01_to_pm1(s2_i_raw)
        s2_q = bin01_to_pm1(s2_q_raw)
        s2 = s2_i + 1j * s2_q
        
        # stage 3: učitaj jedan fajl (realni ili 1-bit real, po opisu)
        s3_path = collect_files(OUTDIR, 3, idx)
        s3_raw = load_vec(s3_path, dtype=int)
        s3 = bin01_to_pm1(s3_raw)  # ako je 0/1; ako NIJE, ukloni ovu liniju
        
        s1_freq, s1_fftdB, an = fftdB_f(s1, True)
        s2_freq, s2_fftdB, an = fftdB_f(s2, True)
        s3_freq, s3_fftdB, an = fftdB_f(s3, True)
        s3_freq *= 4
    
        s1_f = [0, Fmax/8]
        snr1 = find_SNR(s1_fftdB, s1_freq, s1_f, 15, False)
        s1_snr.append(snr1)
    
        s2_f = [0, Fmax/8/LUT]
        snr2 = find_SNR(s2_fftdB, s2_freq, s2_f, 15, False)
        s2_snr.append(snr2)
    
        s3_f = [1-Fmax/8/LUT, 1+Fmax/8/LUT]
        snr3 = find_SNR(s3_fftdB, s3_freq, s3_f, 15, False)
        s3_snr.append(snr3)
    
        counter += 1
        print(f"Progress: {counter}/{N} ({100 * counter / N:.1f}%)", end='\r')
    print("")
    return s1_snr, s2_snr, s3_snr

def moving_average(x, N=5):
    """Jednostavan klizni prosek dužine N."""
    return np.convolve(x, np.ones(N)/N, mode='valid')

def plot_SNRs(s1_snr, s2_snr, s3_snr, label, title="", pdf_name=""):
    N=10
    s1_snr_ = np.append(s1_snr, s1_snr[:N//2])
    s2_snr_ = np.append(s2_snr, s2_snr[:N//2])
    s3_snr_ = np.append(s3_snr, s3_snr[:N//2])
    
    s1_snr_av = moving_average(s1_snr_, N)
    s2_snr_av = moving_average(s2_snr_, N)
    s3_snr_av = moving_average(s3_snr_, N)
    
    s1_snr_av = s1_snr_av[N//2:]
    s2_snr_av = s2_snr_av[N//2:]
    s3_snr_av = s3_snr_av[N//2:]
    
    f = np.linspace(0.01, Fmax-0.01, len(s1_snr_av))
    
    # primer sa tvojim serijamaS
    plt.figure(figsize=(10, 6))
    plt.plot(f, s1_snr_av, '-k', markevery=3, label=label[0])  # crna linija + kvadrati
    plt.plot(f, s2_snr_av, '-k^', markevery=2, label=label[1])  # crna linija + trouglovi
    plt.plot(f, s3_snr_av, '--k', label=label[2])           # crna puna linija
    
    plt.xlabel(r'$f/f_s$', fontsize=16)
    plt.ylabel(r'$SNR\,[dB]$', fontsize=16)
    plt.title(title)
    
    plt.legend()
    plt.grid(True)
    plt.tight_layout()  # da ne seče oznake osa
    
    plt.savefig(pdf_name + ".pdf", format="pdf", bbox_inches="tight")  # čuva u PDF
    plt.show()


N = 64
LUT3 = 32
LUT5 = 19
Fmax = 0.425

OUTDIR_16b_lut3 = Path(r"../data/output/16bit/LUT3/kernel3")
OUTDIR_12b_lut3 = Path(r"../data/output/12bit/LUT3/kernel3")
OUTDIR_16b_lut5 = Path(r"../data/output/16bit/LUT5/kernel3")

s1_snr_16b_lut3, s2_snr_16b_lut3, s3_snr_16b_lut3 = find_SNRs(OUTDIR_16b_lut3, N, Fmax, LUT3)
s1_snr_12b_lut3, s2_snr_12b_lut3, s3_snr_12b_lut3 = find_SNRs(OUTDIR_12b_lut3, N, Fmax, LUT3)
s1_snr_16b_lut5, s2_snr_16b_lut5, s3_snr_16b_lut5 = find_SNRs(OUTDIR_16b_lut5, N, Fmax, LUT5)


# plot_SNRs(s1_snr_16b_lut3, s2_snr_16b_lut3, s3_snr_16b_lut3, title="", pdf_name="snr_lut3_16bit")
# plot_SNRs(s1_snr_12b_lut3, s2_snr_12b_lut3, s3_snr_12b_lut3, title="", pdf_name="snr_lut3_12bit")
# plot_SNRs(s1_snr_16b_lut5, s2_snr_16b_lut5, s3_snr_16b_lut5, title="", pdf_name="snr_lut5_16bit")

plot_SNRs(s3_snr_16b_lut3, s3_snr_12b_lut3, s3_snr_16b_lut5, label=["16-bit, LUT 32-bit", "12-bit, LUT 32-bit", "16-bit, LUT 19-bit"], title="", pdf_name="snr")



