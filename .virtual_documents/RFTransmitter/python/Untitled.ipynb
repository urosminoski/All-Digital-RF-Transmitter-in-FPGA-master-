


import numpy as np
from pathlib import Path

# Parametri
N = 2**10
n = np.arange(N)
perc = 0.15
Fmax = 0.5 * (1 - perc)
F = np.linspace(0.01, Fmax - 0.01, 64)   # 64 frekvencije

OUTDIR = Path(r"../data/input/")
OUTDIR.mkdir(parents=True, exist_ok=True)

for k, f in enumerate(F):
    # signal
    xi = np.cos(2*np.pi*f*n)
    xq = np.sin(2*np.pi*f*n)

    # ime fajla: index + frekvencija na 3 decimale
    # ftag = f"{f:.3f}"          # npr. '0.123'
    ftag = f"{f:.3f}".replace('.', 'p')   # '0p123'

    fi = OUTDIR / f"xinI_{k:03d}_f{ftag}.txt"
    fq = OUTDIR / f"xinQ_{k:03d}_f{ftag}.txt"

    # upis – real po liniji, kako TB već čita
    np.savetxt(fi, xi, fmt="%.15f")
    np.savetxt(fq, xq, fmt="%.15f")

print("Gotovo: generisani su svi ulazni fajlovi.")




