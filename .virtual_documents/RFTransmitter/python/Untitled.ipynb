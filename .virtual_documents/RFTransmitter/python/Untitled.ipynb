


import numpy as np
from pathlib import Path

# Parametri
N = 512
n = np.arange(N)
perc = 0.15
Fmax = 0.5 * (1 - perc)

M = 64
Fstart = 0.2
Fstop = Fmax - 0.01
F = np.linspace(Fstart, Fstop - 0.01, M)   # 64 frekvencije

OUTDIR = Path(r"../data/input/")
OUTDIR.mkdir(parents=True, exist_ok=True)

np.savetxt(OUTDIR / "N_000.txt", [M], fmt="%d")

for k, f in enumerate(F):
    # signal
    xi = (1.0 - 1.0*1e-15) * np.cos(2*np.pi*f*n)
    xq = (1.0 - 1.0*1e-15) * np.sin(2*np.pi*f*n)

    # ime fajla: index + frekvencija na 3 decimale
    # ftag = f"{f:.3f}"          # npr. '0.123'
    ftag = f"{f:.3f}".replace('.', 'p')   # '0p123'

    fi = OUTDIR / f"xinI_{k:03d}_f{ftag}.txt"
    fq = OUTDIR / f"xinQ_{k:03d}_f{ftag}.txt"

    # upis – real po liniji, kako TB već čita
    np.savetxt(fi, xi, fmt="%.15f")
    np.savetxt(fq, xq, fmt="%.15f")

print("Gotovo: generisani su svi ulazni fajlovi.")







