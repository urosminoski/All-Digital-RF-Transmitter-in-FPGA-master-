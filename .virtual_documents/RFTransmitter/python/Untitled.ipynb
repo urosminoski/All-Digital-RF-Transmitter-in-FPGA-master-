import seaborn as sn
from scipy.stats import norm
import scipy.signal as sig
import copy





def bandpower(ps, mode='psd'):
    """
    estimate bandpower, see https://de.mathworks.com/help/signal/ref/bandpower.html
    """
    if mode=='time':
        x = ps
        l2norm = linalg.norm(x)**2./len(x)
        return l2norm
    elif mode == 'psd':
        return sum(ps) 

def getIndizesAroundPeak(arr, peakIndex,searchWidth=1000):
    peakBins = []
    magMax = arr[peakIndex]
    curVal = magMax
    for i in range(searchWidth):
        newBin = peakIndex+i
        newVal = arr[newBin]
        if newVal>curVal:
            break
        else:
            peakBins.append(int(newBin))
            curVal=newVal
    curVal = magMax
    for i in range(searchWidth):
        newBin = peakIndex-i
        newVal = arr[newBin]
        if newVal>curVal:
            break
        else:
            peakBins.append(int(newBin))
            curVal=newVal
    return np.array(list(set(peakBins)))

def freqToBin(fAxis, Freq):
    return argmin(abs(fAxis-Freq))

def getPeakInArea(psd, faxis, estimation, searchWidthHz = 10):
    """
    returns bin and frequency of the maximum in an area
    """
    binLow = freqToBin(faxis, estimation-searchWidthHz)
    binHi = freqToBin(faxis, estimation+searchWidthHz)
    peakbin = binLow+argmax(psd[binLow:binHi])
    return peakbin, faxis[peakbin]

def getHarmonics(fund,sr,nHarmonics=6,aliased=False):
    harmonicMultipliers = np.arange(2,nHarmonics+2)
    harmonicFs = fund*harmonicMultipliers
    if not aliased:
        harmonicFs[harmonicFs>sr/2] = -1
        harmonicFs = np.delete(harmonicFs,harmonicFs==-1)
    else:
        nyqZone = np.floor(harmonicFs/(sr/2))
        oddEvenNyq = nyqZone%2  
        harmonicFs = np.mod(harmonicFs,sr/2)
        harmonicFs[oddEvenNyq==1] = (sr/2)-harmonicFs[oddEvenNyq==1]
    return harmonicFs 





sr = 48000
T = 0.1 #seconds
N = int(T*sr)
n = np.arange(N)
t = n/sr

silence = np.zeros(N)


np.random.seed(1) #reproducability

# matlab like randn function, for comparison reasons with matlab code. Only needed to create test signal.
matlabRandn = lambda n:norm.ppf(np.random.rand(1,n)).flatten()

A = 1.0
a = 0.5
s = 0.1
powFund = A**2/2
powHarm = a**2/2
varnoise = s**2
f0 = 9000#*(sr/2)
h1 = f0*2.
noiseOnly = s*matlabRandn(len(t))
signalOnly = A * np.cos(np.pi*2*f0*t)
harmonicsOnly = a*np.sin(np.pi*2*t*h1)
y = signalOnly + harmonicsOnly + noiseOnly

faxis,psX = sig.periodogram(signalOnly,fs=sr, window=('kaiser',38))
faxis,psH = sig.periodogram(harmonicsOnly,fs=sr, window=('kaiser',38))

defSNR = 10*np.log10(powFund/varnoise)
print('SNR by definition, not computation: {} dB'.format(defSNR))

faxis,ps = sig.periodogram(y,fs=sr, window=('kaiser',38))
fundBin = np.argmax(ps) 

_=plt.plot(faxis,10*np.log10(ps), label='$y(n)$, the test signal')
_=plt.plot(faxis,10*np.log10(psX),'--', label='$x(n)$, signal only', alpha=0.7)
_=plt.plot(faxis,10*np.log10(psH),'--', label='$h(n)$, harmonics only', alpha=0.7)
plt.title('Test Signal, SNR by definition: {} dB'.format(defSNR))
plt.ylim([-100,0])
plt.xlabel('Freq[Hz]')
plt.ylabel('power [dB]')
plt.legend()
plt.grid(True)


faxis,ps = sig.periodogram(y,fs=sr, window=('kaiser',38)) #get periodogram, parametrized like in matlab
fundBin = np.argmax(ps) #estimate fundamental at maximum amplitude, get the bin number
fundIndizes = getIndizesAroundPeak(ps,fundBin) #get bin numbers around fundamental peak
fundFrequency = faxis[fundBin] #frequency of fundamental


nHarmonics = 6
harmonicFs = getHarmonics(fundFrequency,sr,nHarmonics=nHarmonics,aliased=True) #get harmonic frequencies
print('harmonic frequencies estimated: {}'.format(harmonicFs))











import sys, os
sys.path.append(os.path.dirname(os.getcwd()))

from signal_utils import *


def snr_from_psd_roi(psd, faxis, f_est, fmin, fmax,
                     searchWidthHz=10,
                     peak_halfwidth_bins=1,
                     include_harmonics=False, nHarmonics=6,
                     fs=None, aliased=False):
    """
    SNR iz PSD-a uz internu selekciju [fmin, fmax].

    Parameters
    ----------
    psd : 1D np.ndarray
        Spektralna snaga (linearno, npr. W/Hz ili 'spectrum' iz Welch-a).
    faxis : 1D np.ndarray
        Frekvencijska osa (iste dužine kao psd).
    f_est : float
        Očekivana (približna) fundamentalna frekvencija [Hz].
    fmin, fmax : float
        Granice opsega interesa (ROI) [Hz].
    searchWidthHz : float
        Polu-širina pretrage oko f_est za traženje pika [Hz].
    peak_halfwidth_bins : int
        Koliko binova levo/desno od pika računati kao "signal".
    include_harmonics : bool
        Ako True: računa SINAD (signal + harmonici protiv šuma).
        Ako False: izuzima harmonike iz šuma (klasičan SNR).
    nHarmonics : int
        Maksimalan broj harmonika koje tražimo.
    fs : float | None
        Samplerate; potreban ako koristimo harmonike i/ili aliasing.
    aliased : bool
        Ako True, harmonike preslikavamo preko Nyquista (alias).

    Returns
    -------
    snr_db : float
        SNR u dB.
    info : dict
        Sve pomoćne info (binovi signala, harmonika, f0, ROI, ...).
    """
    psd = np.asarray(psd).ravel()
    faxis = np.asarray(faxis).ravel()
    assert psd.shape == faxis.shape, "psd i faxis moraju biti iste dužine"

    # 1) Iseci ROI
    roi_mask = (faxis >= fmin) & (faxis <= fmax)
    if not np.any(roi_mask):
        raise ValueError("ROI [fmin, fmax] je prazan za zadati faxis.")
    f_roi = faxis[roi_mask]
    psd_roi = psd[roi_mask]

    # 2) Nađi fundamentalni pik oko f_est u okviru ROI
    def _nearest_idx(vec, val):  # pomoćna
        return int(np.argmin(np.abs(vec - val)))

    lo = _nearest_idx(f_roi, max(fmin, f_est - searchWidthHz))
    hi = _nearest_idx(f_roi, min(fmax, f_est + searchWidthHz))
    if lo > hi:
        lo, hi = hi, lo
    slab = slice(lo, hi + 1)
    if slab.start == slab.stop:  # samo jedan bin
        peak_idx_roi = slab.start
    else:
        peak_idx_roi = slab.start + int(np.argmax(psd_roi[slab]))

    # 3) Binovi fundamentalne komponente (±peak_halfwidth_bins)
    sig_lo = max(0, peak_idx_roi - peak_halfwidth_bins)
    sig_hi = min(len(psd_roi) - 1, peak_idx_roi + peak_halfwidth_bins)
    sig_bins_roi = np.arange(sig_lo, sig_hi + 1, dtype=int)

    # 4) Harmonici (opciono)
    harm_bins_roi = np.array([], dtype=int)
    if include_harmonics:
        if fs is None:
            raise ValueError("Za harmonike je potreban fs.")
        f0 = f_roi[peak_idx_roi]
        nyq = fs / 2.0
        for k in range(2, nHarmonics + 1):
            fk = k * f0
            if not aliased:
                if fk > nyq or fk < fmin or fk > fmax:
                    continue
                idx = _nearest_idx(f_roi, fk)
            else:
                # alias preko Nyquista
                nz = np.floor(fk / nyq)
                fk_alias = np.mod(fk, nyq)
                if (nz % 2) == 1:
                    fk_alias = nyq - fk_alias
                if fk_alias < fmin or fk_alias > fmax:
                    continue
                idx = _nearest_idx(f_roi, fk_alias)
            lo_h = max(0, idx - peak_halfwidth_bins)
            hi_h = min(len(psd_roi) - 1, idx + peak_halfwidth_bins)
            harm_bins_roi = np.unique(np.concatenate([harm_bins_roi,
                                                       np.arange(lo_h, hi_h + 1, dtype=int)]))

    # 5) Snage
    P_total = float(np.sum(psd_roi))
    P_sig = float(np.sum(psd_roi[sig_bins_roi]))
    P_harm = float(np.sum(psd_roi[harm_bins_roi])) if harm_bins_roi.size else 0.0
    P_noise = max(P_total - P_sig - P_harm, 1e-20)

    snr_db = 10.0 * np.log10(P_sig / P_noise + 1e-20)
    info = dict(
        f_roi=f_roi, psd_roi=psd_roi,
        f0=f_roi[peak_idx_roi],
        peak_idx_roi=int(peak_idx_roi),
        sig_bins_roi=sig_bins_roi,
        harm_bins_roi=harm_bins_roi,
        P_total=P_total, P_sig=P_sig, P_harm=P_harm, P_noise=P_noise
    )
    return snr_db, info

def find_SNR(x, f_range, bandwidth=0.005):
    freqs, spectrum_dB, _ = fftdB(x)
    freqs *= 4  # or whatever scaling is correct for your freq axis

    f_low, f_high = f_range

    # 1. Get frequency range of interest
    idx_band = np.where((freqs >= f_low) & (freqs <= f_high))[0]
    freqs_band = freqs[idx_band]
    spectrum_band = spectrum_dB[idx_band]

    # 2. Find peak index (signal)
    idx_peak_local = np.argmax(spectrum_band)
    peak_freq = freqs_band[idx_peak_local]
    signal_level = spectrum_band[idx_peak_local]

    # 3. Exclude bins around the peak
    idx_exclude_local = np.where(
        (freqs_band >= peak_freq - bandwidth) &
        (freqs_band <= peak_freq + bandwidth)
    )[0]

    # 4. Keep only noise bins
    idx_noise_local = np.setdiff1d(np.arange(len(freqs_band)), idx_exclude_local)

    if len(idx_noise_local) == 0:
        raise ValueError("No noise bins left after excluding signal.")

    noise_floor = np.max(spectrum_band[idx_noise_local])

    return signal_level - noise_floor


xout_i_stage2 = np.loadtxt("../data/output/16bit/LUT3/kernel3/stage2/xout_i_stage2_054_f0p357.txt", dtype=np.int32)
xout_q_stage2 = np.loadtxt("../data/output/16bit/LUT3/kernel3/stage2/xout_q_stage2_054_f0p357.txt", dtype=np.int32)
xout_i_stage2 = np.where(xout_i_stage2 == 0, -1, 1)
xout_q_stage2 = np.where(xout_q_stage2 == 0, -1, 1)
xout_iq_stage2 = xout_i_stage2 + 1j*xout_q_stage2

freq_out_stage2, xfftdB_out_stage2, an = fftdB(xout_iq_stage2, True)
plt.figure()
plt.plot(freq_out_stage2, xfftdB_out_stage2)
plt.xlim([-0.5/32, 0.5/32])
plt.grid()





f_est = 0.357/32/8
fmin = -0.5/32/8
fmax = 0.5/32/9
psd = xfftdB_out_stage2
faxis = np.linspace(-0.5, 0.5, len(psd))

# recimo da već imaš psd i faxis iz FFT ili Welch analize
snr_db, info = snr_from_psd_roi(psd, faxis, f_est=f_est, fmin=fmin, fmax=fmax,
                                searchWidthHz=20, peak_halfwidth_bins=2,
                                include_harmonics=False)  # True za SINAD
print("SNR =", snr_db, "dB (f0≈", info["f0"], "Hz)")



