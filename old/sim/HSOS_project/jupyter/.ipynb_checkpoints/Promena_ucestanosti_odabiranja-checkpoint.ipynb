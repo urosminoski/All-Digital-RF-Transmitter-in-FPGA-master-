{
 "cells": [
  {
   "cell_type": "markdown",
   "metadata": {},
   "source": [
    "$\\newcommand{\\mr}[1]{\\mathrm{#1}}$ \n",
    "$\\newcommand{\\bmr}[1]{\\mathit{\\mathbf{#1}}}$ \n",
    "$\\newcommand{\\tr}{^\\mathrm{T}}$\n",
    "$\\newcommand{\\lbr}{\\left\\lbrace}$\n",
    "$\\newcommand{\\rbr}{\\right\\rbrace}$\n",
    "$\\newcommand{\\dd}{\\mathrm{d}}$\n",
    "$\\newcommand{\\jj}{\\mathrm{j}}$"
   ]
  },
  {
   "cell_type": "markdown",
   "metadata": {},
   "source": [
    "## <center> Pomoćne funkcije\n",
    "Interaktivni grafici koriste Python modul mpld3, koji se može instalirati komandom\n",
    "    \n",
    "    \n",
    "    conda install mpld3\n",
    "    \n",
    "Primeri rade i ukoliko modul mpld3 nije instaliran, ali grafici neće biti interaktivni."
   ]
  },
  {
   "cell_type": "code",
   "execution_count": null,
   "metadata": {},
   "outputs": [],
   "source": [
    "%matplotlib inline\n",
    "import warnings\n",
    "warnings.filterwarnings(\"ignore\")\n",
    "import matplotlib.pyplot as plt\n",
    "try:\n",
    "    import mpld3\n",
    "    mpld3.enable_notebook()\n",
    "    print(\"Modul mpld3 je instaliran.\")\n",
    "except:\n",
    "    print(\"Modul mpld3 nije instaliran.\")\n",
    "    \n",
    "def plotSpectrum(x, xlabel = \"\", ylabel=\"\", title=\"\", show=True):\n",
    "    n = len(x)\n",
    "    plt.plot(np.fft.fftshift(np.fft.fftfreq(n)),np.fft.fftshift(abs(np.fft.fft(x))));\n",
    "    plt.xlabel(xlabel); plt.ylabel(ylabel); plt.title(title);\n",
    "    if show:\n",
    "        plt.show()\n",
    "    \n",
    "def stemSpectrum(x, xlabel = \"\", ylabel=\"\", title=\"\", show=True):\n",
    "    n = len(x)\n",
    "    F = np.fft.fftshift(np.fft.fftfreq(n))\n",
    "    X = np.fft.fftshift(abs(np.fft.fft(x)))\n",
    "    plt.stem(F, X)#, use_line_collection=True);\n",
    "    plt.xlabel(xlabel); plt.ylabel(ylabel); plt.title(title);\n",
    "    if show:\n",
    "        plt.show()\n",
    "\n",
    "def plotSignal(x, xlabel = \"\", ylabel=\"\", title=\"\", show=True):\n",
    "    plt.plot(x);\n",
    "    plt.xlabel(xlabel); plt.ylabel(ylabel); plt.title(title);\n",
    "    if show:\n",
    "        plt.show()\n",
    "\n",
    "def stemSignal(x, xlabel = \"\", ylabel=\"\", title=\"\", show=True):\n",
    "    plt.stem(x)# ,use_line_collection=True);\n",
    "    plt.xlabel(xlabel); plt.ylabel(ylabel); plt.title(title);\n",
    "    if show:\n",
    "        plt.show()\n",
    "    "
   ]
  },
  {
   "cell_type": "markdown",
   "metadata": {},
   "source": [
    "# <center> Generisanje test signala\n",
    "    \n",
    "Test signal željenog oblika spektra je koristan za demonstraciju efekata primene algoritama za obradu signala.\n",
    "Diskretni spektar od $N$ tačaka koji se u opsegu digitalnih učestanosti $F=(F_\\mr{start},F_\\mr{end})$ linearno menja od amplitude $(A_\\mr{start},A_\\mr{end})$ se može konstruisati kao:\n",
    "\n",
    "\n",
    "$$\n",
    "i_\\mr{start} = \\mr{round}(N \\cdot F_\\mr{start})\n",
    "$$\n",
    "$$\n",
    "i_\\mr{end} = \\mr{round}(N \\cdot F_\\mr{end})\n",
    "$$\n",
    "$$\n",
    "X(n) = \n",
    "\\begin{cases}\n",
    "0 &, n>i_\\mr{end} \\vee n<i_\\mr{start} \\\\\n",
    "A_\\mr{start} - \\dfrac{n-i_\\mathrm{start}}{i_\\mr{end}-i_\\mr{start}} (A_\\mr{start}-A_\\mr{end}) &, inače\n",
    "\\end{cases}\n",
    "$$\n",
    "\n",
    "\n",
    "Spektar $X(n)$ nije konjugovano-kompleksno simetričan, pošto su sadrži komponente samo na pozitivnim učestanostima.\n",
    "Usled toga je signal u vremenskom domenu $x(n)$ analitički\n",
    "$$\n",
    "x(n) = x_\\mr{r}(n) + \\jj \\mathcal{H}\\left\\lbrace x_\\mr{r}(n) \\right\\rbrace(n)\n",
    "$$\n",
    "gde je $\\mathcal{H}\\left\\lbrace x_\\mr{r}(n) \\right\\rbrace(n)$ Hilbertova transformacije signala $x_\\mr{r}(n)$.\n",
    "\n",
    "Odbirci u vremenskom domenu se dobijaju inverznom diskretnom Furijeovom transformacijom konstruisanog spektra $X(n)$:\n",
    "$$\n",
    "x(n) = IDFT(X)(n)\n",
    "$$"
   ]
  },
  {
   "cell_type": "code",
   "execution_count": null,
   "metadata": {},
   "outputs": [],
   "source": [
    "import numpy as np\n",
    "def genTestSpectrum(n, freq, amp, randPhase=False):\n",
    "    # Generate test spectrum\n",
    "    # Arguments:\n",
    "    #    n    - number of samples\n",
    "    #    freq - tuple of digital frequencies (startFreq, endFreq) in range (0, 0.5)\n",
    "    #    amp  - tuple of amplitudes (ampStart, ampEnd)\n",
    "    #    randPhase - if True, assign random phase to each sample\n",
    "    x = np.zeros(n, dtype='complex128')\n",
    "    freqStart, freqEnd = freq\n",
    "    ampStart, ampEnd = amp\n",
    "    indStart = round(n*freqStart)\n",
    "    indEnd = round(n*freqEnd)\n",
    "    x[indStart:indEnd] = ampStart - np.linspace(0, 1, num=indEnd-indStart) * (ampStart-ampEnd)\n",
    "    if randPhase:\n",
    "        x[indStart:indEnd] *= np.exp(1j*2*np.pi*np.random.rand(indEnd-indStart)) # randomize phase\n",
    "    x[0] = 0 # suppress DC\n",
    "    timeDomain = np.fft.ifft(x)\n",
    "    return(timeDomain)"
   ]
  },
  {
   "cell_type": "code",
   "execution_count": null,
   "metadata": {},
   "outputs": [],
   "source": [
    "n = 1024\n",
    "#x = 2*genTestSpectrum(n, [0.1, 0.2], [1,0.5]).real\n",
    "x = genTestSpectrum(n, [0.1, 0.2], [1,0.5])\n",
    "plt.title(\"Vremenski oblik signala\")\n",
    "plt.plot(x.real);\n",
    "plt.plot(x.imag);\n",
    "plt.xlabel('n'); plt.ylabel('x(n)');\n",
    "plt.show();\n",
    "plt.title(\"Spektar signala\")\n",
    "plotSpectrum(x, 'F', '|X(F)|')\n",
    "plt.show()"
   ]
  },
  {
   "cell_type": "markdown",
   "metadata": {},
   "source": [
    "# <center> Promena učestanosti odabiranja"
   ]
  },
  {
   "cell_type": "markdown",
   "metadata": {},
   "source": [
    "# <center> Smanjivanje učestanosti odabiranja\n"
   ]
  },
  {
   "cell_type": "code",
   "execution_count": null,
   "metadata": {},
   "outputs": [],
   "source": [
    "def genSD(n, D, offset=0):\n",
    "    # Generate sampling sequence s_D\n",
    "    #    n - length of sequence\n",
    "    #    D - sequence period\n",
    "    #    offset - position of impulse\n",
    "    sd = np.zeros(n);\n",
    "    sd[offset%D::D] = 1.0\n",
    "    return(sd)"
   ]
  },
  {
   "cell_type": "code",
   "execution_count": null,
   "metadata": {},
   "outputs": [],
   "source": [
    "s4 = genSD(4,4,0)\n",
    "stemSignal(s4, title=\"s4 u vremenskom domenu\")\n",
    "plt.show()\n",
    "stemSpectrum(s4, 'F', '|S4(F)|', \"Spektar s4\")\n"
   ]
  },
  {
   "cell_type": "code",
   "execution_count": null,
   "metadata": {},
   "outputs": [],
   "source": [
    "n = 1024\n",
    "x = 2 * genTestSpectrum(n, [0.0, 0.1], [1,0]).real\n",
    "plotSpectrum(x,'F','|X(F)|', 'Spektar signala')"
   ]
  },
  {
   "cell_type": "code",
   "execution_count": null,
   "metadata": {},
   "outputs": [],
   "source": [
    "D = 4\n",
    "sd = genSD(n, D, 0)\n",
    "xhat = x * sd\n",
    "stemSignal(sd[0:32], 'n', 'sd4(n)', 'sd');\n",
    "figH = 4\n",
    "plt.subplots(2,2,figsize=(2*1.618*figH,figH))\n",
    "plt.subplot(1,2,1)\n",
    "stemSignal(x[0:32], 'n', 'x(n)', 'xhat(n)',show=False)\n",
    "plt.subplot(1,2,2)\n",
    "stemSignal(xhat[0:32], 'n', 'xhat(n)', 'xhat(n)')\n",
    "plt.subplots(2,2,figsize=(2*1.618*figH,figH))\n",
    "plt.subplot(1,2,1)\n",
    "plotSpectrum(x, 'F', '|X(F)|', 'Spektar signala', show=False)\n",
    "plt.subplot(1,2,2)\n",
    "plotSpectrum(xhat, 'F', '|Xhat(F)|', 'Spektar signala odabranog sekvencom sd(4)')\n"
   ]
  },
  {
   "cell_type": "markdown",
   "metadata": {},
   "source": [
    "# <center> Kompresor"
   ]
  },
  {
   "cell_type": "code",
   "execution_count": null,
   "metadata": {},
   "outputs": [],
   "source": [
    "def compressor(x, D):\n",
    "    # Downsample the signal by factor D\n",
    "    #   x - input signal\n",
    "    #   D - downsampling factor\n",
    "    return x[0::D]"
   ]
  },
  {
   "cell_type": "code",
   "execution_count": null,
   "metadata": {
    "scrolled": true
   },
   "outputs": [],
   "source": [
    "D = 4\n",
    "xD = compressor(xhat, D)\n",
    "plotSpectrum(xD, 'F', '|XD(F)|', \"Spektar signala xD\");"
   ]
  },
  {
   "cell_type": "markdown",
   "metadata": {},
   "source": [
    "# <center> Parcijalne sekvence\n"
   ]
  },
  {
   "cell_type": "code",
   "execution_count": null,
   "metadata": {},
   "outputs": [],
   "source": [
    "n = 1024\n",
    "x = 2 * genTestSpectrum(n, [0.0, 0.2], [1,0]).real\n",
    "plotSpectrum(x,'F','|X(F)|', 'Spektar signala')"
   ]
  },
  {
   "cell_type": "code",
   "execution_count": null,
   "metadata": {},
   "outputs": [],
   "source": [
    "s0 = genSD(n, 4, 0)\n",
    "s1 = genSD(n, 4, 1)\n",
    "s2 = genSD(n, 4, 2)\n",
    "s3 = genSD(n, 4, 3)\n",
    "figH = 6\n",
    "plt.subplots(2,2,figsize=(1.618*figH,figH))\n",
    "plt.subplot(2,2,1)\n",
    "stemSignal(s0[0:16],'n','s0(n)',show=False)\n",
    "plt.subplot(2,2,2)\n",
    "stemSignal(s1[0:16],'n','s1(n)',show=False)\n",
    "plt.subplot(2,2,3)\n",
    "stemSignal(s2[0:16],'n','s2(n)',show=False)\n",
    "plt.subplot(2,2,4)\n",
    "stemSignal(s3[0:16],'n','s3(n)',show=False)\n",
    "plt.tight_layout()\n",
    "plt.show()"
   ]
  },
  {
   "cell_type": "code",
   "execution_count": null,
   "metadata": {},
   "outputs": [],
   "source": [
    "x0 = x * s0\n",
    "x1 = x * s1\n",
    "x2 = x * s2\n",
    "x3 = x * s3\n",
    "figH = 8\n",
    "plt.subplots(2,2,figsize=(1.618*figH,figH))\n",
    "plt.subplot(2,2,1)\n",
    "plotSpectrum(x0, 'F', '|X0(F)|', 'Spektar x0(n)',show=False)\n",
    "plt.subplot(2,2,2)\n",
    "plotSpectrum(x1, 'F', '|X1(F)|', 'Spektar x1(n)',show=False)\n",
    "plt.subplot(2,2,3)\n",
    "plotSpectrum(x2, 'F', '|X2(F)|', 'Spektar x2(n)',show=False)\n",
    "plt.subplot(2,2,4)\n",
    "plotSpectrum(x3, 'F', '|X3(F)|', 'Spektar x3(n)',show=False)\n",
    "plt.show()\n",
    "plotSpectrum(x0+x1+x2+x3,'F', '|(X0+X1+X2+X3)(F)|', 'Spektar x0(n)+x1(n)+x2(n)+x3(n)')"
   ]
  },
  {
   "cell_type": "markdown",
   "metadata": {},
   "source": [
    "# <center> Povećavanje učestanosti odabiranja\n"
   ]
  },
  {
   "cell_type": "markdown",
   "metadata": {},
   "source": [
    "# <center> Ekspander\n"
   ]
  },
  {
   "cell_type": "code",
   "execution_count": null,
   "metadata": {},
   "outputs": [],
   "source": [
    "def expander(x, I):\n",
    "    # Upsample the signal by factor D\n",
    "    #   x - input signal\n",
    "    #   I - upsampling factor\n",
    "    nx = len(x)\n",
    "    xI = np.zeros(nx*I)\n",
    "    xI[::I] = x\n",
    "    return xI    "
   ]
  },
  {
   "cell_type": "code",
   "execution_count": null,
   "metadata": {},
   "outputs": [],
   "source": [
    "n = 1024\n",
    "x = 2 * genTestSpectrum(n, [0.0, 0.1], [1,0]).real\n",
    "plotSpectrum(x,'F','|X(F)|', 'Spektar signala')"
   ]
  },
  {
   "cell_type": "code",
   "execution_count": null,
   "metadata": {},
   "outputs": [],
   "source": [
    "I = 4\n",
    "xI = expander(x, I)\n",
    "stemSignal(xI[0:64], 'n', 'x(n)' );\n",
    "plt.show();\n",
    "plotSpectrum(xI, 'F', '|X(F)|', 'Spektar xI')"
   ]
  }
 ],
 "metadata": {
  "kernelspec": {
   "display_name": "Python 3",
   "language": "python",
   "name": "python3"
  },
  "language_info": {
   "codemirror_mode": {
    "name": "ipython",
    "version": 3
   },
   "file_extension": ".py",
   "mimetype": "text/x-python",
   "name": "python",
   "nbconvert_exporter": "python",
   "pygments_lexer": "ipython3",
   "version": "3.7.7"
  }
 },
 "nbformat": 4,
 "nbformat_minor": 2
}
