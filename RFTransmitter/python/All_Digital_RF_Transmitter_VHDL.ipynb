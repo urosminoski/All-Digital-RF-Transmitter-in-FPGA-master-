{
 "cells": [
  {
   "cell_type": "markdown",
   "id": "12125016-a4ca-4d93-aec4-2ae623997812",
   "metadata": {},
   "source": [
    "# Preparing input data"
   ]
  },
  {
   "cell_type": "code",
   "execution_count": 13,
   "id": "90ccd3d2-0a85-41ab-9805-640ca3707a87",
   "metadata": {},
   "outputs": [
    {
     "name": "stdout",
     "output_type": "stream",
     "text": [
      "Gotovo: generisani su svi ulazni fajlovi.\n"
     ]
    }
   ],
   "source": [
    "import numpy as np\n",
    "from pathlib import Path\n",
    "\n",
    "# Parametri\n",
    "N = 512\n",
    "n = np.arange(N)\n",
    "perc = 0.15\n",
    "Fmax = 0.5 * (1 - perc)\n",
    "\n",
    "M = 64\n",
    "Fstart = 0.2\n",
    "Fstop = Fmax - 0.01\n",
    "F = np.linspace(Fstart, Fstop - 0.01, M)   # 64 frekvencije\n",
    "\n",
    "OUTDIR = Path(r\"../data/input/\")\n",
    "OUTDIR.mkdir(parents=True, exist_ok=True)\n",
    "\n",
    "np.savetxt(OUTDIR / \"N_000.txt\", [M], fmt=\"%d\")\n",
    "\n",
    "for k, f in enumerate(F):\n",
    "    # signal\n",
    "    xi = (1.0 - 1.0*1e-15) * np.cos(2*np.pi*f*n)\n",
    "    xq = (1.0 - 1.0*1e-15) * np.sin(2*np.pi*f*n)\n",
    "\n",
    "    # ime fajla: index + frekvencija na 3 decimale\n",
    "    # ftag = f\"{f:.3f}\"          # npr. '0.123'\n",
    "    ftag = f\"{f:.3f}\".replace('.', 'p')   # '0p123'\n",
    "\n",
    "    fi = OUTDIR / f\"xinI_{k:03d}_f{ftag}.txt\"\n",
    "    fq = OUTDIR / f\"xinQ_{k:03d}_f{ftag}.txt\"\n",
    "\n",
    "    # upis – real po liniji, kako TB već čita\n",
    "    np.savetxt(fi, xi, fmt=\"%.15f\")\n",
    "    np.savetxt(fq, xq, fmt=\"%.15f\")\n",
    "\n",
    "print(\"Gotovo: generisani su svi ulazni fajlovi.\")\n"
   ]
  },
  {
   "cell_type": "code",
   "execution_count": 14,
   "id": "3ebb84dc-d562-4d8a-81d0-af426167f386",
   "metadata": {},
   "outputs": [
    {
     "name": "stdout",
     "output_type": "stream",
     "text": [
      "[0.2        0.20325397 0.20650794 0.2097619  0.21301587 0.21626984\n",
      " 0.21952381 0.22277778 0.22603175 0.22928571 0.23253968 0.23579365\n",
      " 0.23904762 0.24230159 0.24555556 0.24880952 0.25206349 0.25531746\n",
      " 0.25857143 0.2618254  0.26507937 0.26833333 0.2715873  0.27484127\n",
      " 0.27809524 0.28134921 0.28460317 0.28785714 0.29111111 0.29436508\n",
      " 0.29761905 0.30087302 0.30412698 0.30738095 0.31063492 0.31388889\n",
      " 0.31714286 0.32039683 0.32365079 0.32690476 0.33015873 0.3334127\n",
      " 0.33666667 0.33992063 0.3431746  0.34642857 0.34968254 0.35293651\n",
      " 0.35619048 0.35944444 0.36269841 0.36595238 0.36920635 0.37246032\n",
      " 0.37571429 0.37896825 0.38222222 0.38547619 0.38873016 0.39198413\n",
      " 0.3952381  0.39849206 0.40174603 0.405     ]\n"
     ]
    }
   ],
   "source": [
    "print(F)"
   ]
  },
  {
   "cell_type": "code",
   "execution_count": null,
   "id": "81c35df7-172e-420f-8784-95b87403af05",
   "metadata": {},
   "outputs": [],
   "source": []
  }
 ],
 "metadata": {
  "kernelspec": {
   "display_name": "Python 3 (ipykernel)",
   "language": "python",
   "name": "python3"
  },
  "language_info": {
   "codemirror_mode": {
    "name": "ipython",
    "version": 3
   },
   "file_extension": ".py",
   "mimetype": "text/x-python",
   "name": "python",
   "nbconvert_exporter": "python",
   "pygments_lexer": "ipython3",
   "version": "3.12.2"
  }
 },
 "nbformat": 4,
 "nbformat_minor": 5
}
