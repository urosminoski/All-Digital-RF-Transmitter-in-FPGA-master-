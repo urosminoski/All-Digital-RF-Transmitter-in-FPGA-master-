{
 "cells": [
  {
   "cell_type": "markdown",
   "id": "12125016-a4ca-4d93-aec4-2ae623997812",
   "metadata": {},
   "source": [
    "# Preparing input data"
   ]
  },
  {
   "cell_type": "code",
   "execution_count": 5,
   "id": "90ccd3d2-0a85-41ab-9805-640ca3707a87",
   "metadata": {},
   "outputs": [
    {
     "name": "stdout",
     "output_type": "stream",
     "text": [
      "Gotovo: generisani su svi ulazni fajlovi.\n"
     ]
    }
   ],
   "source": [
    "import numpy as np\n",
    "from pathlib import Path\n",
    "\n",
    "# Parametri\n",
    "N = 2**10\n",
    "n = np.arange(N)\n",
    "perc = 0.15\n",
    "Fmax = 0.5 * (1 - perc)\n",
    "M = 64\n",
    "F = np.linspace(0.01, Fmax - 0.01, M)   # 64 frekvencije\n",
    "\n",
    "OUTDIR = Path(r\"../data/input/\")\n",
    "OUTDIR.mkdir(parents=True, exist_ok=True)\n",
    "\n",
    "np.savetxt(OUTDIR / \"N_000.txt\", [M], fmt=\"%d\")\n",
    "\n",
    "for k, f in enumerate(F):\n",
    "    # signal\n",
    "    xi = np.cos(2*np.pi*f*n)\n",
    "    xq = np.sin(2*np.pi*f*n)\n",
    "\n",
    "    # ime fajla: index + frekvencija na 3 decimale\n",
    "    # ftag = f\"{f:.3f}\"          # npr. '0.123'\n",
    "    ftag = f\"{f:.3f}\".replace('.', 'p')   # '0p123'\n",
    "\n",
    "    fi = OUTDIR / f\"xinI_{k:03d}_f{ftag}.txt\"\n",
    "    fq = OUTDIR / f\"xinQ_{k:03d}_f{ftag}.txt\"\n",
    "\n",
    "    # upis – real po liniji, kako TB već čita\n",
    "    np.savetxt(fi, xi, fmt=\"%.15f\")\n",
    "    np.savetxt(fq, xq, fmt=\"%.15f\")\n",
    "\n",
    "print(\"Gotovo: generisani su svi ulazni fajlovi.\")\n"
   ]
  },
  {
   "cell_type": "code",
   "execution_count": null,
   "id": "81c35df7-172e-420f-8784-95b87403af05",
   "metadata": {},
   "outputs": [],
   "source": []
  }
 ],
 "metadata": {
  "kernelspec": {
   "display_name": "Python 3 (ipykernel)",
   "language": "python",
   "name": "python3"
  },
  "language_info": {
   "codemirror_mode": {
    "name": "ipython",
    "version": 3
   },
   "file_extension": ".py",
   "mimetype": "text/x-python",
   "name": "python",
   "nbconvert_exporter": "python",
   "pygments_lexer": "ipython3",
   "version": "3.12.2"
  }
 },
 "nbformat": 4,
 "nbformat_minor": 5
}
