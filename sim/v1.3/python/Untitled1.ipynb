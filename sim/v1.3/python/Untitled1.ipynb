{
 "cells": [
  {
   "cell_type": "code",
   "execution_count": 1,
   "id": "2f752915-ac11-485e-ab2a-1ccc6ac107b0",
   "metadata": {},
   "outputs": [],
   "source": [
    "import numpy as np\n",
    "import scipy.signal as signal\n",
    "import matplotlib.pyplot as plt\n",
    "%matplotlib inline\n",
    "\n",
    "import matplotlib as mpl\n",
    "mpl.rc('text', usetex = True)\n",
    "mpl.rc('font', family = 'serif', size = 18)"
   ]
  },
  {
   "cell_type": "code",
   "execution_count": null,
   "id": "448635fc-77fd-465c-b877-32ccef1f8b53",
   "metadata": {},
   "outputs": [],
   "source": [
    "def float_to_fixed(x, n_int, n_frac):\n",
    "    # Scale and round float number to int\n",
    "    x_fixed = np.round(x * 2**n_frac)\n",
    "    # Saturate if overflow\n",
    "    max_val = 2**(n_int+n_frac)-1\n",
    "    min_val = -(max_val+1)\n",
    "    if x_fixed > max_val:\n",
    "        x_fixed = max_val\n",
    "    elif x_fixed < min_val:\n",
    "        x_fixed = min_val\n",
    "    return x_fixed"
   ]
  }
 ],
 "metadata": {
  "kernelspec": {
   "display_name": "Python 3 (ipykernel)",
   "language": "python",
   "name": "python3"
  },
  "language_info": {
   "codemirror_mode": {
    "name": "ipython",
    "version": 3
   },
   "file_extension": ".py",
   "mimetype": "text/x-python",
   "name": "python",
   "nbconvert_exporter": "python",
   "pygments_lexer": "ipython3",
   "version": "3.8.19"
  }
 },
 "nbformat": 4,
 "nbformat_minor": 5
}
