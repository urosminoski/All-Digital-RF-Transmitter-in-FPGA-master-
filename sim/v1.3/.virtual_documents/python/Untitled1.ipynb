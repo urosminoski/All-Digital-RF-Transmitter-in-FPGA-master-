import numpy as np
import scipy.signal as signal
import matplotlib.pyplot as plt
%matplotlib inline

import matplotlib as mpl
mpl.rc('text', usetex = True)
mpl.rc('font', family = 'serif', size = 18)


def float_to_fixed(x, n_int, n_frac):
    # Scale and round float number to int
    x_fixed = np.round(x * 2**n_frac)
    # Saturate if overflow
    max_val = 2**(n_int+n_frac)-1
    min_val = -(max_val+1)
    if x_fixed > max_val:
        x_fixed = max_val
    elif x_fixed < min_val:
        x_fixed = min_val
    return x_fixed
