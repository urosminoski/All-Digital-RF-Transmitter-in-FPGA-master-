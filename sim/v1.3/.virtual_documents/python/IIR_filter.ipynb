import numpy as np
import scipy.signal as signal
import matplotlib.pyplot as plt

import matplotlib as mpl
mpl.rc('text', usetex = True)
mpl.rc('font', family = 'serif', size = 18)


def plot_IIR(w, h):
    # Plot the magnitude response (in dB)
    plt.figure(figsize=(8, 6))
    
    plt.subplot(2, 1, 1)
    plt.plot(w/np.pi/2, 20 * np.log10(abs(h)), 'b')
    plt.title('IIR Filter Frequency Response')
    plt.xlabel(r'$F$')
    plt.ylabel(r'Magnitude $[dB]$')
    plt.grid()
    
    # Plot the phase response
    plt.subplot(2, 1, 2)
    plt.plot(w/np.pi/2, np.angle(h), 'g')
    plt.xlabel(r'$F$')
    plt.ylabel('Phase [radians]')
    plt.grid()
    
    plt.tight_layout()
    plt.show()


# Filter coefficients
b_init = [3.19382974, -8.02002256, 8.73762976, -4.61756997, 0.97458298]
a_init = [1, -1.63632004, 1.47600867, -0.75840147, 0.2125798, -0.02541702]


# Frequency response
w_init, h_init = signal.freqz(b_init, a_init)
# Plot magnitude/phase response
plot_IIR(w_init, h_init)


# Perform partial fraction expansion (residue form)
r, p, k = signal.residuez(b_init, a_init)

# Display the results
print("Residues (r):", r)
print("\nPoles (p):", p)
print("\nDirect term (k):", k)





r = np.array(r)
p = np.array(p)
k = np.array(k)

# Initialize the combined frequency response 
w = np.linspace(0, np.pi, 1024)
# H_total = np.zeros(len(w), dtype = complex)

processed = np.zeros(len(p), dtype = bool)
HH = []
t = 0
for i in range(len(p)):
    # If pole has been used (complex-conjugate pare) then skip
    if processed[i]:
        continue

    # If pole is real, imaginary part very small, it's a FIRST order section
    if p[i].imag <= 1e-10:
        # First order section H(z) = r[i] / (1 - p[i] * z^-1)
        b = [r[i].real]
        a = [1, -p[i].real]
    else:
        # Second order section. Look for complex conjugate
        for j in range(i + 1, len(p)):
            if p[i].real == p[j].real and p[i].imag == -p[j].imag:
                # Complex conjugate found. Use both to form second order section
                # Second order section H(z) = (2*r[i].real - 2*(r[i].real * p[i].real) - r[i].imag * p[i].imag)) / (1 - 2*p[i].real * z^[-1] + (p[i].real^2 + p[i].imag^2) * z^-2)
                b = [2 * r[i].real,  -2 * (r[i].real * p[i].real + r[i].imag * p[i].imag)]
                a = [1, -2*p[i].real, (p[i].real**2 + p[i].imag**2)]
                # Mark the conjuget as processed
                processed[j] = True
                break
                
    print("H" + str(t+1))
    t += 1
    print("b = ", b)
    print("a = ", a)
    print("\n\n")
    # Compute the frequency response of this section using freqz
    w, H = signal.freqz(b, a, worN = len(w))
    HH.append(H)

    # Mark this pole as processed
    processed[i] = True

H_total = sum(HH)
# If there is a DC component
if len(k) > 0:
    H_total += k[0].real

plot_IIR(w, H_total)


# Implementing IIR filter (simplest form for cpp)
F1 = 0.1 
F2 = 0.43
N = 512
n = np.arange(N) 
x = np.sin(2*np.pi*F1*n) + np.sin(2*np.pi*F2*n)

w = signal.hann(N, sym=True)
x_fft = np.fft.fft(x*w)
x_fft /= np.max(np.abs(x_fft))
x_fft_dB = 20*np.log10(x_fft)
x_fft_dB = x_fft_dB[:N//2].real

freqs = n / N
freqs = freqs[:N//2]

plt.plot(freqs, x_fft_dB);


y = signal.lfilter(b_init, a_init, x)

w = signal.hann(N, sym=True)
y_fft = np.fft.fft(y*w)
y_fft /= np.max(np.abs(y_fft))
y_fft_dB = 20*np.log10(y_fft)
y_fft_dB = y_fft_dB[:N//2].real

freqs = n / N
freqs = freqs[:N//2]

hh = 20 * np.log10(abs(h_init))
hh -= np.max(hh)

plt.plot(freqs, y_fft_dB)
plt.plot(w_init/np.pi/2, hh)
plt.ylim([-20, 5])
plt.grid();


b1 =  [7.376738447284568]
a1 =  [1, -0.3466037644977315]

b2 =  [0.42386913756811406, -2.782525031028174]
a2 =  [1, -0.6659138380831608, 0.1626025786310818]

b3 =  [-4.606777844852687, 0.023283687418655274]
a3 =  [1, -0.623802437419108, 0.45098689983844903]

y1 = signal.lfilter(b1, a1, x)
y2 = signal.lfilter(b2, a2, x)
y3 = signal.lfilter(b3, a3, x)
y = y1 + y2 + y3

w = signal.hann(N, sym=True)
y_fft = np.fft.fft(y*w)
y_fft /= np.max(np.abs(y_fft))
y_fft_dB = 20*np.log10(y_fft)
y_fft_dB = y_fft_dB[:N//2].real

freqs = n / N
freqs = freqs[:N//2]

hh = 20 * np.log10(abs(h_init))
hh -= np.max(hh)

plt.plot(freqs, y_fft_dB)
plt.plot(w_init/np.pi/2, hh)
plt.ylim([-20, 5])
plt.grid();


b1 =  [7.376738447284568]
a1 =  [1, -0.3466037644977315]

b2 =  [0.42386913756811406, -2.782525031028174]
a2 =  [1, -0.6659138380831608, 0.1626025786310818]

b3 =  [-4.606777844852687, 0.023283687418655274]
a3 =  [1, -0.623802437419108, 0.45098689983844903]

y1 = y1d = 0

y2 = 0
w2 = w2d = w2dd = 0

y3 = 0
w3 = w3d = w3dd = 0

y_new = np.zeros(len(x))

for n in range(len(x)):
    y1 = b1[0]*x[n] - a1[1]*y1d

    w2 = x[n] - a2[1]*w2d - a2[2]*w2dd
    y2 = b2[0]*w2 + b2[1]*w2d

    w3 = x[n] - a3[1]*w3d - a3[2]*w3dd
    y3 = b3[0]*w3 + b3[1]*w3d

    y_new[n] = y1 + y2 + y3
    
    y1d = y1
    w2dd = w2d
    w2d = w2
    w3dd = w3d
    w3d = w3


w = signal.hann(N, sym=True)
y_fft = np.fft.fft(y_new*w)
y_fft /= np.max(np.abs(y_fft))
y_fft_dB = 20*np.log10(y_fft)
y_fft_dB = y_fft_dB[:N//2].real

N = 512
n = np.arange(N) 

freqs = n / N
freqs = freqs[:N//2]

hh = 20 * np.log10(abs(h_init))
hh -= np.max(hh)

plt.plot(freqs, y_fft_dB)
plt.plot(w_init/np.pi/2, hh)
plt.ylim([-20, 5])
plt.grid();


pip install fxpmath








import numpy as np
import scipy.signal as signal
import matplotlib.pyplot as plt
%matplotlib inline

import matplotlib as mpl
mpl.rc('text', usetex = True)
mpl.rc('font', family = 'serif', size = 18)


# Convert floating-point to Q11 format
def q_convert(vals, Qf):
    q_vals = np.round(np.array(vals) * 2**Qf).astype(int)
    return q_vals

# Plot zeros and poles on the unit circle
def plot_zeros_poles(b, a, title = None):
    # Calculate zeros and poles
    zeros = np.roots(b)
    poles = np.roots(a)

    plt.figure(figsize=(6, 6))
    ax = plt.subplot(1, 1, 1)

    # Plot the unit circle
    unit_circle = plt.Circle((0, 0), 1, color='gray', fill=False, linestyle='--')
    ax.add_artist(unit_circle)

    # Plot zeros and poles
    plt.scatter(np.real(zeros), np.imag(zeros), s=50, marker='o', label="Zeros")
    plt.scatter(np.real(poles), np.imag(poles), s=50, marker='x', label="Poles")

    plt.axvline(0, color='gray', lw=1)
    plt.axhline(0, color='gray', lw=1)

    plt.xlim([-1.5, 1.5])
    plt.ylim([-1.5, 1.5])
    if title != None:
        plt.title(title)
    plt.xlabel("Real")
    plt.ylabel("Imaginary")
    plt.grid(True)
    plt.legend()
    plt.show()

def decompose_iir_to_parallel(b, a):
    # Perform partial fraction expansion (residue form)
    r, p, k = signal.residuez(b, a)

    # Variable to track which pole has been processed
    processed = np.zeros(len(p), dtype = bool)

    b_new = []
    a_new = []
    
    for i in range(len(p)):
        # If pole has been used (complex-conjugate pare) then skip
        if processed[i]:
            continue

        # If pole is real, imaginary part very small, it's a FIRST order section
        if p[i].imag <= 1e-10:
            # First order section H(z) = r[i] / (1 - p[i] * z^-1)
            b = [r[i].real]
            a = [1, -p[i].real]
        else:
            # Second order section. Look for complex conjugate
            for j in range(i + 1, len(p)):
                if p[i].real == p[j].real and p[i].imag == -p[j].imag:
                    # Complex conjugate found. Use both to form second order section
                    # Second order section H(z) = (2*r[i].real - 2*(r[i].real * p[i].real) - r[i].imag * p[i].imag)) / (1 - 2*p[i].real * z^[-1] + (p[i].real^2 + p[i].imag^2) * z^-2)
                    b = [2 * r[i].real,  -2 * (r[i].real * p[i].real + r[i].imag * p[i].imag)]
                    a = [1, -2*p[i].real, (p[i].real**2 + p[i].imag**2)]
                    # Mark the conjuget as processed
                    processed[j] = True
                    break
                    
        b_new.append(b)
        a_new.append(a)

        # Mark this pole as processed
        processed[i] = True

    return [b_new, a_new]
    


# Filter coefficients
b = [3.19382974, -8.02002256, 8.73762976, -4.61756997, 0.97458298]
a = [1, -1.63632004, 1.47600867, -0.75840147, 0.2125798, -0.02541702]


# Decompos IIR filter to parallel IIR sections
[b_parallel, a_parallel] = decompose_iir_to_parallel(b, a)

# Convert coeffitients of each section to Q11 format
b_parallel_q11 = []
a_parallel_q11 = []
for i in range(len(b_parallel)):
    b_parallel_q11 = 


plot_zeros_poles(b, a)


2**11


-10 / 12


# Filter coefficients
b = [3.19382974, -8.02002256, 8.73762976, -4.61756997, 0.97458298]
a = [1, -1.63632004, 1.47600867, -0.75840147, 0.2125798, -0.02541702]

b_ = np.array(b)
a_ = np.array(a)

b_ /= np.max(a_[1:])
a_[1:] /= np.max(a_[1:])
print(b_)
print(a_)

w, h = signal.freqz(b, a)
w, h_ = signal.freqz(b_, a_)

h_dB = 20*np.log10(np.abs(h))
h_dB -= np.max(h_dB)
h_dB_ = 20*np.log10(np.abs(h_))
h_dB_ -= np.max(h_dB_)

plt.plot(w/np.pi/2, h_dB)
plt.plot(w/np.pi/2, h_dB_)


w, h = signal.freqz(b, a)
w, h_ = signal.freqz(b_, a_)

h_dB = 20*np.log10(np.abs(h))
h_dB -= np.max(h_dB)
h_dB_ = 20*np.log10(np.abs(h_))
h_dB_ -= np.max(h_dB_)


plt.plot(w/np.pi/2, h_dB)
plt.plot(w/np.pi/2, h_dB_)



