from signal_utils import *


LUT = [LUT1, LUT2, LUT3, LUT4, LUT5]
n_lut = len(LUT)
lut_width = np.array([len(l[0]) for l in LUT])

OSR = 8
AdB_interpolation = 80

print(f"OSR = {OSR}")
print(f"AdB_interpolation = {AdB_interpolation}\n")

print(f"n_lut = {n_lut}")
print(f"lut_width = {lut_width}")





N = 2**12
n = np.arange(N)

perc = 0.15
Fmax = 0.5 * (1 - perc)
print(f"Fmax = {Fmax}")

F = 0.1721

x = 1.0 * np.exp(1j * 2*np.pi*F*n)
xr = x.real
xi = x.imag

plotdB(x, True)





# Taylor 1st Order Delay
i_delta = 1/8 * 1/lut_width * 1/OSR
q_delta = -1/8 * 1/lut_width * 1/OSR

print(i_delta)
print(1/8*1/OSR*1/15)

# xi_delay = frac_delay_1st(xi, i_delta, config.delay_kernel)
# xq_delay = frac_delay_1st(xq, q_delta, config.delay_kernel)
# x_delay = xi_delay + 1j*xq_delay





deltaPass = 10**(-AdB_interpolation/20)
deltaStop = deltaPass

F = [Fmax, 1-Fmax]
delta = [deltaPass, deltaStop]

# Interpolation by a factor of 8
xr_osr8 = np.real(interpolate(xr, OSR, F, delta, show=False, prt=False))
xi_osr8 = np.real(interpolate(xi, OSR, F, delta, show=False, prt=False))
x_osr8 = xr_osr8 + 1j*xi_osr8

freqs_osr8, xfftdB_osr8, angle_osr8 = fftdB(x_osr8)
xmin = -0.5
xmax = 0.5
plt.plot(freqs_osr8, xfftdB_osr8, label=f"OSR = {OSR}, {AdB_interpolation} dB")
plt.plot([xmin, xmax], [-AdB_interpolation, -AdB_interpolation], '--r')
plt.legend()
plt.xlim([xmin, xmax])
plt.grid()
plt.show();





AdB_delay = 80
deltaPass = 10**(-AdB_delay/20)
deltaStop = deltaPass

I = 4
Fpass = Fmax / I
Fstop = (1 - Fmax) / I



