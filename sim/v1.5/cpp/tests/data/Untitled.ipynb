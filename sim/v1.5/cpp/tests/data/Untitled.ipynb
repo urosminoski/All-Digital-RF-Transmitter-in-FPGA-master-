{
 "cells": [
  {
   "cell_type": "code",
   "execution_count": 16,
   "id": "60e1eb11-c95c-4c9e-8d95-a5c7cc20fe71",
   "metadata": {},
   "outputs": [],
   "source": [
    "import numpy as np"
   ]
  },
  {
   "cell_type": "code",
   "execution_count": 17,
   "id": "8f786cc4-71a7-4233-80ad-f5872373f9b0",
   "metadata": {},
   "outputs": [],
   "source": [
    "def read_real_data(file_path):\n",
    "    \"\"\"\n",
    "    Reads real data from a file where each line contains a single float value.\n",
    "\n",
    "    Args:\n",
    "        file_path (str): Path to the file containing real data.\n",
    "\n",
    "    Returns:\n",
    "        list[float]: List of real numbers read from the file.\n",
    "    \"\"\"\n",
    "    real_data = []\n",
    "    with open(file_path, \"r\") as file:\n",
    "        for line in file:\n",
    "            real_data.append(float(line.strip()))  # Convert each line to a float\n",
    "    return real_data\n",
    "\n",
    "\n",
    "def read_complex_data(file_path):\n",
    "    \"\"\"\n",
    "    Reads complex data from a file where each line contains a real and imaginary part\n",
    "    separated by a space.\n",
    "\n",
    "    Args:\n",
    "        file_path (str): Path to the file containing complex data.\n",
    "\n",
    "    Returns:\n",
    "        list[complex]: List of complex numbers read from the file.\n",
    "    \"\"\"\n",
    "    complex_data = []\n",
    "    with open(file_path, \"r\") as file:\n",
    "        for line in file:\n",
    "            parts = line.strip().split()  # Split the line into two parts\n",
    "            real_part = float(parts[0])  # First part is the real component\n",
    "            imag_part = float(parts[1])  # Second part is the imaginary component\n",
    "            complex_data.append(complex(real_part, imag_part))  # Create a complex number\n",
    "    return complex_data\n"
   ]
  },
  {
   "cell_type": "code",
   "execution_count": 32,
   "id": "5a4bb0d6-41d1-425c-a025-d900f5f6534f",
   "metadata": {},
   "outputs": [],
   "source": [
    "real_file_1 = \"./dataReal.txt\"\n",
    "complex_file_1 = \"./dataComplex.txt\"\n",
    "real_file_2 = \"./dataReal_tmp.txt\"\n",
    "complex_file_2 = \"./dataComplex_tmp.txt\"\n",
    "\n",
    "real_data_1 = read_real_data(real_file_1)\n",
    "real_data_2 = read_real_data(real_file_2)\n",
    "complex_data_1 = read_complex_data(complex_file_1)\n",
    "complex_data_2 = read_complex_data(complex_file_2)"
   ]
  },
  {
   "cell_type": "code",
   "execution_count": 35,
   "id": "369187c4-56d6-4543-82f8-03109306f9b1",
   "metadata": {},
   "outputs": [
    {
     "name": "stdout",
     "output_type": "stream",
     "text": [
      "0\n",
      "0\n"
     ]
    }
   ],
   "source": [
    "cnt = 0\n",
    "for i in range(len(real_data_1)):\n",
    "    if real_data_1[i] != real_data_2[i]:\n",
    "        cnt+=1\n",
    "print(cnt)\n",
    "\n",
    "cnt = 0\n",
    "for i in range(len(complex_data_1)):\n",
    "    if complex_data_1[i] != complex_data_2[i]:\n",
    "        cnt+=1\n",
    "print(cnt)"
   ]
  },
  {
   "cell_type": "code",
   "execution_count": 33,
   "id": "60782cd1-a3b2-427a-8ca7-fc00acee79e1",
   "metadata": {},
   "outputs": [
    {
     "name": "stdout",
     "output_type": "stream",
     "text": [
      "[1.0, -0.4257792915650727, -0.6374239897486895]\n",
      "[1.0, -0.4257792915650727, -0.6374239897486895]\n"
     ]
    }
   ],
   "source": [
    "print(real_data_1[:3])\n",
    "print(real_data_2[:3])"
   ]
  },
  {
   "cell_type": "code",
   "execution_count": 34,
   "id": "556974c5-5a68-4f33-bc86-aefc98e8698f",
   "metadata": {},
   "outputs": [
    {
     "name": "stdout",
     "output_type": "stream",
     "text": [
      "[(1+0j), (-0.4257792915650727+0.9048270524660195j), (-0.6374239897486895-0.7705132427757894j)]\n",
      "[(1+0j), (-0.4257792915650727+0.9048270524660195j), (-0.6374239897486895-0.7705132427757894j)]\n"
     ]
    }
   ],
   "source": [
    "print(complex_data_1[:3])\n",
    "print(complex_data_2[:3])"
   ]
  },
  {
   "cell_type": "code",
   "execution_count": 37,
   "id": "22c37298-a96b-42ec-9a51-cdb38d0395be",
   "metadata": {},
   "outputs": [
    {
     "name": "stdout",
     "output_type": "stream",
     "text": [
      "4096 4096\n",
      "4096 4096\n"
     ]
    }
   ],
   "source": [
    "print(len(real_data_1), len(real_data_2))\n",
    "print(len(complex_data_1), len(complex_data_2))"
   ]
  },
  {
   "cell_type": "code",
   "execution_count": 38,
   "id": "e4346a8f-bc58-4cdb-a94f-2055f73eae89",
   "metadata": {},
   "outputs": [
    {
     "name": "stdout",
     "output_type": "stream",
     "text": [
      "1.0\n"
     ]
    }
   ],
   "source": [
    "print(float(1))"
   ]
  },
  {
   "cell_type": "code",
   "execution_count": null,
   "id": "4af92e2b-cc9a-425f-a9cb-048c644b1c03",
   "metadata": {},
   "outputs": [],
   "source": []
  }
 ],
 "metadata": {
  "kernelspec": {
   "display_name": "Python 3 (ipykernel)",
   "language": "python",
   "name": "python3"
  },
  "language_info": {
   "codemirror_mode": {
    "name": "ipython",
    "version": 3
   },
   "file_extension": ".py",
   "mimetype": "text/x-python",
   "name": "python",
   "nbconvert_exporter": "python",
   "pygments_lexer": "ipython3",
   "version": "3.8.19"
  }
 },
 "nbformat": 4,
 "nbformat_minor": 5
}
