{
 "cells": [
  {
   "cell_type": "code",
   "execution_count": 1,
   "id": "576a435a-98ae-455d-99fc-7b5f31ef0887",
   "metadata": {},
   "outputs": [],
   "source": [
    "from signal_utils import *"
   ]
  },
  {
   "cell_type": "code",
   "execution_count": 2,
   "id": "e2fc4f36-8c6e-472d-928e-e4aedb0f53f5",
   "metadata": {},
   "outputs": [
    {
     "name": "stdout",
     "output_type": "stream",
     "text": [
      "H0 = [ 0.1667 -0.5     0.5    -0.1667]\n",
      "H1 = [ 0.   0.5 -1.   0.5]\n",
      "H2 = [-1.1667  1.     -0.5    -0.3333]\n",
      "H3 = [0 0 1 0]\n"
     ]
    }
   ],
   "source": [
    "C0 = np.array([-0.1667, 0.5, -0.5, 0.1667])\n",
    "C1 = np.array([0.5, -1, 0.5, 0])\n",
    "C2 = np.array([-0.3333, -0.5, 1, -1.1667])\n",
    "C3 = np.array([0, 1, 0, 0])\n",
    "C = [C0, C1, C2, C3]\n",
    "\n",
    "# Reverse each Ci to get Hi\n",
    "H = [np.flip(Ci) for Ci in C]\n",
    "# Display H\n",
    "for i, Hi in enumerate(H):\n",
    "    print(f\"H{i} =\", Hi)"
   ]
  },
  {
   "cell_type": "code",
   "execution_count": 43,
   "id": "0f613403-675c-40ed-87e3-00ac6f2ea891",
   "metadata": {},
   "outputs": [
    {
     "name": "stdout",
     "output_type": "stream",
     "text": [
      "-0.5003051754185438\n"
     ]
    }
   ],
   "source": [
    "def phase(x):\n",
    "    xfft = np.fft.fft(x)\n",
    "    xfft = xfft[:len(x)//2]\n",
    "    \n",
    "    mag = np.abs(xfft)\n",
    "    i = np.argmax(mag[1:-1]) + 1  # avoid DC and Nyquist\n",
    "    \n",
    "    alpha = mag[i-1]\n",
    "    beta = mag[i]\n",
    "    gamma = mag[i+1]\n",
    "    \n",
    "    # Interpolated peak position\n",
    "    p = 0.5 * (alpha - gamma) / (alpha - 2*beta + gamma)\n",
    "    interpolated_bin = i + p\n",
    "    \n",
    "    # Interpolated phase (linear between bins)\n",
    "    phase_i = np.angle(xfft[i])\n",
    "    phase_ip1 = np.angle(xfft[i+1])\n",
    "    \n",
    "    # unwrap phase difference to avoid jump\n",
    "    delta_phase = np.angle(np.exp(1j*(phase_ip1 - phase_i)))\n",
    "    \n",
    "    interpolated_phase = phase_i + p * delta_phase\n",
    "    \n",
    "    return interpolated_phase / np.pi  # normalized\n",
    "    \n",
    "\n",
    "def firrow_filter(x, delta):\n",
    "    C0 = np.array([-0.1667, 0.5, -0.5, 0.1667])\n",
    "    C1 = np.array([0.5, -1, 0.5, 0])\n",
    "    C2 = np.array([-0.3333, -0.5, 1, -1.1667])\n",
    "    C3 = np.array([0, 1, 0, 0])\n",
    "    C = [C0, C1, C2, C3]\n",
    "    # Reverse each Ci to get Hi\n",
    "    H = [np.flip(Ci) for Ci in C]\n",
    "\n",
    "    acc = signal.lfilter(H[0], 1.0, x)\n",
    "    for h in H[1:]:\n",
    "        acc = signal.lfilter(h, 1.0, x) + delta*acc\n",
    "        \n",
    "    return acc"
   ]
  },
  {
   "cell_type": "code",
   "execution_count": 36,
   "id": "50db4459-4d4b-4e70-b86f-bfc91aede483",
   "metadata": {},
   "outputs": [],
   "source": [
    "x = 1.0 * np.sin(2*np.pi*np.arange(512)*10/512)\n",
    "delta = 1/2\n",
    "\n",
    "y = firrow_filter(x, delta)"
   ]
  },
  {
   "cell_type": "code",
   "execution_count": 39,
   "id": "82bd0f32-c8a9-4af5-90de-b36f3ff8f191",
   "metadata": {},
   "outputs": [
    {
     "name": "stdout",
     "output_type": "stream",
     "text": [
      "-0.055123276570698605\n"
     ]
    }
   ],
   "source": [
    "N = 512\n",
    "F = 10/N\n",
    "phi = 0\n",
    "x = np.sin(2*np.pi*F*np.arange(N) + phi)\n",
    "\n",
    "xPhase = phase_goertzel(x, F)/np.pi\n",
    "print(xPhase)\n"
   ]
  },
  {
   "cell_type": "code",
   "execution_count": null,
   "id": "976b9a53-7da3-42db-b093-07148ac5f797",
   "metadata": {},
   "outputs": [],
   "source": []
  },
  {
   "cell_type": "code",
   "execution_count": null,
   "id": "3935d4cc-c431-44a5-a54e-87f85aec4ca3",
   "metadata": {},
   "outputs": [],
   "source": []
  }
 ],
 "metadata": {
  "kernelspec": {
   "display_name": "Python 3 (ipykernel)",
   "language": "python",
   "name": "python3"
  },
  "language_info": {
   "codemirror_mode": {
    "name": "ipython",
    "version": 3
   },
   "file_extension": ".py",
   "mimetype": "text/x-python",
   "name": "python",
   "nbconvert_exporter": "python",
   "pygments_lexer": "ipython3",
   "version": "3.12.2"
  }
 },
 "nbformat": 4,
 "nbformat_minor": 5
}
