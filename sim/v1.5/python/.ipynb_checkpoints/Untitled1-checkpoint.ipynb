{
 "cells": [
  {
   "cell_type": "code",
   "execution_count": 59,
   "id": "33629c56-d9af-469a-a752-d626c4089be4",
   "metadata": {},
   "outputs": [
    {
     "name": "stdout",
     "output_type": "stream",
     "text": [
      "Metadata for x: {'OSR': 8.0, 'fs': 10000.0}\n",
      "Metadata for y: {'OSR': 8.0, 'fs': 10000.0}\n",
      "Metadata for y_serial: {'OSR': 8.0, 'fs': 10000.0, 'lut_name': 1.0, 'lut_size': 16.0}\n",
      "LUT size: 16\n",
      "LUT name: 1\n"
     ]
    },
    {
     "name": "stderr",
     "output_type": "stream",
     "text": [
      "/tmp/ipykernel_3542/3525855581.py:117: UserWarning: Matplotlib is currently using agg, which is a non-GUI backend, so cannot show the figure.\n",
      "  plt.show();\n",
      "/tmp/ipykernel_3542/3525855581.py:141: UserWarning: Matplotlib is currently using agg, which is a non-GUI backend, so cannot show the figure.\n",
      "  plt.show();\n"
     ]
    }
   ],
   "source": [
    "import os\n",
    "import numpy as np\n",
    "import scipy.signal as signal\n",
    "import matplotlib\n",
    "# matplotlib.use('Agg')\n",
    "import matplotlib.pyplot as plt\n",
    "\n",
    "# Enable LaTeX rendering\n",
    "plt.rc('text', usetex=True)\n",
    "plt.rc('font', family='serif')\n",
    "\n",
    "\n",
    "def read_file_with_header(file_path):\n",
    "    \"\"\"\n",
    "    Reads a file with metadata in the header and numerical data below.\n",
    "    \n",
    "    Args:\n",
    "        file_path (str): Path to the input file.\n",
    "    \n",
    "    Returns:\n",
    "        dict: Metadata key-value pairs.\n",
    "        np.ndarray: Numerical data as a NumPy array.\n",
    "    \"\"\"\n",
    "    metadata = {}\n",
    "    data = []\n",
    "\n",
    "    with open(file_path, 'r') as f:\n",
    "        for line in f:\n",
    "            if line.startswith('#'):\n",
    "                key_value = line[1:].strip().split(\"=\")  # Metadata in format `key=value`\n",
    "                if len(key_value) == 2:\n",
    "                    key, value = key_value[0].strip(), key_value[1].strip()\n",
    "                    try:\n",
    "                        # Convert numeric metadata to float if possible\n",
    "                        metadata[key] = float(value) if value.replace('.', '', 1).isdigit() else value\n",
    "                    except ValueError:\n",
    "                        metadata[key] = value\n",
    "            else:\n",
    "                try:\n",
    "                    data.append(complex(line.strip()))  # Assuming float values in the data\n",
    "                except ValueError:\n",
    "                    pass  # Ignore non-numeric lines\n",
    "\n",
    "    return metadata, np.array(data)\n",
    "\n",
    "\n",
    "def assign_metadata_to_variables(metadata):\n",
    "    \"\"\"\n",
    "    Assign metadata values to local variables based on keys.\n",
    "    \n",
    "    Args:\n",
    "        metadata (dict): Metadata key-value pairs.\n",
    "    \n",
    "    Returns:\n",
    "        dict: A dictionary containing local variables for each metadata key.\n",
    "    \"\"\"\n",
    "    local_vars = {}\n",
    "    for key, value in metadata.items():\n",
    "        local_vars[key] = value  # Store metadata as local variables in a dictionary\n",
    "    return local_vars\n",
    "\n",
    "def plotSpectrum(Y, X, OSR, title='Spectrum', xlabel=r'$f \\, / \\, f_s$', ylabel=r'$|X|_{dB}$', color='blue'):\n",
    "    plt.plot(Y, X - np.max(X), color=color)\n",
    "    plt.plot([0.5 / OSR, 0.5 / OSR], [np.min(X - np.max(X)), np.max(X - np.max(X))], '--k', linewidth=1.5)\n",
    "    plt.plot([-0.5 / OSR, -0.5 / OSR], [np.min(X - np.max(X)), np.max(X - np.max(X))], '--k', linewidth=1.5)\n",
    "    plt.title(title, fontsize=16)\n",
    "    plt.xlabel(xlabel, fontsize=14)\n",
    "    plt.ylabel(ylabel, fontsize=14)\n",
    "    plt.grid()\n",
    "\n",
    "\n",
    "def main():\n",
    "    # Read data and metadata\n",
    "    x_meta, x = read_file_with_header('../data/sinData.txt')\n",
    "    y_meta, y = read_file_with_header('../data/sinData_deltaSigma.txt')\n",
    "    y_serial_meta, y_serial = read_file_with_header('../data/sinData_serialData.txt')\n",
    "\n",
    "    # Assign metadata to local variables\n",
    "    x_vars = assign_metadata_to_variables(x_meta)\n",
    "    y_vars = assign_metadata_to_variables(y_meta)\n",
    "    y_serial_vars = assign_metadata_to_variables(y_serial_meta)\n",
    "\n",
    "    # Extraction of metadata\n",
    "    OSR = int(x_vars.get(\"OSR\", 1))  # Use default OSR=1 if not found in metadata\n",
    "    fs = x_vars.get(\"fs\", None)\n",
    "    lut_name = int(y_serial_vars.get(\"lut_name\", -1))  # Default to \"unknown\" if not found\n",
    "    lut_size = int(y_serial_vars.get(\"lut_size\", 0))  # Add LUT size handling\n",
    "\n",
    "    print(f\"Metadata for x: {x_vars}\")\n",
    "    print(f\"Metadata for y: {y_vars}\")\n",
    "    print(f\"Metadata for y_serial: {y_serial_vars}\")\n",
    "    print(f\"LUT size: {lut_size}\")\n",
    "    print(f\"LUT name: {lut_name}\")\n",
    "\n",
    "    # Process and plot data\n",
    "    w = signal.barthann(len(x), False)\n",
    "    x_win = x * w\n",
    "    y_win = y * w\n",
    "\n",
    "    XdB = 20 * np.log10(np.abs(np.fft.fftshift(np.fft.fft(x_win))))\n",
    "    YdB = 20 * np.log10(np.abs(np.fft.fftshift(np.fft.fft(y_win))))\n",
    "\n",
    "    freqs = (np.arange(len(x)) / len(x) - 0.5)\n",
    "\n",
    "    # Plotting\n",
    "    plt.figure(figsize=(14, 12))\n",
    "    # First subplot for XdB\n",
    "    plt.subplot(2, 1, 1)  # 2 rows, 1 column, subplot 1\n",
    "    plotSpectrum(Y=freqs, X=XdB, OSR=OSR, title=r'Spectrum of sin wave', xlabel=r'$f \\, / \\, f_s$', ylabel='$|X|_{dB}$', color='blue')\n",
    "    # Second subplot for YdB\n",
    "    plt.subplot(2, 1, 2)  # 2 rows, 1 column, subplot 2\n",
    "    plotSpectrum(Y=freqs, X=YdB, OSR=OSR, title=r'Spectrum of modulated sin wave', xlabel=r'$f \\, / \\, f_s$', ylabel='$|X|_{dB}$', color='red')\n",
    "    # Save figure\n",
    "    # deltaSigma_data_fig = f\"./figs/sinData_deltaSigma.png\"\n",
    "    # plt.savefig(deltaSigma_data_fig)\n",
    "    # print(f\"Figure saved as {deltaSigma_data_fig}\")\n",
    "    plt.show();\n",
    "\n",
    "    # Process y_serial\n",
    "    w = signal.barthann(len(y_serial), False)\n",
    "    y_serial_win = y_serial * w\n",
    "\n",
    "    N = len(y_serial_win) #// lut_size\n",
    "    epsilon = 1e-12\n",
    "\n",
    "    M = N #// lut_size\n",
    "    freqs = (np.arange(M) / M - 0.5)\n",
    "\n",
    "    y_fft = np.fft.fftshift(np.fft.fft(y_serial_win))\n",
    "    YsdB = 20 * np.log10(np.abs(y_fft))#[int(N/2*(1-1/lut_size)):int(N/2*(1+1/lut_size))]+ epsilon)  # Adding epsilon to avoid log of zero\n",
    "    YsdB -= np.max(YsdB)\n",
    "\n",
    "    # Plotting\n",
    "    plt.figure(figsize=(14, 6))\n",
    "    plotSpectrum(Y=freqs, X=YsdB, OSR=OSR, title=r'Spectrum of serialized data', xlabel=r'$f \\, / \\, f_s$', ylabel='$|X|_{dB}$', color='blue')\n",
    "    plt.xlim([-0.5/lut_size,0.5/lut_size])\n",
    "    # Saving figure\n",
    "    # serial_data_fig = f\"./figs/sinData_serialData_LUT{lut_name}.png\"\n",
    "    # plt.savefig(serial_data_fig)\n",
    "    # print(f\"Figure saved as {serial_data_fig}\")\n",
    "    plt.show();\n",
    "\n",
    "\n",
    "\n",
    "if __name__ == \"__main__\":\n",
    "    main()\n"
   ]
  },
  {
   "cell_type": "code",
   "execution_count": 17,
   "id": "7ad4245a-c7ff-4c15-920f-6e1ceda20ccb",
   "metadata": {},
   "outputs": [
    {
     "data": {
      "image/png": "[encoded data removed]",
      "text/plain": [
       "<Figure size 640x480 with 1 Axes>"
      ]
     },
     "metadata": {},
     "output_type": "display_data"
    },
    {
     "data": {
      "image/png": "[encoded data removed]",
      "text/plain": [
       "<Figure size 640x480 with 1 Axes>"
      ]
     },
     "metadata": {},
     "output_type": "display_data"
    }
   ],
   "source": [
    "# Read data and metadata\n",
    "x_meta, x = read_file_with_header('../data/sinData.txt')\n",
    "y_meta, y = read_file_with_header('../data/sinData_deltaSigma.txt')\n",
    "\n",
    "x_meta, x = read_file_with_header('../data/sinData.txt')\n",
    "y_meta, y = read_file_with_header('../data/sinData_deltaSigma.txt')\n",
    "\n",
    "N = len(x)\n",
    "\n",
    "w = signal.barthann(len(x), False)\n",
    "x_win = x * w\n",
    "y_win = y * w\n",
    "\n",
    "XdB = 20 * np.log10(np.abs(np.fft.fftshift(np.fft.fft(x_win))))\n",
    "YdB = 20 * np.log10(np.abs(np.fft.fftshift(np.fft.fft(y_win))))\n",
    "\n",
    "freqs = (np.arange(N) / N - 0.5)\n",
    "\n",
    "plt.plot(freqs, XdB - np.max(XdB))\n",
    "plt.show()\n",
    "\n",
    "plt.plot(freqs, YdB - np.max(YdB))\n",
    "plt.show()"
   ]
  },
  {
   "cell_type": "code",
   "execution_count": 32,
   "id": "83aa9efd-a8a9-4654-929c-5d930ee75fd1",
   "metadata": {},
   "outputs": [
    {
     "ename": "ValueError",
     "evalue": "x and y must have same first dimension, but have shapes (1048576,) and (8192,)",
     "output_type": "error",
     "traceback": [
      "\u001b[0;31m---------------------------------------------------------------------------\u001b[0m",
      "\u001b[0;31mValueError\u001b[0m                                Traceback (most recent call last)",
      "\u001b[0;32m/tmp/ipykernel_3394/3851824093.py\u001b[0m in \u001b[0;36m<module>\u001b[0;34m\u001b[0m\n\u001b[0;32m----> 1\u001b[0;31m \u001b[0mplt\u001b[0m\u001b[0;34m.\u001b[0m\u001b[0mplot\u001b[0m\u001b[0;34m(\u001b[0m\u001b[0mfreqs\u001b[0m\u001b[0;34m,\u001b[0m \u001b[0mnp\u001b[0m\u001b[0;34m.\u001b[0m\u001b[0mangle\u001b[0m\u001b[0;34m(\u001b[0m\u001b[0mnp\u001b[0m\u001b[0;34m.\u001b[0m\u001b[0mfft\u001b[0m\u001b[0;34m.\u001b[0m\u001b[0mfftshift\u001b[0m\u001b[0;34m(\u001b[0m\u001b[0mnp\u001b[0m\u001b[0;34m.\u001b[0m\u001b[0mfft\u001b[0m\u001b[0;34m.\u001b[0m\u001b[0mfft\u001b[0m\u001b[0;34m(\u001b[0m\u001b[0mx\u001b[0m\u001b[0;34m)\u001b[0m\u001b[0;34m)\u001b[0m\u001b[0;34m)\u001b[0m\u001b[0;34m)\u001b[0m\u001b[0;34m\u001b[0m\u001b[0;34m\u001b[0m\u001b[0m\n\u001b[0m",
      "\u001b[0;32m~/anaconda3/lib/python3.8/site-packages/matplotlib/pyplot.py\u001b[0m in \u001b[0;36mplot\u001b[0;34m(scalex, scaley, data, *args, **kwargs)\u001b[0m\n\u001b[1;32m   2810\u001b[0m \u001b[0;34m@\u001b[0m\u001b[0m_copy_docstring_and_deprecators\u001b[0m\u001b[0;34m(\u001b[0m\u001b[0mAxes\u001b[0m\u001b[0;34m.\u001b[0m\u001b[0mplot\u001b[0m\u001b[0;34m)\u001b[0m\u001b[0;34m\u001b[0m\u001b[0;34m\u001b[0m\u001b[0m\n\u001b[1;32m   2811\u001b[0m \u001b[0;32mdef\u001b[0m \u001b[0mplot\u001b[0m\u001b[0;34m(\u001b[0m\u001b[0;34m*\u001b[0m\u001b[0margs\u001b[0m\u001b[0;34m,\u001b[0m \u001b[0mscalex\u001b[0m\u001b[0;34m=\u001b[0m\u001b[0;32mTrue\u001b[0m\u001b[0;34m,\u001b[0m \u001b[0mscaley\u001b[0m\u001b[0;34m=\u001b[0m\u001b[0;32mTrue\u001b[0m\u001b[0;34m,\u001b[0m \u001b[0mdata\u001b[0m\u001b[0;34m=\u001b[0m\u001b[0;32mNone\u001b[0m\u001b[0;34m,\u001b[0m \u001b[0;34m**\u001b[0m\u001b[0mkwargs\u001b[0m\u001b[0;34m)\u001b[0m\u001b[0;34m:\u001b[0m\u001b[0;34m\u001b[0m\u001b[0;34m\u001b[0m\u001b[0m\n\u001b[0;32m-> 2812\u001b[0;31m     return gca().plot(\n\u001b[0m\u001b[1;32m   2813\u001b[0m         \u001b[0;34m*\u001b[0m\u001b[0margs\u001b[0m\u001b[0;34m,\u001b[0m \u001b[0mscalex\u001b[0m\u001b[0;34m=\u001b[0m\u001b[0mscalex\u001b[0m\u001b[0;34m,\u001b[0m \u001b[0mscaley\u001b[0m\u001b[0;34m=\u001b[0m\u001b[0mscaley\u001b[0m\u001b[0;34m,\u001b[0m\u001b[0;34m\u001b[0m\u001b[0;34m\u001b[0m\u001b[0m\n\u001b[1;32m   2814\u001b[0m         **({\"data\": data} if data is not None else {}), **kwargs)\n",
      "\u001b[0;32m~/anaconda3/lib/python3.8/site-packages/matplotlib/axes/_axes.py\u001b[0m in \u001b[0;36mplot\u001b[0;34m(self, scalex, scaley, data, *args, **kwargs)\u001b[0m\n\u001b[1;32m   1686\u001b[0m         \"\"\"\n\u001b[1;32m   1687\u001b[0m         \u001b[0mkwargs\u001b[0m \u001b[0;34m=\u001b[0m \u001b[0mcbook\u001b[0m\u001b[0;34m.\u001b[0m\u001b[0mnormalize_kwargs\u001b[0m\u001b[0;34m(\u001b[0m\u001b[0mkwargs\u001b[0m\u001b[0;34m,\u001b[0m \u001b[0mmlines\u001b[0m\u001b[0;34m.\u001b[0m\u001b[0mLine2D\u001b[0m\u001b[0;34m)\u001b[0m\u001b[0;34m\u001b[0m\u001b[0;34m\u001b[0m\u001b[0m\n\u001b[0;32m-> 1688\u001b[0;31m         \u001b[0mlines\u001b[0m \u001b[0;34m=\u001b[0m \u001b[0;34m[\u001b[0m\u001b[0;34m*\u001b[0m\u001b[0mself\u001b[0m\u001b[0;34m.\u001b[0m\u001b[0m_get_lines\u001b[0m\u001b[0;34m(\u001b[0m\u001b[0;34m*\u001b[0m\u001b[0margs\u001b[0m\u001b[0;34m,\u001b[0m \u001b[0mdata\u001b[0m\u001b[0;34m=\u001b[0m\u001b[0mdata\u001b[0m\u001b[0;34m,\u001b[0m \u001b[0;34m**\u001b[0m\u001b[0mkwargs\u001b[0m\u001b[0;34m)\u001b[0m\u001b[0;34m]\u001b[0m\u001b[0;34m\u001b[0m\u001b[0;34m\u001b[0m\u001b[0m\n\u001b[0m\u001b[1;32m   1689\u001b[0m         \u001b[0;32mfor\u001b[0m \u001b[0mline\u001b[0m \u001b[0;32min\u001b[0m \u001b[0mlines\u001b[0m\u001b[0;34m:\u001b[0m\u001b[0;34m\u001b[0m\u001b[0;34m\u001b[0m\u001b[0m\n\u001b[1;32m   1690\u001b[0m             \u001b[0mself\u001b[0m\u001b[0;34m.\u001b[0m\u001b[0madd_line\u001b[0m\u001b[0;34m(\u001b[0m\u001b[0mline\u001b[0m\u001b[0;34m)\u001b[0m\u001b[0;34m\u001b[0m\u001b[0;34m\u001b[0m\u001b[0m\n",
      "\u001b[0;32m~/anaconda3/lib/python3.8/site-packages/matplotlib/axes/_base.py\u001b[0m in \u001b[0;36m__call__\u001b[0;34m(self, data, *args, **kwargs)\u001b[0m\n\u001b[1;32m    309\u001b[0m                 \u001b[0mthis\u001b[0m \u001b[0;34m+=\u001b[0m \u001b[0margs\u001b[0m\u001b[0;34m[\u001b[0m\u001b[0;36m0\u001b[0m\u001b[0;34m]\u001b[0m\u001b[0;34m,\u001b[0m\u001b[0;34m\u001b[0m\u001b[0;34m\u001b[0m\u001b[0m\n\u001b[1;32m    310\u001b[0m                 \u001b[0margs\u001b[0m \u001b[0;34m=\u001b[0m \u001b[0margs\u001b[0m\u001b[0;34m[\u001b[0m\u001b[0;36m1\u001b[0m\u001b[0;34m:\u001b[0m\u001b[0;34m]\u001b[0m\u001b[0;34m\u001b[0m\u001b[0;34m\u001b[0m\u001b[0m\n\u001b[0;32m--> 311\u001b[0;31m             yield from self._plot_args(\n\u001b[0m\u001b[1;32m    312\u001b[0m                 this, kwargs, ambiguous_fmt_datakey=ambiguous_fmt_datakey)\n\u001b[1;32m    313\u001b[0m \u001b[0;34m\u001b[0m\u001b[0m\n",
      "\u001b[0;32m~/anaconda3/lib/python3.8/site-packages/matplotlib/axes/_base.py\u001b[0m in \u001b[0;36m_plot_args\u001b[0;34m(self, tup, kwargs, return_kwargs, ambiguous_fmt_datakey)\u001b[0m\n\u001b[1;32m    502\u001b[0m \u001b[0;34m\u001b[0m\u001b[0m\n\u001b[1;32m    503\u001b[0m         \u001b[0;32mif\u001b[0m \u001b[0mx\u001b[0m\u001b[0;34m.\u001b[0m\u001b[0mshape\u001b[0m\u001b[0;34m[\u001b[0m\u001b[0;36m0\u001b[0m\u001b[0;34m]\u001b[0m \u001b[0;34m!=\u001b[0m \u001b[0my\u001b[0m\u001b[0;34m.\u001b[0m\u001b[0mshape\u001b[0m\u001b[0;34m[\u001b[0m\u001b[0;36m0\u001b[0m\u001b[0;34m]\u001b[0m\u001b[0;34m:\u001b[0m\u001b[0;34m\u001b[0m\u001b[0;34m\u001b[0m\u001b[0m\n\u001b[0;32m--> 504\u001b[0;31m             raise ValueError(f\"x and y must have same first dimension, but \"\n\u001b[0m\u001b[1;32m    505\u001b[0m                              f\"have shapes {x.shape} and {y.shape}\")\n\u001b[1;32m    506\u001b[0m         \u001b[0;32mif\u001b[0m \u001b[0mx\u001b[0m\u001b[0;34m.\u001b[0m\u001b[0mndim\u001b[0m \u001b[0;34m>\u001b[0m \u001b[0;36m2\u001b[0m \u001b[0;32mor\u001b[0m \u001b[0my\u001b[0m\u001b[0;34m.\u001b[0m\u001b[0mndim\u001b[0m \u001b[0;34m>\u001b[0m \u001b[0;36m2\u001b[0m\u001b[0;34m:\u001b[0m\u001b[0;34m\u001b[0m\u001b[0;34m\u001b[0m\u001b[0m\n",
      "\u001b[0;31mValueError\u001b[0m: x and y must have same first dimension, but have shapes (1048576,) and (8192,)"
     ]
    },
    {
     "data": {
      "image/png": "[encoded data removed]",
      "text/plain": [
       "<Figure size 640x480 with 1 Axes>"
      ]
     },
     "metadata": {},
     "output_type": "display_data"
    }
   ],
   "source": [
    "plt.plot(freqs, np.angle(np.fft.fftshift(np.fft.fft(x))))"
   ]
  },
  {
   "cell_type": "code",
   "execution_count": 14,
   "id": "d13894bd-24d1-49dc-b8c4-61c462520b48",
   "metadata": {},
   "outputs": [],
   "source": [
    "y_serial_meta, y_serial = read_file_with_header('../data/sinData_serialData_LUT3.txt')\n",
    "testSignal = y_serial\n",
    "NyqZones = 4"
   ]
  },
  {
   "cell_type": "code",
   "execution_count": 26,
   "id": "8fc8c681-f920-4955-94f2-3640391e4f02",
   "metadata": {},
   "outputs": [
    {
     "data": {
      "image/png": "[encoded data removed]",
      "text/plain": [
       "<Figure size 640x480 with 1 Axes>"
      ]
     },
     "metadata": {},
     "output_type": "display_data"
    }
   ],
   "source": [
    "nrz = np.ones(NyqZones-3)\n",
    "\n",
    "x_upsampled = np.zeros((len(testSignal)-1)*NyqZones+1+3) # Size is (N-1)*M+1, bcs after convolution ((N-1)*M+1) + M - 1 = N*M as it should be!\n",
    "x_upsampled[::NyqZones] = testSignal.real\n",
    "x_upsampled[1::NyqZones] = testSignal.imag\n",
    "x_upsampled[2::NyqZones] = -testSignal.real\n",
    "x_upsampled[3::NyqZones] = -testSignal.imag\n",
    "\n",
    "x_nrz = np.convolve(nrz, x_upsampled)\n",
    "\n",
    "w = signal.barthann(len(x_nrz), False)\n",
    "x_nrz_win = x_nrz * w\n",
    "\n",
    "XnrzdB = 20*np.log10(np.fft.fftshift(abs(np.fft.fft(x_nrz_win))))\n",
    "XnrzdB -= np.max(XnrzdB)\n",
    "\n",
    "freqs = (np.arange(len(x_nrz_win)) / len(x_nrz_win) - 0.5) * NyqZones #* len(y_serial) / len(x)\n",
    "\n",
    "plt.plot(freqs, XnrzdB)\n",
    "# plt.ylim([-200, 0])\n",
    "plt.xlim([1-0.5/(len(y_serial) / len(x)), 1+0.5/(len(y_serial) / len(x))])\n",
    "plt.xlabel(\"f/fs\")\n",
    "plt.ylabel(\"|X|dB\")\n",
    "plt.ylim([-150, 5])\n",
    "plt.show()"
   ]
  },
  {
   "cell_type": "code",
   "execution_count": null,
   "id": "3161a440-4a47-4bf3-b876-df80e54f97a6",
   "metadata": {},
   "outputs": [],
   "source": []
  },
  {
   "cell_type": "code",
   "execution_count": null,
   "id": "8f79cdbb-ce86-41b3-94a7-eac996183c13",
   "metadata": {},
   "outputs": [],
   "source": []
  },
  {
   "cell_type": "code",
   "execution_count": 16,
   "id": "5fc84d34-a1e8-434d-9ebb-5c9fc2e5f7d5",
   "metadata": {},
   "outputs": [
    {
     "name": "stdout",
     "output_type": "stream",
     "text": [
      "16\n",
      "14\n",
      "12\n",
      "10\n",
      "8\n",
      "6\n",
      "4\n",
      "2\n",
      "0\n",
      "-2\n",
      "-4\n",
      "-6\n",
      "-8\n",
      "-10\n",
      "-12\n",
      "-14\n",
      "-16\n",
      "\n",
      "\n",
      "32\n",
      "28\n",
      "24\n",
      "20\n",
      "16\n",
      "12\n",
      "8\n",
      "4\n",
      "0\n",
      "-4\n",
      "-8\n",
      "-12\n",
      "-16\n",
      "-20\n",
      "-24\n",
      "-28\n",
      "-32\n",
      "\n",
      "\n",
      "32\n",
      "28\n",
      "24\n",
      "20\n",
      "16\n",
      "12\n",
      "8\n",
      "4\n",
      "0\n",
      "-4\n",
      "-8\n",
      "-12\n",
      "-16\n",
      "-20\n",
      "-24\n",
      "-28\n",
      "-32\n",
      "\n",
      "\n",
      "15\n",
      "13\n",
      "11\n",
      "9\n",
      "7\n",
      "5\n",
      "3\n",
      "1\n",
      "-1\n",
      "-3\n",
      "-5\n",
      "-7\n",
      "-9\n",
      "-11\n",
      "-13\n",
      "-15\n",
      "\n",
      "\n",
      "15\n",
      "13\n",
      "11\n",
      "9\n",
      "7\n",
      "5\n",
      "3\n",
      "1\n",
      "-1\n",
      "-3\n",
      "-5\n",
      "-7\n",
      "-9\n",
      "-11\n",
      "-13\n",
      "-15\n",
      "\n",
      "\n"
     ]
    }
   ],
   "source": [
    "LUT1 = [\n",
    "    [1, 1, 1, 1, 1, 1, 1, 1, 1, 1, 1, 1, 1, 1, 1, 1],  # Level 8\n",
    "    [0, 1, 1, 1, 1, 1, 1, 1, 1, 1, 1, 1, 1, 1, 1, 1],  # Level 7\n",
    "    [0, 1, 1, 1, 1, 1, 1, 1, 1, 1, 1, 1, 1, 1, 0, 1],  # Level 6\n",
    "    [0, 1, 0, 1, 1, 1, 1, 1, 1, 1, 1, 1, 1, 1, 0, 1],  # Level 5\n",
    "    [0, 1, 0, 1, 1, 1, 1, 1, 1, 1, 1, 1, 0, 1, 0, 1],  # Level 4\n",
    "    [0, 1, 0, 1, 1, 1, 1, 1, 1, 1, 1, 0, 1, 0, 1, 0],  # Level 3\n",
    "    [0, 1, 0, 1, 0, 1, 1, 1, 1, 1, 0, 1, 0, 1, 0, 1],  # Level 2\n",
    "    [0, 1, 0, 1, 0, 1, 1, 1, 0, 1, 0, 1, 0, 1, 0, 1],  # Level 1\n",
    "    [0, 1, 0, 1, 0, 1, 0, 1, 0, 1, 0, 1, 0, 1, 0, 1],  # Level 0\n",
    "    [0, 1, 0, 1, 0, 1, 0, 0, 0, 1, 0, 1, 0, 1, 0, 1],  # Level -1\n",
    "    [0, 1, 0, 1, 0, 0, 0, 0, 0, 1, 0, 1, 0, 1, 0, 1],  # Level -2\n",
    "    [0, 1, 0, 1, 0, 0, 0, 0, 0, 0, 0, 1, 0, 1, 0, 1],  # Level -3\n",
    "    [0, 1, 0, 1, 0, 0, 0, 0, 0, 0, 0, 0, 0, 1, 0, 1],  # Level -4\n",
    "    [0, 1, 0, 0, 0, 0, 0, 0, 0, 0, 0, 0, 0, 1, 0, 1],  # Level -5\n",
    "    [0, 1, 0, 0, 0, 0, 0, 0, 0, 0, 0, 0, 0, 0, 0, 1],  # Level -6\n",
    "    [0, 0, 0, 0, 0, 0, 0, 0, 0, 0, 0, 0, 0, 0, 0, 1],  # Level -7\n",
    "    [0, 0, 0, 0, 0, 0, 0, 0, 0, 0, 0, 0, 0, 0, 0, 0],  # Level -8\n",
    "    ]\n",
    "\n",
    "LUT2 = [\n",
    "    [1, 1, 1, 1, 1, 1, 1, 1, 1, 1, 1, 1, 1, 1, 1, 1, 1, 1, 1, 1, 1, 1, 1, 1, 1, 1, 1, 1, 1, 1, 1, 1],  # Level 8\n",
    "    [0, 1, 1, 1, 1, 1, 1, 1, 1, 1, 1, 1, 1, 1, 1, 1, 1, 1, 1, 1, 1, 1, 1, 1, 1, 1, 1, 1, 1, 1, 1, 0],  # Level 7\n",
    "    [0, 1, 1, 1, 1, 1, 1, 1, 1, 1, 1, 1, 1, 1, 0, 1, 1, 0, 1, 1, 1, 1, 1, 1, 1, 1, 1, 1, 1, 1, 1, 0],  # Level 6\n",
    "    [0, 1, 0, 1, 1, 1, 1, 1, 1, 1, 1, 1, 1, 1, 0, 1, 1, 0, 1, 1, 1, 1, 1, 1, 1, 1, 1, 1, 1, 0, 1, 0],  # Level 5\n",
    "    [0, 1, 0, 1, 1, 1, 1, 1, 1, 1, 1, 1, 0, 1, 0, 1, 1, 0, 1, 0, 1, 1, 1, 1, 1, 1, 1, 1, 1, 0, 1, 0],  # Level 4\n",
    "    [0, 1, 0, 1, 1, 1, 1, 1, 1, 1, 0, 1, 0, 1, 0, 1, 1, 0, 1, 0, 1, 0, 1, 1, 1, 1, 1, 1, 1, 0, 1, 0],  # Level 3\n",
    "    [0, 1, 0, 1, 0, 1, 1, 1, 1, 1, 0, 1, 0, 1, 0, 1, 1, 0, 1, 0, 1, 0, 1, 1, 1, 1, 1, 0, 1, 0, 1, 0],  # Level 2\n",
    "    [0, 1, 0, 1, 0, 1, 1, 1, 0, 1, 0, 1, 0, 1, 0, 1, 1, 0, 1, 0, 1, 0, 1, 0, 1, 1, 1, 0, 1, 0, 1, 0],  # Level 1\n",
    "    [0, 1, 0, 1, 0, 1, 0, 1, 0, 1, 0, 1, 0, 1, 0, 1, 1, 0, 1, 0, 1, 0, 1, 0, 1, 0, 1, 0, 1, 0, 1, 0],  # Level 0\n",
    "    [1, 0, 1, 0, 1, 0, 0, 0, 1, 0, 1, 0, 1, 0, 1, 0, 0, 1, 0, 1, 0, 1, 0, 1, 0, 0, 0, 1, 0, 1, 0, 1],  # Level -1\n",
    "    [1, 0, 1, 0, 1, 0, 0, 0, 0, 0, 1, 0, 1, 0, 1, 0, 0, 1, 0, 1, 0, 1, 0, 0, 0, 0, 0, 1, 0, 1, 0, 1],  # Level -2\n",
    "    [1, 0, 1, 0, 0, 0, 0, 0, 0, 0, 1, 0, 1, 0, 1, 0, 0, 1, 0, 1, 0, 1, 0, 0, 0, 0, 0, 0, 0, 1, 0, 1],  # Level -3\n",
    "    [1, 0, 1, 0, 0, 0, 0, 0, 0, 0, 0, 0, 1, 0, 1, 0, 0, 1, 0, 1, 0, 0, 0, 0, 0, 0, 0, 0, 0, 1, 0, 1],  # Level -4\n",
    "    [1, 0, 1, 0, 0, 0, 0, 0, 0, 0, 0, 0, 0, 0, 1, 0, 0, 1, 0, 0, 0, 0, 0, 0, 0, 0, 0, 0, 0, 1, 0, 1],  # Level -5\n",
    "    [1, 0, 0, 0, 0, 0, 0, 0, 0, 0, 0, 0, 0, 0, 1, 0, 0, 1, 0, 0, 0, 0, 0, 0, 0, 0, 0, 0, 0, 0, 0, 1],  # Level -6\n",
    "    [1, 0, 0, 0, 0, 0, 0, 0, 0, 0, 0, 0, 0, 0, 0, 0, 0, 0, 0, 0, 0, 0, 0, 0, 0, 0, 0, 0, 0, 0, 0, 1],  # Level -7\n",
    "    [0, 0, 0, 0, 0, 0, 0, 0, 0, 0, 0, 0, 0, 0, 0, 0, 0, 0, 0, 0, 0, 0, 0, 0, 0, 0, 0, 0, 0, 0, 0, 0]   # Level -8\n",
    "]\n",
    "\n",
    "LUT3 = [\n",
    "    [1, 1, 1, 1, 1, 1, 1, 1, 1, 1, 1, 1, 1, 1, 1, 1, 1, 1, 1, 1, 1, 1, 1, 1, 1, 1, 1, 1, 1, 1, 1, 1],  # Level 8\n",
    "    [1, 1, 1, 1, 1, 1, 0, 1, 1, 1, 1, 1, 1, 1, 1, 1, 1, 1, 1, 1, 1, 1, 1, 1, 1, 0, 1, 1, 1, 1, 1, 1],  # Level 7\n",
    "    [1, 1, 1, 0, 1, 1, 1, 1, 1, 1, 1, 1, 0, 1, 1, 1, 1, 1, 1, 0, 1, 1, 1, 1, 1, 1, 1, 1, 0, 1, 1, 1],  # Level 6\n",
    "    [1, 1, 1, 0, 1, 1, 1, 1, 0, 0, 1, 1, 1, 1, 1, 1, 1, 1, 1, 1, 1, 1, 0, 0, 1, 1, 1, 1, 0, 1, 1, 1],  # Level 5\n",
    "    [1, 0, 1, 1, 1, 1, 1, 0, 0, 1, 1, 1, 1, 1, 0, 1, 1, 0, 1, 1, 1, 1, 1, 0, 0, 1, 1, 1, 1, 1, 0, 1],  # Level 4\n",
    "    [1, 1, 1, 1, 0, 0, 0, 0, 1, 1, 1, 0, 1, 1, 1, 1, 1, 1, 1, 1, 0, 1, 1, 1, 0, 0, 0, 0, 1, 1, 1, 1],  # Level 3\n",
    "    [1, 0, 1, 0, 1, 1, 0, 1, 1, 0, 1, 1, 0, 1, 1, 0, 0, 1, 1, 0, 1, 1, 0, 1, 1, 0, 1, 1, 0, 1, 0, 1],  # Level 2\n",
    "    [1, 1, 1, 0, 0, 0, 0, 1, 0, 1, 0, 0, 1, 1, 1, 1, 1, 1, 1, 1, 0, 0, 1, 0, 1, 0, 0, 0, 0, 1, 1, 1],  # Level 1\n",
    "    [0, 1, 1, 0, 1, 0, 0, 1, 1, 0, 0, 1, 0, 1, 1, 0, 0, 1, 1, 0, 1, 0, 0, 1, 1, 0, 0, 1, 0, 1, 1, 0],  # Level 0\n",
    "    [0, 0, 0, 1, 1, 1, 1, 0, 1, 0, 1, 1, 0, 0, 0, 0, 0, 0, 0, 0, 1, 1, 0, 1, 0, 1, 1, 1, 1, 0, 0, 0],  # Level -1\n",
    "    [0, 1, 0, 1, 0, 0, 1, 0, 0, 1, 0, 0, 1, 0, 0, 1, 1, 0, 0, 1, 0, 0, 1, 0, 0, 1, 0, 0, 1, 0, 1, 0],  # Level -2\n",
    "    [0, 0, 0, 0, 1, 1, 1, 1, 0, 0, 0, 1, 0, 0, 0, 0, 0, 0, 0, 0, 1, 0, 0, 0, 1, 1, 1, 1, 0, 0, 0, 0],  # Level -3\n",
    "    [0, 1, 0, 0, 0, 0, 0, 1, 1, 0, 0, 0, 0, 0, 1, 0, 0, 1, 0, 0, 0, 0, 0, 1, 1, 0, 0, 0, 0, 0, 1, 0],  # Level -4\n",
    "    [0, 0, 0, 1, 0, 0, 0, 0, 1, 1, 0, 0, 0, 0, 0, 0, 0, 0, 0, 0, 0, 0, 1, 1, 0, 0, 0, 0, 1, 0, 0, 0],  # Level -5\n",
    "    [0, 0, 0, 1, 0, 0, 0, 0, 0, 0, 0, 0, 1, 0, 0, 0, 0, 0, 0, 1, 0, 0, 0, 0, 0, 0, 0, 0, 1, 0, 0, 0],  # Level -6\n",
    "    [0, 0, 0, 0, 0, 0, 1, 0, 0, 0, 0, 0, 0, 0, 0, 0, 0, 0, 0, 0, 0, 0, 0, 0, 0, 1, 0, 0, 0, 0, 0, 0],  # Level -7\n",
    "    [0, 0, 0, 0, 0, 0, 0, 0, 0, 0, 0, 0, 0, 0, 0, 0, 0, 0, 0, 0, 0, 0, 0, 0, 0, 0, 0, 0, 0, 0, 0, 0]   # Level -8    \n",
    "]\n",
    "\n",
    "LUT4 = [\n",
    "    [1, 1, 1, 1, 1, 1, 1, 1, 1, 1, 1, 1, 1, 1, 1],  # Level 7.5\n",
    "    [1, 1, 1, 1, 1, 1, 1, 0, 1, 1, 1, 1, 1, 1, 1],  # Level 6.5\n",
    "    [1, 1, 1, 0, 1, 1, 1, 1, 1, 1, 1, 0, 1, 1, 1],  # Level 5.5\n",
    "    [1, 1, 0, 1, 1, 1, 1, 0, 1, 1, 1, 1, 0, 1, 1],  # Level 4.5\n",
    "    [1, 0, 1, 1, 1, 1, 0, 1, 0, 1, 1, 1, 1, 0, 1],  # Level 3.5\n",
    "    [1, 0, 1, 1, 0, 1, 1, 0, 1, 1, 0, 1, 1, 0, 1],  # Level 2.5\n",
    "    [1, 0, 1, 0, 1, 0, 1, 1, 1, 0, 1, 0, 1, 0, 1],  # Level 1.5\n",
    "    [1, 0, 0, 1, 1, 0, 1, 0, 1, 0, 1, 1, 0, 0, 1],  # Level 0.5\n",
    "    [0, 1, 1, 0, 0, 1, 0, 1, 0, 1, 0, 0, 1, 1, 0],  # Level -0.5\n",
    "    [0, 1, 0, 1, 0, 1, 0, 0, 0, 1, 0, 1, 0, 1, 0],  # Level -1.5\n",
    "    [0, 1, 0, 0, 1, 0, 0, 1, 0, 0, 1, 0, 0, 1, 0],  # Level -2.5\n",
    "    [0, 1, 0, 0, 0, 0, 1, 0, 1, 0, 0, 0, 0, 1, 0],  # Level -3.5\n",
    "    [0, 0, 1, 0, 0, 0, 0, 1, 0, 0, 0, 0, 1, 0, 0],  # Level -4.5\n",
    "    [0, 0, 0, 1, 0, 0, 0, 0, 0, 0, 0, 1, 0, 0, 0],  # Level -5.5\n",
    "    [0, 0, 0, 0, 0, 0, 0, 1, 0, 0, 0, 0, 0, 0, 0],  # Level -6.5\n",
    "    [0, 0, 0, 0, 0, 0, 0, 0, 0, 0, 0, 0, 0, 0, 0],  # Level -7.5\n",
    "]\n",
    "\n",
    "LUT5 = [\n",
    "    [1, 1, 1, 1, 0, 1, 1, 1, 1, 1, 1, 1, 1, 1, 0, 1, 1, 1, 1],  # Level 7.5\n",
    "    [1, 1, 0, 1, 1, 1, 1, 1, 1, 0, 1, 1, 1, 1, 1, 1, 0, 1, 1],  # Level 6.5\n",
    "    [1, 1, 1, 0, 0, 1, 1, 1, 1, 1, 1, 1, 1, 1, 0, 0, 1, 1, 1],  # Level 5.5\n",
    "    [1, 1, 0, 1, 0, 1, 1, 1, 1, 0, 1, 1, 1, 1, 0, 1, 0, 1, 1],  # Level 4.5\n",
    "    [1, 0, 1, 1, 0, 1, 1, 1, 0, 1, 0, 1, 1, 1, 0, 1, 1, 0, 1],  # Level 3.5\n",
    "    [1, 0, 1, 1, 0, 0, 1, 1, 1, 0, 1, 1, 1, 0, 0, 1, 1, 0, 1],  # Level 2.5\n",
    "    [1, 0, 1, 0, 1, 0, 1, 0, 1, 1, 1, 0, 1, 0, 1, 0, 1, 0, 1],  # Level 1.5\n",
    "    [0, 1, 0, 1, 1, 1, 1, 0, 0, 0, 0, 0, 1, 1, 1, 1, 0, 1, 0],  # Level 0.5\n",
    "    [1, 0, 1, 0, 0, 0, 0, 1, 1, 1, 1, 1, 0, 0, 0, 0, 1, 0, 1],  # Level -0.5\n",
    "    [0, 1, 0, 1, 0, 1, 0, 1, 0, 0, 0, 1, 0, 1, 0, 1, 0, 1, 0],  # Level -1.5\n",
    "    [0, 1, 0, 0, 1, 1, 0, 0, 0, 1, 0, 0, 0, 1, 1, 0, 0, 1, 0],  # Level -2.5\n",
    "    [0, 1, 0, 0, 1, 0, 0, 0, 1, 0, 1, 0, 0, 0, 1, 0, 0, 1, 0],  # Level -3.5\n",
    "    [0, 0, 1, 0, 1, 0, 0, 0, 0, 1, 0, 0, 0, 0, 1, 0, 1, 0, 0],  # Level -4.5\n",
    "    [0, 0, 0, 1, 1, 0, 0, 0, 0, 0, 0, 0, 0, 0, 1, 1, 0, 0, 0],  # Level -5.5\n",
    "    [0, 0, 1, 0, 0, 0, 0, 0, 0, 1, 0, 0, 0, 0, 0, 0, 1, 0, 0],  # Level -6.5\n",
    "    [0, 0, 0, 0, 1, 0, 0, 0, 0, 0, 0, 0, 0, 0, 1, 0, 0, 0, 0]   # Level -7.5    \n",
    "]\n",
    "\n",
    "def transLUT(LUT):\n",
    "    return [[-1 if value==0 else value for value in row] for row in LUT]\n",
    "\n",
    "LUTs = [LUT1, LUT2, LUT3, LUT4, LUT5]\n",
    "\n",
    "for LUT in LUTs:\n",
    "    for row in transLUT(LUT):\n",
    "        print(sum(row))\n",
    "    print('\\n')"
   ]
  },
  {
   "cell_type": "code",
   "execution_count": 13,
   "id": "ce5ede7b-c791-4ce6-9a48-1eb2d8f512a2",
   "metadata": {},
   "outputs": [
    {
     "name": "stdout",
     "output_type": "stream",
     "text": [
      "[1, 1, -1, 1, 1, 1, 1, 1, 1, -1, 1, 1, 1, 1, 1, 1, -1, 1, 1] 13\n"
     ]
    }
   ],
   "source": [
    "l5 = transLUT(LUT5)\n",
    "\n",
    "print(l5[1], sum(l5[1]))"
   ]
  },
  {
   "cell_type": "code",
   "execution_count": 50,
   "id": "61bd6bc9-7ab1-4467-903d-91c75032e6ac",
   "metadata": {},
   "outputs": [
    {
     "name": "stdout",
     "output_type": "stream",
     "text": [
      "(-0.001708984375+0.0030517578125j)\n"
     ]
    }
   ],
   "source": [
    "y_meta, y = read_file_with_header('../data/sinData_deltaSigma.txt')\n",
    "print(np.mean(y))"
   ]
  },
  {
   "cell_type": "code",
   "execution_count": 20,
   "id": "ce21ec2c-35f1-42c7-9955-109084fdf146",
   "metadata": {},
   "outputs": [
    {
     "name": "stdout",
     "output_type": "stream",
     "text": [
      "[ 4.+0.j  4.+1.j  3.+2.j  4.+2.j  1.+5.j  1.+3.j  2.+3.j -2.+5.j -2.+3.j\n",
      " -2.+4.j]\n"
     ]
    }
   ],
   "source": [
    "print(y[:10])"
   ]
  },
  {
   "cell_type": "code",
   "execution_count": 54,
   "id": "d709f8fc-fead-4cdb-8695-0d1b3791a8ef",
   "metadata": {},
   "outputs": [
    {
     "name": "stdout",
     "output_type": "stream",
     "text": [
      "np.mean(x) = 8.481247960324335e-05\n"
     ]
    }
   ],
   "source": [
    "from fxpmath import Fxp\n",
    "\n",
    "N = 2**16\n",
    "n = np.arange(N)\n",
    "F = 0.32\n",
    "\n",
    "x = 8.0 * np.sin(2 * np.pi * F * n)\n",
    "print(f'np.mean(x) = {np.mean(x)}')\n",
    "\n",
    "xfxp = [Fxp(val, signed=True, n_word=4, n_frac=0, overflow='saturate', rounding='floor') for val in x]\n",
    "xfxp = np.array(xfxp)"
   ]
  },
  {
   "cell_type": "code",
   "execution_count": 56,
   "id": "42ce69b1-099f-456e-8101-3aa2e11ff16b",
   "metadata": {},
   "outputs": [
    {
     "name": "stdout",
     "output_type": "stream",
     "text": [
      "0.01348876953125 0.02685546875\n"
     ]
    }
   ],
   "source": [
    "ticks = np.linspace(-8,8,len(x))\n",
    "\n",
    "# plt.plot(ticks, xfxp+0.5)\n",
    "# plt.grid()\n",
    "# ticks = range(-8, 9)  # Create a range from -8 to 8 (inclusive)\n",
    "# plt.xticks(ticks)  # Set x-axis ticks\n",
    "# plt.yticks(ticks)  # Set y-axis ticks\n",
    "# plt.show()\n",
    "\n",
    "xfxp_ = [value+1 if value%2==0 else value for value in xfxp]\n",
    "\n",
    "print(np.mean(xfxp+0.5), np.mean(xfxp_))"
   ]
  },
  {
   "cell_type": "code",
   "execution_count": 53,
   "id": "ded9c06b-ba8a-49ab-80e1-5d4195f9d90f",
   "metadata": {},
   "outputs": [
    {
     "name": "stdout",
     "output_type": "stream",
     "text": [
      "6.986187099006287 -6.986187099000572\n"
     ]
    }
   ],
   "source": [
    "print(np.max(x), np.min(x))"
   ]
  },
  {
   "cell_type": "code",
   "execution_count": null,
   "id": "ca0c6ba5-02c6-420a-b933-e33b66755895",
   "metadata": {},
   "outputs": [],
   "source": []
  }
 ],
 "metadata": {
  "kernelspec": {
   "display_name": "Python 3 (ipykernel)",
   "language": "python",
   "name": "python3"
  },
  "language_info": {
   "codemirror_mode": {
    "name": "ipython",
    "version": 3
   },
   "file_extension": ".py",
   "mimetype": "text/x-python",
   "name": "python",
   "nbconvert_exporter": "python",
   "pygments_lexer": "ipython3",
   "version": "3.8.19"
  }
 },
 "nbformat": 4,
 "nbformat_minor": 5
}
