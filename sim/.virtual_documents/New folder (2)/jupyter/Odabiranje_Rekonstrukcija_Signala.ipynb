





import numpy as np
import matplotlib.pylab as plt
from scipy.signal import *
from scipy.signal.windows import flattop
from scipy.signal.windows import hann

N = 65536
def genSines(t):
    f1 = 89.0e6
    f2 = 91.0e6
    A1 = 1
    A2 = 0.1
    y = A1*np.sin(2*np.pi*f1*t) + A2*np.sin(2*np.pi*f2*t)
    y *= win
    return y

win = hann(N)  # Using Hann window will introduce scalloping loss
winGain = 20*np.log10(N/sum(win))
fs = 183e6
T = 1.0/fs
freqs = (fs*np.arange(0, N))/N - fs/2
t = np.arange(0, N)*T
y = genSines(t)
Y = 20*np.log10(np.absolute(np.fft.fft(y)))
Y_hann = np.fft.fftshift(Y) - 20*np.log10(N) + winGain
plt.plot(freqs/1e6, Y_hann)
plt.xlabel("f [MHz]")
plt.ylabel("|Y(jf)| [dB]")
plt.grid()
plt.ylim(-80, 0)
plt.title("Odabiranje u prvoj Nikvistovoj zoni")
plt.show()
print(find_peaks(Y_hann, height=-30)[1])

fs = 6.1e6
T = 1.0/fs
freqs = (fs*np.arange(0, N))/N - fs/2
t = np.arange(0, N)*T
y = genSines(t)
Y = 20*np.log10(np.absolute(np.fft.fft(y)))
Y_hann_30th = np.fft.fftshift(Y) - 20*np.log10(N) + winGain
plt.plot(freqs/1e6, Y_hann_30th)
plt.xlabel("f [MHz]")
plt.ylabel("|Y(jf)| [dB]")
plt.grid()
plt.ylim(-80, 0)
plt.title("Odabiranje u 30. Nikvistovoj zoni")
plt.show();
print(find_peaks(Y_hann_30th, height=-30)[1])





import numpy as np

class quantizator():
    def __init__(self, nbits, offset = 0.5):
        self.nbits = nbits
        self.offset = offset
        self.levels = -2**(nbits-1)+1.0*np.arange(0,2**nbits+1,1)+offset
        self.levels[-1] = np.inf
        self.delta = 2.0/2**(nbits)
        self.missingCodes = np.zeros(2**nbits+1)

    def stepErrors(self, maxErr):
        self.levels += (np.random.uniform(-maxErr, maxErr, (1,2**self.nbits+1)))[0]

    def quantizeNormalized(self, data):
        level = np.argmax(self.levels > data*2**(self.nbits-1))
        level += self.missingCodes[level]
        level += -2**(self.nbits-1)
        return self.delta*level

    def quantizeInteger(self, data):
        level = np.argmax(self.levels > data*2**(self.nbits-1))
        level += self.missingCodes[level]        
        level += -2**(self.nbits-1)
        return level

    def __call__(self, data, normalize = True):
        if normalize:
            vquant = np.vectorize(self.quantizeNormalized)
        else:
            vquant = np.vectorize(self.quantizeInteger)
        return vquant(data)


import matplotlib.pylab as plt
import numpy as np
nBits = 4
nPoints = 16
a=quantizator(4,offset=0.5)
x=np.arange(-nPoints*2**nBits,nPoints*2**nBits,1)*1.0/(nPoints*2**nBits)

#a.stepErrors(0.2)
#a.missingCodes[32] = 1

y=a(x)
plt.plot(x, y)
plt.plot(x, x)
plt.xlabel(r'$V_\mathrm{in}$')
plt.ylabel(r'$V_\mathrm{out}$')
plt.show()
plt.plot(x,(y-x)/(a.delta))
plt.xlabel(r'$V_\mathrm{in}$')
plt.ylabel(r'$\varepsilon/\Delta$')
plt.show();


import matplotlib.pylab as plt
import numpy as np
nBits = 4
nPoints = 16
a=quantizator(4,offset=0.5)
x=np.arange(-nPoints*2**nBits,nPoints*2**nBits,1)*1.0/(nPoints*2**nBits)
a.stepErrors(0.2) # random errors
a.missingCodes[3] = 1 # deterministic error
y=a(x)
plt.plot(x, y)
plt.plot(x, x)
plt.xlabel(r'$V_\mathrm{in}$')
plt.ylabel(r'$V_\mathrm{out}$')
plt.show()
plt.plot(x,(y-x)/(a.delta))
plt.xlabel(r'$V_\mathrm{in}$')
plt.ylabel(r'$\varepsilon/\Delta$')
plt.show();





import numpy as np
import matplotlib.pylab as plt
Nbits = 8
Npoints = 4096
M = 127
dM = 15
T = 1
quant = quantizator(Nbits)
quant.stepErrors(0.05)
A = 0.5 * quant.delta
t = T*np.arange(0,Npoints,1)
y1 = A*np.sin(2*np.pi*t*M/Npoints)
y2 = A*np.sin(2*np.pi*t*(M+dM)/Npoints)
for Adither in [0, 0.5, 1, 2]:
    dither = Adither * quant.delta * np.random.randn(Npoints)
    y = quant(y1 + y2 + dither)
    plt.plot(y/quant.delta)
    #y = y-dither
    plt.plot(y/quant.delta)
    plt.show()
    Y = 20 * np.log10(1e-25+abs(np.fft.fft(y)))-20*np.log10(Npoints)
    plt.plot(Y[0:int(Npoints/2)])
    fftNoiseFloor = 6.02*Nbits+1.76+10*np.log10(Npoints/2)
    plt.plot([0,int(Npoints/2)],[-fftNoiseFloor, -fftNoiseFloor])
    plt.show()





import numpy as np
import matplotlib.pylab as plt
Nbits = 8
Npoints = 4096
M = 127
dM = 15
T = 1
quant = quantizator(Nbits)
quant.stepErrors(0.05)
A = 0.5 * quant.delta
t = T*np.arange(0,Npoints,1)
y1 = A*np.sin(2*np.pi*t*M/Npoints)
y2 = A*np.sin(2*np.pi*t*(M+dM)/Npoints)
for Adither in [0, 0.5, 1, 2, 10, 20]:
    dither = Adither * quant.delta * np.random.randn(Npoints)
    y = quant(y1 + y2 + dither)
    plt.plot(y/quant.delta)
    y = y-dither
    plt.plot(y/quant.delta)
    plt.show()
    Y = 20 * np.log10(1e-25+abs(np.fft.fft(y)))-20*np.log10(Npoints)
    plt.plot(Y[0:int(Npoints/2)])
    fftNoiseFloor = 6.02*Nbits+1.76+10*np.log10(Npoints/2)
    plt.plot([0,int(Npoints/2)],[-fftNoiseFloor, -fftNoiseFloor])
    plt.show()        





import numpy as np
import matplotlib.pylab as plt
from scipy.signal import *
Nbits = 8
Npoints = 4096
M = 1511
dM = 15
T = 1
quant = quantizator(Nbits)
quant.stepErrors(0.15)
A = 1 * quant.delta
t = T*np.arange(0,Npoints,1)
y1 = A*np.sin(2*np.pi*t*M/Npoints)
y2 = A*np.sin(2*np.pi*t*(M+dM)/Npoints)
nord, beta = kaiserord(60, 0.2)
lpf = firwin(nord, 0.1, window=('kaiser', beta))
w, h = freqz(lpf, 1, 3140)
plt.plot(w, 20*np.log10(np.absolute(h)))
plt.title('Filtar propusnik niskih učestanosti')
plt.grid()
plt.show()
for Adither in [0, 1, 5, 10, 50]:
    dither = Adither*quant.delta*np.random.randn(Npoints)
    dither = lfilter(lpf, 1, dither)
    y = quant(y1 + y2 + dither)
    Y = 20 * np.log10(1e-25+abs(np.fft.fft(y)))-20*np.log10(Npoints)
    plt.plot(Y[0:int(Npoints/2)])
    fftNoiseFloor = 6.02*Nbits+1.76+10*np.log10(Npoints/2)
    plt.plot([0,int(Npoints/2)],[-fftNoiseFloor, -fftNoiseFloor])
    plt.ylim(-fftNoiseFloor-10, 0)
    plt.title('Adither = '+str(Adither))
    plt.grid()
    plt.show()


4096/128





import matplotlib.pylab as plt
import numpy as np
M = 4096
Ncycles = 128
Nbits = 10
x = np.arange(0,M,1)
y = np.round((2**Nbits)*np.sin(2*np.pi*x*Ncycles/M)+0.5)
Y = abs(np.fft.fft(y))
Y = 20*np.log10(Y)
Y = Y-np.max(Y)-6
plt.stem(x[0:int(M/2)]/M,Y[0:int(M/2)],bottom=np.min(Y),basefmt='')
SQNR = -(6.02*Nbits+1.76)
plt.plot((0,1/2),(SQNR,SQNR),'r',label=r'$SQNR$')
FFTnf = SQNR - 10*np.log10(M/2)
plt.plot((0,1/2),(FFTnf,FFTnf),'b',label=r'$FFT~N_\mathrm{e}$')
plt.ylim(-120,0)
plt.xlim(0,0.5)
plt.xlabel(r'$f/f_\mathrm{s}$')
plt.ylabel(r'$|FFT(x)|~\mathrm{[dBFs]}$')
plt.legend(loc="upper right")
plt.text(0.35,-35, r'$M=4096$')
plt.text(0.35,-43, r'$P=128$')
plt.text(0.35,-51, r'$\mathrm{N=10}$')
plt.tight_layout()
plt.show();
M = 4096
Ncycles = 127
Nbits = 10
x = np.arange(0,M,1)
y = np.round((2**Nbits)*np.sin(2*np.pi*x*Ncycles/M)+0.5)
Y = abs(np.fft.fft(y))
Y = 20*np.log10(Y)
Y = Y-np.max(Y)-6
plt.stem(x[0:int(M/2)]/M,Y[0:int(M/2)],bottom=np.min(Y),basefmt='')
SQNR = -(6.02*Nbits+1.76)
plt.plot((0,1/2),(SQNR,SQNR),'r',label=r'$SQNR$')
FFTnf = SQNR - 10*np.log10(M/2)
plt.plot((0,1/2),(FFTnf,FFTnf),'b',label=r'$FFT~N_\mathrm{e}$')
plt.legend(loc="upper right")
plt.text(0.35,-35, r'$M=4096$')
plt.text(0.35,-43, r'$P=127$')
plt.text(0.35,-51, r'$\mathrm{N=10}$')
plt.ylim(-120,0)
plt.xlim(0,0.5)
plt.xlabel(r'$f/f_\mathrm{s}$')
plt.ylabel(r'$|FFT(x)|~\mathrm{[dBFs]}$')
plt.tight_layout()
plt.show();





import pandas
import numpy as np
import matplotlib.pylab as plt
from scipy.signal import *
from scipy.signal.windows import *

def enbw(data):
    return len(data)*np.sum(data**2)/np.sum(data)**2

def gain(data):
    return len(data)/np.sum(data)

windowFns = ['hamming', 'hann', 'triang', 'blackman', 'bartlett', ('kaiser', 4.0), 'flattop' ]
N = 65536
res = []
cols = ['ENBW', 'Gain', 'Gain [dB]']
nFreqPoints = 1000
nBins = 10
wfreqs = 2*np.pi*np.arange(0, nFreqPoints)/(N*nFreqPoints/nBins)
for win in windowFns:
    data = get_window(win, N)
    winENBW = round(enbw(data), 2)
    winGain = round(gain(data), 2)
    winGaindB = round(20*np.log10(gain(data)), 2)
    res.append((winENBW, winGain, winGaindB))
    w, H = freqz(data,1, wfreqs)
    H = 20*np.log10(np.absolute(H))
    H = H + winGaindB - 20*np.log10(N)
    plt.plot(wfreqs/(2*np.pi)*N, H, aa=True, linewidth=2.5)
plt.grid()
plt.ylim(-120,5)
plt.xlim(0, nBins)
plt.xlabel('F [bin]')
plt.ylabel('|H(j f)| [dB]')
plt.show()

resTable = pandas.DataFrame(res, columns=cols, index = windowFns)
print(resTable);





import pandas
import numpy as np
import matplotlib.pylab as plt
from scipy.signal import *
from scipy.signal.windows import *

def enbw(data):
    return len(data)*np.sum(data**2)/np.sum(data)**2

def gain(data):
    return len(data)/np.sum(data)

windowFns = ['hamming', 'hann', 'triang', 'blackman', 'bartlett', ('kaiser', 4.0), 'flattop' ]
N = 65536
nFreqPoints = 1000
nBins = 1
wfreqs = 2*np.pi*np.arange(0, nFreqPoints)/(N*nFreqPoints/nBins)
cols = ['ENBW', 'Gain', 'Gain [dB]', 'Scalloping loss']
res = []
for win in windowFns:
    data = get_window(win, N)
    w, H = freqz(data,1, wfreqs)
    H *= gain(data)/N
    Hdb = 20*np.log10(np.absolute(H))
    winENBW = round(enbw(data), 2)
    winGain = round(gain(data), 2)
    winGaindB = round(20*np.log10(gain(data)), 2)
    scallopingLoss = Hdb[int(len(w)/2)]
    res.append((winENBW, winGain, winGaindB, scallopingLoss))    
    plt.figure(1)
    plt.plot(wfreqs/(2*np.pi)*N, Hdb, aa=True, linewidth=2.5)
    plt.figure(2)
    H2 = np.absolute(H)
    H2db = 20*np.log10(H2)
    plt.plot(wfreqs/(2*np.pi)*N, H2db, aa=True, linewidth=2.5)
    H2 = np.absolute(np.flip(H))
    H2db = 20*np.log10(H2)
    plt.plot(wfreqs/(2*np.pi)*N, H2db, aa=True, linewidth=2.5)
plt.figure(1)
plt.grid()
plt.ylim(-5,1)
plt.xlim(0, nBins)
plt.xlabel('F [bin]')
plt.ylabel('|H(j f)| [dB]')
plt.figure(2)
plt.grid()
plt.ylim(-5,1)
plt.xlim(0, nBins)
plt.xlabel('F [bin]')
plt.ylabel('|H(j f)| [dB]')
plt.show()
resTable = pandas.DataFrame(res, columns=cols, index = windowFns)
print(resTable);


import numpy as np
import matplotlib.pylab as plt
from scipy.signal import *
from scipy.signal.windows import flattop
from scipy.signal.windows import hann

N = 65536
def genSines(t):
    f1 = 89.0e6
    f2 = 91.0e6
    A1 = 1
    A2 = 0.1
    y = A1*np.sin(2*np.pi*f1*t) + A2*np.sin(2*np.pi*f2*t)
    y *= win
    return y

win = flattop(N)  # Using Hann window will introduce scalloping loss
winGain = 20*np.log10(N/sum(win))
fs = 183e6
T = 1.0/fs
freqs = (fs*np.arange(0, N))/N - fs/2
t = np.arange(0, N)*T
y = genSines(t)
Y = 20*np.log10(np.absolute(np.fft.fft(y)))
Y = np.fft.fftshift(Y) - 20*np.log10(N) + winGain
plt.plot(freqs/1e6, Y)
plt.plot(freqs/1e6, Y_hann,'r--')
plt.xlabel("f~[MHz]")
plt.ylabel("|Y(jf)| [dB]")
plt.grid()
plt.ylim(-30, 0)
plt.show()
plt.plot(freqs/1e6, Y)
plt.plot(freqs/1e6, Y_hann,'r--')
plt.xlabel("f~[MHz]")
plt.ylabel("|Y(jf)| [dB]")
plt.grid()
plt.ylim(-7, -5)
plt.show()
plt.plot(freqs/1e6, Y)
plt.plot(freqs/1e6, Y_hann,'r--')
plt.xlabel("f~[MHz]")
plt.ylabel("|Y(jf)| [dB]")
plt.grid()
plt.ylim(-27, -25)
plt.show()
print(find_peaks(Y, height=-30)[1])
print(find_peaks(Y_hann, height=-30)[1])

fs = 6.1e6
T = 1.0/fs
freqs = (fs*np.arange(0, N))/N - fs/2
t = np.arange(0, N)*T
y = genSines(t)
Y = 20*np.log10(np.absolute(np.fft.fft(y)))
Y = np.fft.fftshift(Y) - 20*np.log10(N) + winGain
plt.plot(freqs/1e6, Y)
plt.plot(freqs/1e6, Y_hann_30th,'r--')
plt.xlabel("f [MHz]")
plt.ylabel("|Y(jf)| [dB]")
plt.grid()
plt.ylim(-30, 0)
plt.show()
plt.plot(freqs/1e6, Y)
plt.plot(freqs/1e6, Y_hann_30th,'r--')
plt.xlabel("f [MHz]")
plt.ylabel("|Y(jf)| [dB]")
plt.grid()
plt.ylim(-7, -5)
plt.show()
plt.plot(freqs/1e6, Y)
plt.plot(freqs/1e6, Y_hann_30th,'r--')
plt.xlabel("f [MHz]")
plt.ylabel("|Y(jf)| [dB]")
plt.grid()
plt.ylim(-27, -25)
plt.show()
print(find_peaks(Y, height=-30)[1])
print(find_peaks(Y_hann_30th, height=-30)[1])





import matplotlib.pylab as plt
import numpy as np
from scipy.signal import *
Npoints = 4096
M = 2000 # input signal frequency FFT bin
T = 1e-9 # sampling time
fs = 1.0/T # sampling frequency
freqs = fs*np.arange(0, Npoints/2)/Npoints/1e6
fsig = fs * M / Npoints  # input signal frequency
t = T*np.arange(0,Npoints,1)
for tj in [0, 1e-13, 1e-12, 1e-11]:
    jitter = tj * np.random.randn(Npoints)
    y = np.sin(2*np.pi*fs*(t+jitter)*M/Npoints)
    Y = 20 * np.log10(1e-25+abs(np.fft.fft(y)))-20*np.log10(Npoints)
    plt.plot(freqs, Y[0:int(Npoints/2)])
    if tj>0:
        SNR = 20 * np.log10(2*np.pi*tj*fsig)
        plt.plot([0,freqs[-1]], [SNR, SNR], 'k', label=r'SNR')
        FFTPSD = SNR - 10*np.log10(Npoints/2)
        plt.plot([0,freqs[-1]], [FFTPSD, FFTPSD], 'r', label=r'FFT PSD')
        plt.legend(loc='upper left')
    plt.xlabel(r'f [MHz]')
    plt.ylabel(r'|Y(jf)| dB')
    plt.text(200, -10, 'tj='+str(tj*1e12)+' ps')
    plt.show();





import numpy as np
import matplotlib.pyplot as plt
L=[-82, -80, -77, -112, -134, -146, -146]
f=[1e2, 1e3, 1e4, 1e5, 1e6, 1e7, 4.5e9]
f0 = 2.25e9
ymin = -160
tjArr = []
for i in range(len(f)-1):
    a = (L[i]-L[i+1])/(np.log10(f[i])-np.log10(f[i+1]))
    b = L[i]
    intL = 10**(b/10) * f[i]**(-a/10)
    if a==-10:
        intL *= np.log(f[i+1])-np.log(f[i])
    else:
        intL *= (f[i+1]**(1+a/10)-f[i]**(1+a/10))/(1+a/10)
    tj = 1/(2*np.pi*f0)*np.sqrt(2*intL)
    tjArr.append(tj)
    tjStr = "$"+str(round(tj*1e12*100)/100)+"$"
    plt.plot( (f[i], f[i+1]),(L[i],L[i+1]), aa=True, linewidth=2.5, color='k' )
    plt.plot( f[i], L[i], 'ko')
plt.xscale("log")
plt.xlabel(r'$\Delta f$')
plt.ylabel(r'$\mathcal{L}(f)$')
plt.ylim(ymin, -70)
plt.grid(which='both')
plt.tight_layout()
plt.show()


import numpy as np
import matplotlib.pyplot as plt
L=[-82, -80, -77, -112, -134, -146, -146]
f=[1e2, 1e3, 1e4, 1e5, 1e6, 1e7, 4.5e9]
f0 = 2.25e9
ymin = -160
tjArr = []
for i in range(len(f)-1):
    a = (L[i]-L[i+1])/(np.log10(f[i])-np.log10(f[i+1]))
    b = L[i]
    intL = 10**(b/10) * f[i]**(-a/10)
    if a==-10:
        intL *= np.log(f[i+1])-np.log(f[i])
    else:
        intL *= (f[i+1]**(1+a/10)-f[i]**(1+a/10))/(1+a/10)
    tj = 1/(2*np.pi*f0)*np.sqrt(2*intL)
    tjArr.append(tj)
    tjStr = "$"+str(round(tj*1e12*100)/100)+"$"
    plt.plot( (f[i], f[i+1]),(L[i],L[i+1]), aa=True, linewidth=2.5, color='k' )
    plt.plot( f[i], L[i], 'ko')
    plt.fill_between( (f[i], f[i+1]), (ymin, ymin), (L[i], L[i+1]), color='lightgray')
    plt.plot( (f[i], f[i]), (ymin, L[i]), '--', aa=True, linewidth=1.25, color='k' )
    plt.text(np.sqrt(f[i]*f[i+1]), ymin+5, tjStr, color='black', ha='center', size=16)
    print(f[i],f[i+1],L[i],L[i+1],a,b, tj)
plt.plot( (f[i+1], f[i+1]), (ymin, L[i+1]), '--', aa=True, linewidth=1.25, color='k' )      
plt.plot( f[i+1], L[i+1], 'ko')
tjArr = np.array(tjArr)
tj = np.sqrt(np.sum(tjArr**2))
tjStr = r"$t_\mathrm{j}="+str(round(tj*1e12*100)/100)+"~\mathrm{~ps}$"
plt.text(np.sqrt(f[i]*f[i+1]), -90, tjStr, color='black', ha='center',bbox=dict(facecolor='white', edgecolor='white'), size=18)
print("Random jitter", tj)
print("Random noise", 2*np.pi*tj*f0, "rad")
print("Random noise",2*np.pi*tj*f0*180/np.pi, "deg")
plt.xscale("log")
plt.xlabel(r'$\Delta f$')
plt.ylabel(r'$\mathcal{L}(f)$')
plt.ylim(ymin, -70)
plt.grid(which='both')
plt.tight_layout()
plt.show()


import numpy as np
import matplotlib.pyplot as plt
L=[-96.7, -106.8, -117.0, -119.7, -130.6, -149.5, -150.9, -151.1]
f=[1e2, 1e3, 1e4, 1e5, 1e6, 1e7, 40e6, 95e6]
f0 = 3.5e9
ymin = -170
tjArr = []
for i in range(len(f)-1):
    a = (L[i]-L[i+1])/(np.log10(f[i])-np.log10(f[i+1]))
    b = L[i]
    intL = 10**(b/10) * f[i]**(-a/10)
    if a==-10:
        intL *= np.log(f[i+1])-np.log(f[i])
    else:
        intL *= (f[i+1]**(1+a/10)-f[i]**(1+a/10))/(1+a/10)
    tj = 1/(2*np.pi*f0)*np.sqrt(2*intL)
    tjArr.append(tj)
    tjStr = "$"+str(round(tj*1e12*100)/100)+"$"
    plt.plot( (f[i], f[i+1]),(L[i],L[i+1]), aa=True, linewidth=2.5, color='k' )
    plt.plot( f[i], L[i], 'ko')
plt.xscale("log")
plt.xlabel(r'$\Delta f$')
plt.ylabel(r'$\mathcal{L}(f)$')
plt.ylim(ymin, -90)
plt.grid(which='both')
plt.tight_layout()
plt.show()


import numpy as np
import matplotlib.pyplot as plt
L=[-96.7, -106.8, -117.0, -119.7, -130.6, -149.5, -150.9, -151.1]
f=[1e2, 1e3, 1e4, 1e5, 1e6, 1e7, 40e6, 95e6]
f0 = 3.5e9
ymin = -170
tjArr = []
for i in range(len(f)-1):
    a = (L[i]-L[i+1])/(np.log10(f[i])-np.log10(f[i+1]))
    b = L[i]
    intL = 10**(b/10) * f[i]**(-a/10)
    if a==-10:
        intL *= np.log(f[i+1])-np.log(f[i])
    else:
        intL *= (f[i+1]**(1+a/10)-f[i]**(1+a/10))/(1+a/10)
    tj = 1/(2*np.pi*f0)*np.sqrt(2*intL)
    tjArr.append(tj)
    tjStr = "$"+str(round(tj*1e15*10)/10)+"$"
    plt.plot( (f[i], f[i+1]),(L[i],L[i+1]), aa=True, linewidth=2.5, color='k' )
    plt.plot( f[i], L[i], 'ko')
    plt.fill_between( (f[i], f[i+1]), (ymin, ymin), (L[i], L[i+1]), color='lightgray')
    plt.plot( (f[i], f[i]), (ymin, L[i]), '--', aa=True, linewidth=1.25, color='k' )
    plt.text(np.sqrt(f[i]*f[i+1]), ymin+5, tjStr, color='black', ha='center', size=16)
    print(f[i],f[i+1],L[i],L[i+1],a,b, tj)
plt.plot( (f[i+1], f[i+1]), (ymin, L[i+1]), '--', aa=True, linewidth=1.25, color='k' )      
plt.plot( f[i+1], L[i+1], 'ko')
tjArr = np.array(tjArr)
tj = np.sqrt(np.sum(tjArr**2))
tjStr = r"$t_\mathrm{j}="+str(round(tj*1e15*10)/10)+"~\mathrm{~fs}$"
plt.text(np.sqrt(f[i-1]*f[i]), -100, tjStr, color='black', ha='center',bbox=dict(facecolor='white', edgecolor='white'), size=18)
print("Random jitter", tj)
print("Random noise", 2*np.pi*tj*f0, "rad")
print("Random noise",2*np.pi*tj*f0*180/np.pi, "deg")
plt.xscale("log")
plt.xlabel(r'$\Delta f$')
plt.ylabel(r'$\mathcal{L}(f)$')
plt.ylim(ymin, -90)
plt.grid(which='both')
plt.tight_layout()
plt.show()





import numpy as np
import matplotlib.pyplot as plt
from scipy.signal import *
fmax = 0.35 # max. frequency of interest
n = 8 # number of points for approximation
f = fmax * np.arange(0, n+1, 1)/n
H_sinc = np.sin(np.pi*f)/(np.pi*f+1e-15)
H_sinc[0] = 1.0
f_goal = np.zeros(2*(n+1))
f_goal[0::2] = f
f_goal[1::2] = f+1e-3
f_goal *= 2	# In firls function Nyquist frequency is 1
goal = np.zeros(2*(n+1))
goal[0::2] = 1.0/H_sinc
goal[1::2] = 1.0/H_sinc
h_invsinc = firls(5, f_goal, goal)
w,H = freqz(tuple(h_invsinc),tuple([1]))
H_sinc = np.sin(w/2)/(w/2+1e-15)
H_sinc[0] = 1.0
plt.plot(w/(2*np.pi),np.absolute(1.0/H_sinc), 'k', aa=True, linewidth=2.5,label=r'$x/\sin(x)$')
plt.plot(w/(2*np.pi),np.absolute(H), 'gray', aa=True, linewidth=2.5,label=r'$|H(\mathrm{j} F)|$')
plt.legend(loc='upper left')
df = 0.005
for i in range(0,len(goal),2):
    plt.plot((f_goal[i]/2-df,f_goal[i+1]/2+df),[goal[i], goal[i+1]], 'r',aa=True, linewidth=2.5)
plt.xlim(0,0.5)
plt.ylim(1,1.4)
plt.grid()
plt.xlabel(r'$F$')
plt.ylabel(r'$|H(\mathrm{j} F)|$')
plt.tight_layout()
plt.show()





# Normalize invsinc filter coefficients
x = -1.0*np.ones(5)
x[0::2] = 1
h_invsinc_norm = h_invsinc / np.sum(h_invsinc*x)
print("Normalized sinc correction filter")
print(h_invsinc_norm)
plt.stem(h_invsinc_norm)
plt.show()
w,H = freqz(tuple(h_invsinc_norm),tuple([1]))
plt.plot(w/(2*np.pi),20*np.log10(np.absolute(H)), 'k', aa=True, linewidth=2.5)
plt.xlabel(r'$F$')
plt.ylabel(r'$|H_\mathrm{norm}(\mathrm{j} F)|~\mathrm{dB}$')
plt.grid()
plt.xlim(0,0.5)
plt.ylim(-2.5,0)
plt.tight_layout()
plt.show()


import numpy as np
import matplotlib.pyplot as plt
from scipy.signal import *
logScale = False
def fn_nrz(f):
    T = 1
    i=0
    a = np.pi*f*T
    v = np.sin(a+1e-15)/(a+1e-15)
    if logScale:
        g = 20*np.log10(abs(v))
    else:
        g = abs(v)
    return g
f = np.arange(0,0.5,0.005)
H_dac = fn_nrz(f) 
plt.plot(f, 20*np.log10(H_dac), '--k', linewidth=2.5,aa=True, label=r'$H_\mathrm{NRZ}$')
h_invsinc = [0.0101318, -0.0616455, 0.855469, -0.0616455, 0.0101318]
w, H_invsinc = freqz(h_invsinc, 1, 2*np.pi*f)
H_invsinc_dB = 20*np.log10(np.absolute(H_invsinc))
plt.plot(f, H_invsinc_dB, ':k', linewidth=2.5,aa=True, label=r'$H_\mathrm{invsinc}$')
H_total = H_dac * H_invsinc
H_total_dB = 20*np.log10(np.absolute(H_total))
plt.plot(f, H_total_dB, '-k', linewidth=2.5,aa=True, label=r'$H_\mathrm{NRZ} H_\mathrm{invsinc}$')
plt.xlabel(r'$f/f_\mathrm{s}$')
plt.ylabel(r'$|H(\mathrm{j}\omega)|~\mathrm{[dB]}$')
plt.legend(loc="lower left")
plt.xlim(0,0.5)
plt.ylim(-5,0)
plt.grid()
plt.tight_layout()
plt.show()






import numpy as np
import matplotlib.pyplot as plt
from scipy.signal import *
N = 65536  # number of data points
M = 8  # oversample factor
# Generate random numbers to get flat spectrum
phase = np.random.uniform(-np.pi,np.pi,N)
Y = np.ones(int(N),dtype=complex) * np.exp(1j*phase)
y = np.fft.ifft(Y)
plt.plot(np.real(y))
plt.plot(np.imag(y))
plt.show()
nrz = 1.0*np.ones((1, M))[0]/(1.0*M)
rz = 1.0*np.ones((1, M))[0]/(1.0*M)
rz[int(M/2):] = 0
rf = 1.0*np.ones((1, M))[0]/(1.0*M)
rf[int(M/2):] = -rf[int(M/2):]
rfrz = 1.0*np.ones((1, M))[0]/(1.0*M)
rfrz[int(M/2):] = 0
rfrz[int(M/4):int(M/2)] = -rfrz[int(M/4):int(M/2)]
yr_nrz = lfilter(nrz, 1.0, y)
yr_rz = lfilter(rz, 1.0, y)
yr_rf = lfilter(rf, 1.0, y)
yr_rfrz = lfilter(rfrz, 1.0, y)
x = 1.0*np.arange(0, int(N/2), 1)/N*M
Yr_nrz = 20*np.log10(np.absolute(np.fft.fft(yr_nrz)))
Yr_rz = 20*np.log10(np.absolute(np.fft.fft(yr_rz)))
Yr_rf = 20*np.log10(np.absolute(np.fft.fft(yr_rf)))
Yr_rfrz = 20*np.log10(np.absolute(np.fft.fft(yr_rfrz)))
Yr = [Yr_nrz, Yr_rz, Yr_rf, Yr_rfrz]
names = ['dac_reconstruction_nrz', 'dac_reconstruction_rz', 'dac_reconstruction_rf', 'dac_reconstruction_rfrz']
labels = [r'$\mathrm{NRZ}$', r'$\mathrm{RZ}$', r'$\mathrm{RF}$', r'$\mathrm{RFRZ}$']
#labels = ['NRZ', 'RZ', 'RF', 'RFRZ']
for i in range(0, len(Yr)):
    plt.plot(x,Yr[i][0:int(N/2)], aa=True, linewidth=1.5, color='k')
    plt.ylim(-40,0)
    plt.xlim(0, 0.5*M)
    plt.xlabel(r"$f/f_\mathrm{s}$")
    plt.ylabel(r"$|H(\mathrm{j} \omega)|~\mathrm{[dB]}$")
    plt.text(3.5,-7.5,labels[i],fontsize=36,ha='center')
    plt.grid()
    plt.tight_layout()
    plt.show()



plt.plot(rz)


plt.plot(y)



