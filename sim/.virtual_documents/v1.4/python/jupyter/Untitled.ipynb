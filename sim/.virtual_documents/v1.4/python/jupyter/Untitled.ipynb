%pylab inline


from __future__ import division
from deltasigma import *



