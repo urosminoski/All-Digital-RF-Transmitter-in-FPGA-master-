%matplotlib inline
import matplotlib as mpl
mpl.rc('text', usetex = True)
mpl.rc('font', family = 'serif', size = 18)

import numpy as np
import matplotlib.pyplot as plt
import scipy.signal as signal

from fxpmath import Fxp

import funcs
import importlib
importlib.reload(funcs)  # Importing the latest version of funcs.py


N = 2*1024
M = 3
OSR = 8

x_ = 2**(M-1) * np.sin(2*np.pi*np.floor(2/7 * N/OSR) * np.arange(N)/N)
x = [Fxp(val, signed=True, n_word=12, n_frac=8, overflow='saturate', rounding='around') for val in x_]


y = funcs.deltaSigma(x, n_word=4, n_frac=0)


def fft_dB(x):
    y_fft = np.fft.fft(x)
    y_fft_dB = 20*np.log10(np.abs(y_fft))
    y_fft_dB -= np.max(y_fft_dB)
    y_fft_dB = y_fft_dB[:len(y)//2]
    return y_fft_dB

w1 = signal.blackman(len(y), False)
y1 = fft_dB(w1*y)
freqs = np.linspace(0, 0.5, len(y)//2)

plt.plot(freqs, y1)


N = 2*1024
M = 4
OSR = 8

x_ = 2**(M-1) * np.sin(2*np.pi*np.floor(2/7 * N/OSR) * np.arange(N)/N)
x = [Fxp(val, signed=True, n_word=12, n_frac=8, overflow='saturate', rounding='around') for val in x_]


y = funcs.deltaSigma(x, n_word=5, n_frac=0)


w1 = signal.blackman(len(y), False)
y1 = fft_dB(w1*y)
freqs = np.linspace(0, 0.5, len(y)//2)

plt.plot(freqs, y1)












