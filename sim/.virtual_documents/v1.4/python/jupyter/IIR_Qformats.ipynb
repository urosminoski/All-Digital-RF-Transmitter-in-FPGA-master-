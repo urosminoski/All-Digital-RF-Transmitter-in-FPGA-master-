%matplotlib inline
import numpy as np
import matplotlib as mpl
mpl.rc('text', usetex = True)
mpl.rc('font', family = 'serif', size = 18)
import matplotlib.pyplot as plt
import scipy.signal as signal


import q_format


def decompose_iir_to_parallel(b, a):
    # Perform partial fraction expansion (residue form)
    r, p, k = signal.residuez(b, a)

    # Variable to track which pole has been processed
    processed = np.zeros(len(p), dtype = bool)

    b_new = []
    a_new = []
    
    for i in range(len(p)):
        # If pole has been used (complex-conjugate pare) then skip
        if processed[i]:
            continue

        # If pole is real, imaginary part very small, it's a FIRST order section
        if p[i].imag <= 1e-10:
            # First order section H(z) = r[i] / (1 - p[i] * z^-1)
            b = [r[i].real]
            a = [1, -p[i].real]
        else:
            # Second order section. Look for complex conjugate
            for j in range(i + 1, len(p)):
                if p[i].real == p[j].real and p[i].imag == -p[j].imag:
                    # Complex conjugate found. Use both to form second order section
                    # Second order section H(z) = (2*r[i].real - 2*(r[i].real * p[i].real) - r[i].imag * p[i].imag)) / (1 - 2*p[i].real * z^[-1] + (p[i].real^2 + p[i].imag^2) * z^-2)
                    b = [2 * r[i].real,  -2 * (r[i].real * p[i].real + r[i].imag * p[i].imag)]
                    a = [1, -2*p[i].real, (p[i].real**2 + p[i].imag**2)]
                    # Mark the conjuget as processed
                    processed[j] = True
                    break
                    
        b_new.append(b)
        a_new.append(a)

        # Mark this pole as processed
        processed[i] = True

    return [b_new, a_new]

def decompose_iir_to_parallel_H(b, a):
    [b_new, a_new] = decompose_iir_to_parallel(b, a)
    h = 0
    for b, a in zip(b_new, a_new):
        w_tmp, h_tmp = signal.freqz(b, a)
        h += h_tmp
    return [w, h]

def combine_parallel_sections(b_sections, a_sections):
    """
    Combines multiple parallel filter sections into a single equivalent filter section.

    Args:
    - b_sections: List of `b` coefficients (numerators) for each parallel section.
    - a_sections: List of `a` coefficients (denominators) for each parallel section.

    Returns:
    - b_total: The combined `b` coefficients (numerator) of the equivalent filter.
    - a_total: The combined `a` coefficients (denominator) of the equivalent filter.
    """
    # Initialize the total denominator as the product of all denominators
    a_total = a_sections[0]
    for a in a_sections[1:]:
        a_total = np.polymul(a_total, a)

    # Initialize the total numerator
    b_total = np.zeros(len(a_total) - 1)

    # Sum the adjusted numerators
    for i, (b_i, a_i) in enumerate(zip(b_sections, a_sections)):
        # Multiply the numerator by the product of all denominators except the current one
        a_others = np.ones(1)
        for j, a_j in enumerate(a_sections):
            if i != j:
                a_others = np.polymul(a_others, a_j)

        # Adjust the numerator and add to the total numerator
        b_adjusted = np.polymul(b_i, a_others)
        b_total = np.polyadd(b_total, b_adjusted)

    return b_total, a_total

def plot_IIR_and_zeros_poles(data_pz, labels=None, fig_title=None):
    """
    Plots the frequency response (magnitude and phase) on the left 
    and the poles and zeros on the unit circle on the right, centered vertically.
    
    Args:
    - data_freq: List of tuples (w, h) where 'w' is frequency and 'h' is the frequency response.
    - data_pz: List of tuples (b, a) where 'b' is the numerator coefficients and 'a' is the denominator coefficients.
    - labels: List of labels for each plot. Default is None.
    """
    from matplotlib.gridspec import GridSpec

    fontsize = 8

    # Adjust figure size (width x height)
    fig = plt.figure(figsize=(12, 6))

    # Set the overall figure title (centered at the top)
    if fig_title is not None:
        fig.suptitle(fig_title, fontsize=24, y=1.01)

    # Define grid with equal height ratios for the magnitude and phase plots, and center the right plot vertically
    gs = GridSpec(2, 3, width_ratios=[2, 2, 3], height_ratios=[1, 1])

    # Create subplots with specified grid positions
    ax_mag = fig.add_subplot(gs[0, 0:2])  # Magnitude response (left, top)
    ax_phase = fig.add_subplot(gs[1, 0:2])  # Phase response (left, bottom)
    ax_pz = fig.add_subplot(gs[:, 2])  # Zeros and Poles (centered vertically, spans both rows)

    # Make sure the unit circle plot is square by setting equal aspect ratio
    ax_pz.set_aspect('equal', 'box')

    # Iterate through each (b, a) pair to compute the frequency response
    for i, (b, a) in enumerate(data_pz):
        # Compute the frequency response for the filter
        w, h = signal.freqz(b, a)

        # Label handling
        label = labels[i] if labels is not None else f"Filter {i+1}"

        # Magnitude response (in dB)
        h_dB = 20 * np.log10(abs(h))
        h_dB -= np.max(h_dB)  # Normalize to the maximum value
        ax_mag.plot(w / np.pi / 2, h_dB, label=label)

        # Phase response
        ax_phase.plot(w / np.pi / 2, np.angle(h), label=label)

    # Set individual subplot titles
    ax_mag.set_title("Magnitude Response")
    ax_phase.set_title("Phase Response")
    ax_pz.set_title("Poles and Zeros")

    ax_mag.set_xlabel(r'$F$')
    ax_mag.set_ylabel(r'Magnitude $[dB]$')
    ax_mag.grid(True)
    ax_mag.legend(fontsize=fontsize)

    ax_phase.set_xlabel(r'$F$')
    ax_phase.set_ylabel('Phase [radians]')
    ax_phase.grid(True)
    ax_phase.legend(fontsize=fontsize)

    # Plot the poles and zeros for each (b, a) pair
    unit_circle = plt.Circle((0, 0), 1, color='gray', fill=False, linestyle='--')
    ax_pz.add_artist(unit_circle)

    # Get the colormap and generate colors for each filter
    cmap = plt.colormaps.get_cmap('tab10')
    colors = [cmap(i) for i in range(len(data_pz))]

    for i, (b, a) in enumerate(data_pz):
        label = labels[i] if labels is not None else f"Filter {i+1}"
        zeros = np.roots(b)
        poles = np.roots(a)

        color = colors[i]

        # Plot zeros and poles
        ax_pz.scatter(np.real(zeros), np.imag(zeros), s=50, marker='o', color=color, label=f"{label} Zeros")
        ax_pz.scatter(np.real(poles), np.imag(poles), s=50, marker='x', color=color, label=f"{label} Poles")

    ax_pz.axvline(0, color='gray', lw=1)
    ax_pz.axhline(0, color='gray', lw=1)
    ax_pz.set_xlim([-1.5, 1.5])
    ax_pz.set_ylim([-1.5, 1.5])
    ax_pz.set_xlabel("Real")
    ax_pz.set_ylabel("Imaginary")
    ax_pz.grid(True)
    ax_pz.legend(fontsize=fontsize)

    # Adjust layout to avoid overlap
    plt.tight_layout()
    plt.subplots_adjust(top=0.88)  # Adjust top to make space for the figure title
    plt.show()



# Filter coefficients
b = [3.19382974, -8.02002256, 8.73762976, -4.61756997, 0.97458298]
a = [1, -1.63632004, 1.47600867, -0.75840147, 0.2125798, -0.02541702]

# Decompos IIR filter to parallel IIR sections
[b_parallel, a_parallel] = decompose_iir_to_parallel(b, a)

n_int = 2
n_frac = 16

print("b_parallel = ", b_parallel)
print("a_parallel = ", a_parallel)


# Perform fixed-point conversion for each sublist in b and a
b_q = []
a_q = []
for b_i, a_i in zip(b, a):
    b_q.append(q_format.fixed_to_float(q_format.float_to_fixed(b_i, n_int, n_frac), n_frac))
    a_q.append(q_format.fixed_to_float(q_format.float_to_fixed(a_i, n_int, n_frac), n_frac))

# Perform fixed-point conversion for each sublist in b_parallel and a_parallel
b_parallel_q = []
a_parallel_q = []
for b_i, a_i in zip(b_parallel, a_parallel):
    # Convert each element in the sublist (b_i and a_i)
    b_parallel_q.append([q_format.float_to_fixed(coeff, n_int, n_frac) for coeff in b_i])
    a_parallel_q.append([q_format.float_to_fixed(coeff, n_int, n_frac) for coeff in a_i])


data_pz = [(b, a), (b_q, a_q)]
plot_IIR_and_zeros_poles(data_pz, labels=["Floating-Point", "Q4.8"], fig_title="5th order IIR")


b_rec_q, a_rec_q = combine_parallel_sections(b_parallel_q, a_parallel_q)
data_pz = [(b, a), (b_rec_q, a_rec_q)]
plot_IIR_and_zeros_poles(data_pz, labels=["Floating-Point", "Parallel Dec. Q4.8"], fig_title="Parallel Decomposition IIR")


def iir_lfilter_section(x, b, a):

    # Check if section isn't first or second order
    if len(a) != 2 and len(a) != 3:
        raise ValueError("The length of 'a' must be 2 (first-order) or 3 (second-order).")

    y = np.zeros(len(x))
    
    # Direct form if first-order section (len(a) = 2)
    if len(a) == 2:
        yd = 0
        for n in range(len(x)):
            y[n] = b[0]*x[n] - a[1]*yd
            yd = y[n]

    # Transposed form if second-order section (len(a) = 3)
    if len(a) == 3:
        w = 0
        wd = 0
        wdd = 0
        for n in range(len(x)):
            w = x[n] - a[1]*wd - a[2]*wdd
            y[n] = b[0]*w + b[1]*wd
            wdd = wd
            wd = w
    
    return y

def iir_lfilter_section_q(x_q, b_q, a_q):
    # Check if section isn't first or second order
    if len(a_q) != 2 and len(a_q) != 3:
        raise ValueError("The length of 'a' must be 2 (first-order) or 3 (second-order).")

    y = np.zeros(len(x_q))
    
    # Direct form if first-order section (len(a) = 2)
    if len(a_q) == 2:
        yd = 0
        for n in range(len(x_q)):
            y_tmp = q_format.mul_fixed(b_q[0], x_q[n], n_int, n_frac)
            y_tmp -= q_format.mul_fixed(a_q[1], yd, n_int, n_frac)
            y[n] = q_format.fixed_to_float(y_tmp, n_frac)
            yd = q_format.float_to_fixed(y[n], n_int, n_frac)

    # Transposed form if second-order section (len(a) = 3)
    if len(a_q) == 3:
        w = 0
        wd = 0
        wdd = 0
        for n in range(len(x_q)):
            w = x_q[n]
            w -= q_format.mul_fixed(a_q[1], wd, n_int, n_frac)
            w -= q_format.mul_fixed(a_q[2], wdd, n_int, n_frac)
            y_tmp = q_format.mul_fixed(b_q[0], w, n_int, n_frac)
            y_tmp += q_format.mul_fixed(b_q[1], wd, n_int, n_frac)
            y[n] = q_format.fixed_to_float(y_tmp, n_frac)
            wdd = wd
            wd = w
            
    return y

def iir_lfilter_parallel(x, b, a):
    y = np.zeros(len(x))
    for i in range(len(b)):
        y += iir_lfilter_section(x, b[i], a[i])
        print(y)
    return y

def iir_lfilter_parallel_q(x_q, b_q, a_q):
    y = np.zeros(len(x_q))
    for i in range(len(b_q)):
        y += iir_lfilter_section_q(x_q, b_q[i], a_q[i])
        print(y)
    return y


N = 1024
F1 = 0.1
F2 = 0.41
n = np.arange(N)

x = np.sin(2*np.pi*F1*n) + np.sin(2*np.pi*F2*n)
x_q = np.zeros(len(x))
for k in range(len(x)):
    x_q[k] = q_format.float_to_fixed(x[k], n_int, n_frac)

# print(x_q)

# print(b_parallel_q)
# print(a_parallel_q)

y_parallel = iir_lfilter_parallel(x, b_parallel, a_parallel)
y_parallel_q = iir_lfilter_parallel_q(x_q, b_parallel_q, a_parallel_q)
# y = signal.lfilter(b, a, x)


y_parallel_fft = np.fft.fft(y_parallel)
y_parallel_dB = 20*np.log10(np.abs(y_parallel_fft))
y_parallel_dB -= np.max(y_parallel_dB)
y_parallel_dB = y_parallel_dB[:N//2]

y_parallel_q_fft = np.fft.fft(y_parallel_q)
y_parallel_q_dB = 20*np.log10(np.abs(y_parallel_q_fft))
y_parallel_q_dB -= np.max(y_parallel_q_dB)
y_parallel_q_dB = y_parallel_q_dB[:N//2]

freqs = n/N
freqs = freqs[:N//2]

plt.plot(freqs, y_parallel_dB)
plt.plot(freqs, y_parallel_q_dB)

# plt.ylim([-20, 5])





from fxpmath import Fxp


def iir_direct_fixed(x, b, a, n_int, n_frac, precision='half'):
    
    # Initialize fixed-point format for input/output
    fxp_type = {'signed': True, 'n_word': n_int + n_frac, 'n_frac': n_frac, 'overflow': 'saturate', 'rounding':'trunc'}
    # Initialize fixed-point format with double width for intermediate calculations
    fxp_double_type = {'signed': True, 'n_word': 2 * (n_int + n_frac), 'n_frac': 2 * n_frac, 'overflow': 'saturate', 'rounding':'trunc'}

    # Convert coefficients to fixed-point format
    b_fxp = [Fxp(val, **fxp_type) for val in b]
    a_fxp = [Fxp(val, **fxp_type) for val in a]

    print(b_fxp)
    print(a_fxp)
    print('')

    # Internal state (initialize to 0 in double-width fixed-point)
    yd = Fxp(0, **fxp_double_type)
    
    # Output array
    y = np.zeros(len(x))

    for n in range(len(x)):
        # Convert input to fixed-point
        x_fxp = Fxp(x[n], **fxp_type)

        # Perform calculations in double-width fixed-point for better precision
        x_fxp_double = Fxp(x_fxp.get_val(), **fxp_double_type)  # Convert input to double precision for calculation
        y_tmp = b_fxp[0] * x_fxp_double - a_fxp[1] * yd

        # Convert the intermediate result back to the original precision
        if precision=='half':
            y[n] = Fxp(y_tmp.get_val(), **fxp_type).get_val()  # Convert back to original fixed-point format for output
        elif precision=='full':
            y[n] = y_tmp.get_val()
        
        # Update the internal state
        yd = Fxp(y_tmp.get_val(), **fxp_double_type)
        
    return y
    
def iir_transposed_fixed(x, b, a, n_int, n_frac, precision='half'):
    
    # Initialize fixed-point format for input/output
    fxp_type = {'signed': True, 'n_word': n_int + n_frac, 'n_frac': n_frac, 'overflow': 'saturate', 'rounding':'trunc'}
    # Initialize fixed-point format with double width for intermediate calculations
    fxp_double_type = {'signed': True, 'n_word': 2 * (n_int + n_frac), 'n_frac': 2 * n_frac, 'overflow': 'saturate', 'rounding':'trunc'}

    # Convert coefficients to fixed-point format
    b_fxp = [Fxp(val, **fxp_type) for val in b]
    a_fxp = [Fxp(val, **fxp_type) for val in a]

    print(b_fxp)
    print(a_fxp)
    print('')

    # Internal states (initialize to 0 in double-width fixed-point)
    w = Fxp(0, **fxp_double_type)
    wd = Fxp(0, **fxp_double_type)
    wdd = Fxp(0, **fxp_double_type)
    
    # Output array
    y = np.zeros(len(x))

    for n in range(len(x)):
        # Convert input to fixed-point
        x_fxp = Fxp(x[n], **fxp_type)

        # Perform calculations in double-width fixed-point for better precision
        x_fxp_double = Fxp(x_fxp.get_val(), **fxp_double_type)  # Convert input to double precision for calculation
        w = x_fxp_double - a_fxp[1] * wd - a_fxp[2] * wdd
        y_tmp = b_fxp[0] * w + b_fxp[1] * wd

        # Convert the intermediate result back to the original precision
        if precision=='half':
            y[n] = Fxp(y_tmp.get_val(), **fxp_type).get_val()  # Convert back to original fixed-point format for output
        elif precision=='full':
            y[n] = y_tmp.get_val()
        
        # Update the internal state
        wdd = Fxp(wd.get_val(), **fxp_double_type)
        wd = Fxp(w.get_val(), **fxp_double_type)
        
    return y
    


b_parallel =  [[7.376738447284568], [0.42386913756811406, -2.782525031028174], [-4.606777844852687, 0.023283687418655274]]
a_parallel =  [[1, -0.3466037644977315], [1, -0.6659138380831608, 0.1626025786310818], [1, -0.623802437419108, 0.45098689983844903]]

# Filter coefficients
b = [3.19382974, -8.02002256, 8.73762976, -4.61756997, 0.97458298]
a = [1, -1.63632004, 1.47600867, -0.75840147, 0.2125798, -0.02541702]


N = 1024
F1 = 0.1
F2 = 0.41
n = np.arange(N)

x = np.sin(2*np.pi*F1*n) + np.sin(2*np.pi*F2*n)
x /= np.max(x)

n_int = 4
n_frac = 16


y = np.zeros(len(x))

for i in range(len(a_parallel)):
    
    if len(a_parallel[i]) == 2:
        y += iir_direct_fixed(x, b_parallel[i], a_parallel[i], n_int, n_frac)
    elif len(a_parallel[i]) == 3:
        y += iir_transposed_fixed(x, b_parallel[i], a_parallel[i], n_int, n_frac)

print(np.max(y))


y_ = signal.lfilter(b, a, x)


y_fft = np.fft.fft(y)
y_dB = 20*np.log10(np.abs(y_fft))
y_dB -= np.max(y_dB)
y_dB = y_dB[:N//2]

y_fft_ = np.fft.fft(y_)
y_dB_ = 20*np.log10(np.abs(y_fft_))
y_dB_ -= np.max(y_dB_)
y_dB_ = y_dB_[:N//2]

freqs = np.arange(N)/N
freqs = freqs[:N//2]

plt.plot(freqs, y_dB)
plt.plot(freqs, y_dB_)








N = 1024
F1 = 0.1
F2 = 0.41
n = np.arange(N)

x = np.sin(2*np.pi*F1*n) + np.sin(2*np.pi*F2*n)
x /= np.max(x)

b_parallel =  [[7.376738447284568], [0.42386913756811406, -2.782525031028174], [-4.606777844852687, 0.023283687418655274]]
a_parallel =  [[1, -0.3466037644977315], [1, -0.6659138380831608, 0.1626025786310818], [1, -0.623802437419108, 0.45098689983844903]]

# b = b_parallel[0]
# a = a_parallel[0]

# y = signal.lfilter(b, a, x)
# y_ = iir_direct_fixed(x, b, a, 12, 8)

b = b_parallel[1]
a = a_parallel[1]

y = signal.lfilter(b, a, x)
y_ = iir_transposed_fixed(x, b, a, 12, 8)


print(y_)


y_fft_ = np.fft.fft(y_)
y_dB_ = 20*np.log10(np.abs(y_fft_))
y_dB_ -= np.max(y_dB_)
y_dB_ = y_dB_[:N//2]

y_fft = np.fft.fft(y)
y_dB = 20*np.log10(np.abs(y_fft))
y_dB -= np.max(y_dB)
y_dB = y_dB[:N//2]

freqs = np.arange(N)/N
freqs = freqs[:N//2]

plt.plot(freqs, y_dB_)
plt.plot(freqs, y_dB)
# plt.plot(freqs, y_parallel_q_dB)

# plt.ylim([-20, 5])


print(y_)











x = Fxp(1.2, True, 16, 4)
print(x.get_val())

x.resize(True, 16, 2)
print(x.get_val())



