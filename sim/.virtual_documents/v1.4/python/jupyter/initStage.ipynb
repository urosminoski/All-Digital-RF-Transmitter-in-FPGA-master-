# %matplotlib inline
# %matplotlib widget

try:
    import mpld3
    mpld3.enable_notebook()
    print("Modul mpld3 je instaliran.")
except:
    print("Modul mpld3 nije instaliran.")

# import matplotlib as mpl
# mpl.rc('text', usetex = True)
# mpl.rc('font', family = 'serif', size = 18)

import numpy as np
import matplotlib.pyplot as plt
import scipy.signal as signal

from fxpmath import Fxp

import funcs
import importlib
importlib.reload(funcs)  # Importing the latest version of funcs.py





N = 8*1024
M = 3
OSR = 8
F = 0.32

# x = 2**(M-1) * np.sin(2*np.pi*np.floor(2/7 * N/OSR) * np.arange(N)/N)
x = 2**(M-1) * np.sin(2*np.pi*F*np.arange(N)/OSR)
xfxp = [Fxp(val, signed=True, n_word=12, n_frac=8, overflow='saturate', rounding='around') for val in x]

xfxp_ = np.array([val() for val in xfxp])

w = signal.hann(len(x), False)
x_win = x*w
xfxp_win = xfxp_*w
funcs.plot_fft_dB(x_win, xfxp_win, ylim1=(-200, 10), ylim2=(-200, 10), title1='Sine Wave, Floating-Point', title2='Sine Wave, Fixed-Point s12.8');





yfxp_tread = np.array([val for val in funcs.deltaSigma(xfxp, n_word=4, n_frac=0, type='mid-tread')])
yfxp_rise = np.array([val for val in funcs.deltaSigma(xfxp, n_word=4, n_frac=0, type='mid-rise')])


with open("sinData_tmp.txt", "w") as file:
    for value in yfxp_tread:
        file.write(f"{value}\n")


w = signal.hann(len(yfxp_tread), False)
yfxp_tread_win = yfxp_tread * w
yfxp_rise_win = yfxp_rise * w


print(f"(Mid-Tread) max = {np.max(yfxp_tread)}, min = {np.min(yfxp_tread)}")
print(f"(Mid-Tread) Average = {np.sum(yfxp_tread)/len(yfxp_tread)}")

print(f"(Mid-Rise) max = {np.max(yfxp_rise)}, min = {np.min(yfxp_rise)}")
print(f"(Mid-Rise) Average = {np.sum(yfxp_rise)/len(yfxp_rise)}")

funcs.plot_fft_dB(x_win, [yfxp_tread_win, yfxp_rise_win], ylim1=(-200, 10), ylim2=(-120, 10), legend2=['Mid-Tread', 'Mid-Rise'], title1='Sine Wave, Floating-Point', title2='Sine Wave, Delta-Sigma Modulation s4.0', OSR=OSR)





y1b = funcs.convert_1b(yfxp_tread, funcs.LUT1)

w = signal.hann(len(y1b), False)
y1b_win = y1b*w

print(f"len(x) = {len(yfxp_tread)}, len(y) = {len(y1b)}")
print(f"Ratio = {int(len(y1b)/len(yfxp_tread))}")
print(f"Average = {np.sum(y1b)/len(y1b)}")

funcs.plot_fft_dB(yfxp_tread_win, y1b_win, ylim1=(-120, 10), ylim2=(-120, 10), title1="Original Signal", title2=f"Serialized Signal, LUT 1 (Ratio = {int(len(y1b)/len(yfxp_tread))})", OSR=OSR)


plt.plot(y1b)





y1b = funcs.convert_1b(yfxp_tread, funcs.LUT2)

w = signal.hann(len(y1b), False)
y1b_win = y1b*w

print(f"len(x) = {len(yfxp_tread)}, len(y) = {len(y1b)}")
print(f"Ratio = {int(len(y1b)/len(yfxp_tread))}")
print(f"Average = {np.sum(y1b)/len(y1b)}")

funcs.plot_fft_dB(yfxp_tread_win, y1b_win, ylim1=(-120, 10), ylim2=(-120, 10), title1="Original Signal", title2=f"Serialized Signal, LUT 2 (Ratio = {int(len(y1b)/len(yfxp_tread))})", OSR=OSR)





y1b = funcs.convert_1b(yfxp_tread, funcs.LUT3)

w = signal.hann(len(y1b), False)
y1b_win = y1b*w

print(f"len(x) = {len(yfxp_tread)}, len(y) = {len(y1b)}")
print(f"Ratio = {int(len(y1b)/len(yfxp_tread))}")
print(f"Average = {np.sum(y1b)/len(y1b)}")

funcs.plot_fft_dB(yfxp_tread_win, y1b_win, ylim1=(-120, 10), ylim2=(-120, 10), title1="Original Signal", title2=f"Serialized Signal, LUT 3 (Ratio = {int(len(y1b)/len(yfxp_tread))})", OSR=OSR)





y1b = funcs.convert_1b(yfxp_rise, funcs.LUT4)

w = signal.hann(len(y1b), False)
y1b_win = y1b*w

print(f"len(x) = {len(yfxp_rise)}, len(y) = {len(y1b)}")
print(f"Ratio = {int(len(y1b)/len(yfxp_rise))}")
print(f"Average = {np.mean(y1b)}")
print(np.mean(yfxp_rise))

funcs.plot_fft_dB(yfxp_rise_win, y1b_win, ylim1=(-120, 10), ylim2=(-120, 10), title1="Original Signal", title2=f"Serialized Signal, LUT 4 (Ratio = {int(len(y1b)/len(yfxp_rise))})", OSR=OSR)





y1b = funcs.convert_1b(yfxp_rise, funcs.LUT5)

w = signal.hann(len(y1b), False)
y1b_win = y1b*w

print(f"len(x) = {len(yfxp_rise)}, len(y) = {len(y1b)}")
print(f"Ratio = {int(len(y1b)/len(yfxp_rise))}")
print(f"Average = {np.sum(y1b)/len(y1b)}")

funcs.plot_fft_dB(yfxp_rise_win, y1b_win, ylim1=(-120, 10), ylim2=(-120, 10), title1="Original Signal", title2=f"Serialized Signal, LUT 5 (Ratio = {int(len(y1b)/len(yfxp_rise))})", OSR=OSR)








importlib.reload(funcs)  # Importing the latest version of funcs.py


yfxp = np.array([val for val in funcs.deltaSigma(xfxp, n_word=4, n_frac=0, type='mid-tread')])
yfxp_ = np.array([val for val in funcs.deltaSigma(xfxp, n_word=4, n_frac=0, type='mid-rise')])


print(yfxp[:20])
print(yfxp_[:20])


print(np.mean(yfxp), np.mean(yfxp_))


yfxp_i = np.array([val for val in funcs.deltaSigma(xfxp, n_word=4, n_frac=0, type='mid-tread')])



print(np.mean(yfxp_i))


tmp_tread = Fxp(0, n_word=4, n_frac=0, overflow='saturate', rounding='around')
tmp_rise = Fxp(0, n_word=4, n_frac=0, overflow='saturate', rounding='floor')

tread = []
rise = []
for i in range(len(yfxp_i)):
    tmp_tread( yfxp_i[i] )
    tread.append(tmp_tread())

    tmp_rise( yfxp_i[i] )
    rise.append(tmp_rise()+0.5)

print(tread[:10])
print(rise[:10])

y1b_LUT3 = funcs.convert_1b(tread, funcs.LUT3)
y1b_LUT4 = funcs.convert_1b(rise, funcs.LUT4)


print(np.mean(tread), np.mean(rise))
print(np.mean(y1b_LUT3), np.mean(y1b_LUT4))





print(np.mean(tread), np.mean(rise))








yfxp_ = []
for i in range(len(yfxp)):
    tmp = yfxp[i]
    if yfxp[i] % 2 == 0:
        tmp+=1
    yfxp_.append(tmp)

print(yfxp[:10])
print(yfxp_[:10])








w = signal.hann(len(yfxp), False)
yfxp_win = yfxp * w
yfxp_win_ = yfxp_ * w

funcs.plot_fft_dB(yfxp_win, yfxp_win_, ylim1=(-120, 10), ylim2=(-120, 10), title1='Sine Wave, Floating-Point', title2='Sine Wave, Delta-Sigma Modulation s4.0', OSR=OSR)
plt.show()





tmp_tread = Fxp(0, n_word=4, n_frac=0, overflow='saturate', rounding='around')
tmp_rise = Fxp(0, n_word=4, n_frac=0, overflow='saturate', rounding='floor')

x = np.linspace(-8, 8, 1024)

tread = []
rise = []
for i in range(len(x)):
    tmp_tread( x[i] )
    tread.append(tmp_tread())

    tmp_rise( x[i] )
    rise.append(tmp_rise())


plt.cla()
plt.plot(x, tread)
plt.grid()
ticks = range(-8, 9)  # Create a range from -8 to 8 (inclusive)
plt.xticks(ticks)  # Set x-axis ticks
plt.yticks(ticks)  # Set y-axis ticks
plt.show()

plt.plot(x, rise)
plt.grid()
ticks = range(-8, 9)  # Create a range from -8 to 8 (inclusive)
plt.xticks(ticks)  # Set x-axis ticks
plt.yticks(ticks)  # Set y-axis ticks
plt.show()


y1b = funcs.convert_1b(rise, funcs.LUT4)


print(np.mean(y1b))


print(np.mean(rise))



