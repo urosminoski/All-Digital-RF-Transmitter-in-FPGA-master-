%matplotlib inline
import matplotlib as mpl
mpl.rc('text', usetex = True)
mpl.rc('font', family = 'serif', size = 18)

import numpy as np
import matplotlib.pyplot as plt
import scipy.signal as signal

from fxpmath import Fxp

import funcs
import importlib
importlib.reload(funcs)  # Importing the latest version of funcs.py


# Filter coefficients
b = [3.19382974, -8.02002256, 8.73762976, -4.61756997, 0.97458298]
a = [1, -1.63632004, 1.47600867, -0.75840147, 0.2125798, -0.02541702]


# Decompos IIR filter to parallel IIR sections
[b_parallel, a_parallel] = funcs.decompose_iir_to_parallel(b, a)

print("Parallel Decomposition:")
for i in range(len(a_parallel)):
    print("Section " + str(i+1) + ":")
    print("\tb =", b_parallel[i])
    print("\ta =", a_parallel[i], "\n")


N = 2*1024
M = 3
OSR = 8
n = np.arange(N)
x = 2**(M-1) * np.sin(2*np.pi*np.floor(2/7 * N/OSR) * n/N)


b00 = Fxp(b_parallel[0][0], signed=True, n_word=12, n_frac=8, overflow='saturate', rounding='around')
a01 = Fxp(a_parallel[0][1], signed=True, n_word=12, n_frac=11, overflow='saturate', rounding='around')

b10 = Fxp(b_parallel[1][0], signed=True, n_word=12, n_frac=11, overflow='saturate', rounding='around')
b11 = Fxp(b_parallel[1][1], signed=True, n_word=12, n_frac=9, overflow='saturate', rounding='around')
a11 = Fxp(a_parallel[1][1], signed=True, n_word=12, n_frac=11, overflow='saturate', rounding='around')
a12 = Fxp(a_parallel[1][2], signed=True, n_word=12, n_frac=11, overflow='saturate', rounding='around')

b20 = Fxp(b_parallel[2][0], signed=True, n_word=12, n_frac=8, overflow='saturate', rounding='around')
b21 = Fxp(b_parallel[2][1], signed=True, n_word=12, n_frac=11, overflow='saturate', rounding='around')
a21 = Fxp(a_parallel[2][1], signed=True, n_word=12, n_frac=11, overflow='saturate', rounding='around')
a22 = Fxp(a_parallel[2][2], signed=True, n_word=12, n_frac=11, overflow='saturate', rounding='around')


x_fxp = Fxp(0, signed=True, n_word=12, n_frac=8, overflow='saturate', rounding='around')
yi = Fxp(0, signed=True, n_word=24, n_frac=19, overflow='saturate', rounding='around')
e = Fxp(0, signed=True, n_word=24, n_frac=19, overflow='saturate', rounding='around')
v = Fxp(0, signed=True, n_word=5, n_frac=0, overflow='saturate', rounding='around')

y0 = Fxp(0, signed=True, n_word=24, n_frac=19, overflow='saturate', rounding='around')
y0d = Fxp(0, signed=True, n_word=24, n_frac=19, overflow='saturate', rounding='around')

y1 = Fxp(0, signed=True, n_word=24, n_frac=19, overflow='saturate', rounding='around')
w1 = Fxp(0, signed=True, n_word=24, n_frac=19, overflow='saturate', rounding='around')
w1d = Fxp(0, signed=True, n_word=24, n_frac=19, overflow='saturate', rounding='around')
w1dd = Fxp(0, signed=True, n_word=24, n_frac=19, overflow='saturate', rounding='around')

y2 = Fxp(0, signed=True, n_word=24, n_frac=19, overflow='saturate', rounding='around')
w2 = Fxp(0, signed=True, n_word=24, n_frac=19, overflow='saturate', rounding='around')
w2d = Fxp(0, signed=True, n_word=24, n_frac=19, overflow='saturate', rounding='around')
w2dd = Fxp(0, signed=True, n_word=24, n_frac=19, overflow='saturate', rounding='around')

yiir = Fxp(0, signed=True, n_word=24, n_frac=19, overflow='saturate', rounding='around')


y = np.zeros(len(x))

for n in range(len(x)):
    x_fxp( x[n] )

    y0( (b00*x_fxp + a01*y0d)() )

    w1( (x_fxp - a11*w1d - a12*w1dd)() )
    y1( (b10*w1 + b11*w1d)() )

    w2( (x_fxp - a21*w1d - a22*w2dd)() )
    y2( (b20*w1 + b21*w2d)() )

    yiir( (y0+y1+y2)() )

    y0d( y0() )
    w2dd( w2d() )
    w2d( w2() )
    w1dd( w1d() )
    w1d( w1() )

    y[n] = yiir()


def fft_dB(x):
    y_fft = np.fft.fft(x)
    y_fft_dB = 20*np.log10(np.abs(y_fft))
    y_fft_dB -= np.max(y_fft_dB)
    y_fft_dB = y_fft_dB[:len(y)//2]
    return y_fft_dB

w1 = signal.blackman(len(y), False)
y1 = fft_dB(w1*y)
freqs = np.linspace(0, 0.5, len(y)//2)

plt.plot(freqs, y1)
plt.ion()


plt.plot(y)











plt.plot(x)


y = np.zeros(len(x))
ee = np.zeros(len(x))

for n in range(len(x)):

    x_fxp( x[n] )
    yi( (yiir+x_fxp)() )
    v( yi() )
    e( (yi-v)() )

    y0( (b00*e + a01*y0d)() )

    w1( (e - a11*w1d - a12*w1dd)() )
    y1( (b10*w1 + b11*w1d)() )

    w2( (e - a21*w1d - a22*w2dd)() )
    y2( (b20*w1 + b21*w2d)() )

    yiir( (y0+y1+y2)() )

    y0d( y0() )
    w2dd( w2d() )
    w2d( w2() )
    w1dd( w1d() )
    w1d( w1() )

    y[n] = v()
    ee[n] = e()


plt.plot(y)


def fft_dB(x):
    y_fft = np.fft.fft(x)
    y_fft_dB = 20*np.log10(np.abs(y_fft))
    y_fft_dB -= np.max(y_fft_dB)
    y_fft_dB = y_fft_dB[:len(y)//2]
    return y_fft_dB

w1 = signal.blackman(len(y), False)
y1 = fft_dB(w1*y)
freqs = np.linspace(0, 0.5, len(y)//2)

plt.plot(freqs, y1)


plot_fft(y)
print(np.max(y))


x_ = [Fxp(val, signed=True, n_word=12, n_frac=7, overflow='saturate', rounding='around') for val in x]

plot_fft(x_)
print(np.max(x_))
plt.plot(x_)


plot_fft(ee)
print(np.max(ee))


g = Fxp(1.25, signed=True, n_word=4, n_frac=2, overflow='saturate', rounding='around')

print(g.info(verbose=3))








n_word = 12; n_frac = 8
b_parallel_fxp = [[Fxp(val, signed=True, n_word=n_word, n_frac=n_frac, overflow='saturate', rounding='around') for val in row] for row in b_parallel]
a_parallel_fxp = [[Fxp(val, signed=True, n_word=n_word, n_frac=n_frac, overflow='saturate', rounding='around') for val in row] for row in a_parallel]

print(b_parallel)
print(b_parallel_fxp)
print('')
print(a_parallel)
print(a_parallel_fxp)


def iir_fxp(x, b, a, n_word, n_frac):
    x_fxp = Fxp(0, signed=True, n_word=n_word[0], n_frac=n_frac[0], overflow='saturate', rounding='around')
    yi = Fxp(0, signed=True, n_word=n_word[0], n_frac=n_frac[0], overflow='saturate', rounding='around')
    e = Fxp(0, signed=True, n_word=n_word[0], n_frac=n_frac[0], overflow='saturate', rounding='around')
    v = Fxp(0, signed=True, n_word=n_word[1], n_frac=n_frac[1], overflow='saturate', rounding='around')
    
    y0 = Fxp(0, signed=True, n_word=n_word[0], n_frac=n_frac[0], overflow='saturate', rounding='around')
    y0d = Fxp(0, signed=True, n_word=n_word[0], n_frac=n_frac[0], overflow='saturate', rounding='around')
    
    y1 = Fxp(0, signed=True, n_word=n_word[0], n_frac=n_frac[0], overflow='saturate', rounding='around')
    w1 = Fxp(0, signed=True, n_word=n_word[0], n_frac=n_frac[0], overflow='saturate', rounding='around')
    w1d = Fxp(0, signed=True, n_word=n_word[0], n_frac=n_frac[0], overflow='saturate', rounding='around')
    w1dd = Fxp(0, signed=True, n_word=n_word[0], n_frac=n_frac[0], overflow='saturate', rounding='around')
    
    y2 = Fxp(0, signed=True, n_word=n_word[0], n_frac=n_frac[0], overflow='saturate', rounding='around')
    w2 = Fxp(0, signed=True, n_word=n_word[0], n_frac=n_frac[0], overflow='saturate', rounding='around')
    w2d = Fxp(0, signed=True, n_word=n_word[0], n_frac=n_frac[0], overflow='saturate', rounding='around')
    w2dd = Fxp(0, signed=True, n_word=n_word[0], n_frac=n_frac[0], overflow='saturate', rounding='around')

    yiir = Fxp(0, signed=True, n_word=n_word[0], n_frac=n_frac[0], overflow='saturate', rounding='around')
    
    y = np.zeros(len(x))

    for n in range(len(x)):
        x_fxp( x[n] )
    
        y0( (b[0][0]*x_fxp + a[0][1]*y0d)() )
    
        w1( (x_fxp - a[1][1]*w1d - a[1][2]*w1dd)() )
        y1( (b[1][0]*w1 + b[1][1]*w1d)() )
    
        w2( (x_fxp - a[2][1]*w1d - a[2][2]*w2dd)() )
        y2( (b[2][0]*w1 + b[2][1]*w2d)() )
    
        yiir( (y0+y1+y2)() )
    
        y0d( y0() )
        w2dd( w2d() )
        w2d( w2() )
        w1dd( w1d() )
        w1d( w1() )
    
        y[n] = yiir()
    return y


N = 1024
F1 = 0.1
F2 = 0.34
x = np.sin(2*np.pi*F1*np.arange(N)) + np.sin(2*np.pi*F2*np.arange(N))
x_fxp = [Fxp(val, signed=True, n_word=n_word, n_frac=n_frac, overflow='saturate', rounding='around') for val in x]

y_fxp = iir_fxp(x_fxp, b_parallel_fxp, a_parallel_fxp, n_word = [24, 5], n_frac = [19, 0])


def fft_dB(x):
    y_fft = np.fft.fft(x)
    y_fft_dB = 20*np.log10(np.abs(y_fft))
    y_fft_dB -= np.max(y_fft_dB)
    y_fft_dB = y_fft_dB[:len(y)//2]
    return y_fft_dB

w1 = signal.blackman(len(y_fxp), False)
y1 = fft_dB(w1*y_fxp)
freqs = np.linspace(0, 0.5, len(y)//2)

plt.plot(freqs, y1)





























----------------------------------------------------------------------
library ieee;
use ieee.std_logic_1164.all;
use ieee.numeric_std.all;
use work.deltaSigma_pkg.all;

library ieee_proposed;
use ieee_proposed.math_utility_pkg.all;
use ieee_proposed.fixed_pkg.all;
----------------------------------------------------------------------

entity deltaSigma is
	port(
		clk, rst 	: in std_logic;
		x 			: in sfixed(C_X_UPPER downto C_X_LOWER);
		y 			: out sfixed(C_Y_UPPER downto C_Y_LOWER)
	);
end entity;
----------------------------------------------------------------------
architecture rti of deltaSigma is

	-- Coefficients of H0.
	constant b00 : sfixed(3 downto -8) 	:= to_sfixed(7.3765809,	3, -8);
	constant a01 : sfixed(0 downto -11) := to_sfixed(0.3466036, 0, -11);
	-- Coefficients of H1.
	constant b10 : sfixed(0 downto -11) := to_sfixed(0.424071040,0, -11);
	constant b11 : sfixed(2 downto -9) 	:= to_sfixed(2.782608716, 2, -9);
	constant a11 : sfixed(0 downto -11) := to_sfixed(0.66591402, 0, -11);
	constant a12 : sfixed(0 downto -11) := to_sfixed(0.16260264, 0, -11);
	-- Coefficients of H2.
	constant b20 : sfixed(3 downto -8) 	:= to_sfixed(4.606822182, 3, -8);
	constant b21 : sfixed(0 downto -11) := to_sfixed(0.023331537, 0, -11);
	constant a21 : sfixed(0 downto -11) := to_sfixed(0.62380242, 0, -11);
	constant a22 : sfixed(0 downto -11) := to_sfixed(0.4509869, 0, -11);
	
begin

	process(clk, rst)
		-- IIR's output, quantizier input and quantization error.
		variable y_iir, e : sfixed(4 downto -19);
		variable y_i : sfixed(4 downto -19);
		-- H0.
		variable x0, x0d : sfixed(4 downto -19);
		-- H1.
		variable x1, w1, w1d, w1dd : sfixed(4 downto -19);
		-- H2.
		variable x2, w2, w2d, w2dd : sfixed(4 downto -19);
		-- Output.
		variable v : sfixed(C_Y_UPPER downto C_Y_LOWER);
	begin
		if(rst = '1') then
			y_iir 	:= to_sfixed(0, y_iir);
			y_i 	:= to_sfixed(0, y_i);
			e 		:= to_sfixed(0, e);
			x0 		:= to_sfixed(0, x0);
			x0d 	:= to_sfixed(0, x0d);
			x1 		:= to_sfixed(0, x1);
			w1 		:= to_sfixed(0, w1);
			w1d 	:= to_sfixed(0, w1d);
			w1dd 	:= to_sfixed(0, w1dd);
			x2 		:= to_sfixed(0, x2);
			w2 		:= to_sfixed(0, w2);
			w2d 	:= to_sfixed(0, w2d);
			w2dd 	:= to_sfixed(0, w2dd);
			v 		:= to_sfixed(0, v);
		elsif rising_edge(clk) then
			y_i := resize(x + y_iir, y_i'high, y_i'low);
			v 	:= resize(y_i, v'high, v'low);
			if(v(v'right) = '0') then
				v := resize(v + to_sfixed(1, v), v'high, v'low);
			end if;
			
			e 		:= resize(y_i - v, e'high, e'low);
			x0 		:= resize(b00*e + a01*x0d, x0'high, x0'low);
			w1 		:= resize(e + a11*w1d - a12*w1dd, w1'high, w1'low);
			x1 		:= resize(b10*w1 - b11*w1d, x1'high, x1'low);
			w2 		:= resize(e + a21*w2d - a22*w2dd, w2'high, w2'low);
			x2 		:= resize(b21*w2d - b20*w2, x2'high, x2'low);
			y_iir 	:= resize(x0 + x1 + x2, y_iir'high, y_iir'low);
			
			x0d 	:= x0;
			w1dd 	:= w1d;
			w1d 	:= w1;
			w2dd 	:= w2d;
			w2d 	:= w2;
		end if;
		y <= v;
	end process;
	
end architecture;





N = 2*1024
M = 3
OSR = 8

x_ = 2**(M-1) * np.sin(2*np.pi*np.floor(2/7 * N/OSR) * np.arange(N)/N)
x = [Fxp(val, signed=True, n_word=12, n_frac=8, overflow='saturate', rounding='around') for val in x_]


# Coefficients of H0.
b00 = Fxp(7.3765809, n_word=12, n_frac=8, overflow='saturate', rounding='around')
a01 = Fxp(0.3466036, n_word=12, n_frac=11, overflow='saturate', rounding='around')
# Coefficients of H1.
b10 = Fxp(0.424071040, n_word=12, n_frac=11, overflow='saturate', rounding='around')
b11 = Fxp(2.782608716, n_word=12, n_frac=9, overflow='saturate', rounding='around')
a11 = Fxp(0.66591402, n_word=12, n_frac=11, overflow='saturate', rounding='around')
a12 = Fxp(0.16260264, n_word=12, n_frac=11, overflow='saturate', rounding='around')
# Coefficients of H2.
b20 = Fxp(4.606822182, n_word=12, n_frac=8, overflow='saturate', rounding='around')
b21 = Fxp(0.023331537, n_word=12, n_frac=11, overflow='saturate', rounding='around')
a21 = Fxp(0.62380242, n_word=12, n_frac=11, overflow='saturate', rounding='around')
a22 = Fxp(0.4509869, n_word=12, n_frac=11, overflow='saturate', rounding='around')

y_iir = Fxp(0, n_word=24, n_frac=19, overflow='saturate', rounding='around')
e = Fxp(0, n_word=24, n_frac=19, overflow='saturate', rounding='around')
y_i = Fxp(0, n_word=24, n_frac=19, overflow='saturate', rounding='around')
x0 = Fxp(0, n_word=24, n_frac=19, overflow='saturate', rounding='around')
x0d = Fxp(0, n_word=24, n_frac=19, overflow='saturate', rounding='around')
x1 = Fxp(0, n_word=24, n_frac=19, overflow='saturate', rounding='around')
w1 = Fxp(0, n_word=24, n_frac=19, overflow='saturate', rounding='around')
w1d = Fxp(0, n_word=24, n_frac=19, overflow='saturate', rounding='around')
w1dd = Fxp(0, n_word=24, n_frac=19, overflow='saturate', rounding='around')
x2 = Fxp(0, n_word=24, n_frac=19, overflow='saturate', rounding='around')
w2 = Fxp(0, n_word=24, n_frac=19, overflow='saturate', rounding='around')
w2d = Fxp(0, n_word=24, n_frac=19, overflow='saturate', rounding='around')
w2dd = Fxp(0, n_word=24, n_frac=19, overflow='saturate', rounding='around')
v = Fxp(0, n_word=5, n_frac=0, overflow='saturate', rounding='around')

y = np.zeros(len(x))

for i in range(len(x)):
    y_i( (x[i]+y_iir)() )
    v( y_i() )
    # if v() % 2 == 0:
    #     v( (v+1)() )
    y[i] = v()
    e( (y_i-v)() )

    x0( (b00*e+a01*x0d)() )
    w1( (e+a11*w1d-a12*w1dd)() )
    x1( (b10*w1-b11*w1d)() )
    w2( (e+a21*w2d-a22*w2dd)() )
    x2( (b21*w2d-b20*w2)() )
    y_iir( (x0+x1+x2)() )

    x0d( x0() )
    w1dd( w1d() )
    w1d( w1() )
    w2dd( w2d() )
    w2d( w2() )


def fft_dB(x):
    y_fft = np.fft.fft(x)
    y_fft_dB = 20*np.log10(np.abs(y_fft))
    y_fft_dB -= np.max(y_fft_dB)
    y_fft_dB = y_fft_dB[:len(y)//2]
    return y_fft_dB

w1 = signal.blackman(len(y), False)
y1 = fft_dB(w1*y)
freqs = np.linspace(0, 0.5, len(y)//2)

plt.plot(freqs, y1)


print(v())


y_i := resize(x + y_iir, y_i'high, y_i'low);
			v 	:= resize(y_i, v'high, v'low);
			if(v(v'right) = '0') then
				v := resize(v + to_sfixed(1, v), v'high, v'low);
			end if;
			
			e 		:= resize(y_i - v, e'high, e'low);
			x0 		:= resize(b00*e + a01*x0d, x0'high, x0'low);
			w1 		:= resize(e + a11*w1d - a12*w1dd, w1'high, w1'low);
			x1 		:= resize(b10*w1 - b11*w1d, x1'high, x1'low);
			w2 		:= resize(e + a21*w2d - a22*w2dd, w2'high, w2'low);
			x2 		:= resize(b21*w2d - b20*w2, x2'high, x2'low);
			y_iir 	:= resize(x0 + x1 + x2, y_iir'high, y_iir'low);
			
			x0d 	:= x0;
			w1dd 	:= w1d;
			w1d 	:= w1;
			w2dd 	:= w2d;
			w2d 	:= w2;


v = Fxp(0, n_word=5, n_frac=0, overflow='saturate', rounding='around')
for i in range(5):
    v( i+1 )    
print(v())



