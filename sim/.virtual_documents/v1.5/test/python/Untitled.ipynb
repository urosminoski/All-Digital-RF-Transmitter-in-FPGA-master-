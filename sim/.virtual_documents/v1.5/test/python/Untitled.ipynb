def finite_diff_weights(x, x0, n):
    N = len(x)
    c = np.zeros((N, n+1))
    c1 = 1.0
    c4 = x[0] - x0
    c[0, 0] = 1.0
    for i in range(1, N):
        mn = min(i, n)
        c2 = 1.0
        c5 = c4
        c4 = x[i] - x0
        for j in range(i):
            c3 = x[i] - x[j]
            c2 *= c3
            for k in range(mn, 0, -1):
                c[i, k] = (c4 * c[i-1, k] - k * c[i-1, k-1]) / c3
            c[i, 0] = (c4 * c[i-1, 0]) / c3
            for k in range(mn, 0, -1):
                c[j, k] = (c5 * c[j, k] - k * c[j, k-1]) / c3
            c[j, 0] = (c5 * c[j, 0]) / c3
        c1 = c2
    return c



x = np.array([-2, -1, 0, 1, 2])
x0 = 0
order = 4

weights_matrix = finite_diff_weights(x, x0, order)
for d in range(1, order+1):
    print(f"Derivative order {d} weights:", weights_matrix[:, d])



from numdifftools.fornberg import fd_weights


from numdifftools.fornberg import fd_weights
import numpy as np

x = np.array([-2, -1, 0, 1, 2])  # Example stencil
n = 4  # Derivative order
weights = fd_weights(x, x0=0, n=n)  # Weights for 4th derivative at x0=0

print("4th derivative weights:", weights)



import numpy as np
import matplotlib.pyplot as plt
from numdifftools.fornberg import fd_weights_all


def vectorized_taylor_fractional_delay(Q, delta, N, stencil_points):
    Q = np.asarray(Q).flatten()
    x = np.array(stencil_points)
    weights_matrix = fd_weights_all(x, x0=0, n=N)  # Shape: (N+1, len(stencil))
    
    num_samples = len(Q)
    Q_shifted = np.zeros(num_samples)
    max_offset = int(max(abs(x)))
    
    Q_padded = np.pad(Q, (max_offset, max_offset), mode='constant', constant_values=0)
    indices_matrix = (np.arange(num_samples)[:, None] + x[None, :] + max_offset)
    samples_matrix = Q_padded[indices_matrix]  # Shape: (num_samples, len(stencil))
    
    for k in range(0, N+1):
        weights = weights_matrix[k]  # Correct shape: (len(stencil),)
        derivative_k = samples_matrix @ weights  # Matrix multiplication
        Q_shifted += (delta**k) / factorial(k) * derivative_k
    
    return Q_shifted


fs = 1000
n = np.arange(1000)
Q = np.sin(2 * np.pi * 5 * n / fs)

delta = 0.25
N = 4
stencil = [-2, -1, 0, 1, 2]

Q_shifted = vectorized_taylor_fractional_delay(Q, delta, N, stencil)
# print(Q_shifted)


plt.plot(Q_shifted)
plt.plot(Q)


print(np.abs(Q-Q_shifted))



