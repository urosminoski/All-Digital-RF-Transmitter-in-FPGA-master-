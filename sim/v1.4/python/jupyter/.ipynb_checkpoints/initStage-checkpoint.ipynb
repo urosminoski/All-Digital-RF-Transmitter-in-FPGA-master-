{
 "cells": [
  {
   "cell_type": "code",
   "execution_count": 1,
   "id": "f0cd2e9b-ee88-44be-ac8c-9e000941ee0f",
   "metadata": {},
   "outputs": [
    {
     "data": {
      "text/plain": [
       "<module 'funcs' from '/home/urosminoski/Desktop/FAKS/MASTER/All-Digital-RF-Transmitter-in-FPGA-master-/sim/v1.4/python/jupyter/funcs.py'>"
      ]
     },
     "execution_count": 1,
     "metadata": {},
     "output_type": "execute_result"
    }
   ],
   "source": [
    "%matplotlib inline\n",
    "import matplotlib as mpl\n",
    "mpl.rc('text', usetex = True)\n",
    "mpl.rc('font', family = 'serif', size = 18)\n",
    "\n",
    "import numpy as np\n",
    "import matplotlib.pyplot as plt\n",
    "import scipy.signal as signal\n",
    "\n",
    "from fxpmath import Fxp\n",
    "\n",
    "import funcs\n",
    "import importlib\n",
    "importlib.reload(funcs)  # Importing the latest version of funcs.py"
   ]
  },
  {
   "cell_type": "markdown",
   "id": "89fa15ec-6e7a-4cb1-8860-7a805577a629",
   "metadata": {},
   "source": [
    "### Input signal"
   ]
  },
  {
   "cell_type": "code",
   "execution_count": 2,
   "id": "e87845ca-ccbf-40b9-832a-33f1d3153395",
   "metadata": {},
   "outputs": [],
   "source": [
    "N = 2*1024\n",
    "M = 3\n",
    "OSR = 8\n",
    "\n",
    "x = 2**(M-1) * np.sin(2*np.pi*np.floor(2/7 * N/OSR) * np.arange(N)/N)\n",
    "xfxp = [Fxp(val, signed=True, n_word=12, n_frac=8, overflow='saturate', rounding='around') for val in x]"
   ]
  },
  {
   "cell_type": "code",
   "execution_count": null,
   "id": "f8547ac4-463f-4ce6-baf8-8f52b45dd8dc",
   "metadata": {},
   "outputs": [],
   "source": []
  }
 ],
 "metadata": {
  "kernelspec": {
   "display_name": "Python 3 (ipykernel)",
   "language": "python",
   "name": "python3"
  },
  "language_info": {
   "codemirror_mode": {
    "name": "ipython",
    "version": 3
   },
   "file_extension": ".py",
   "mimetype": "text/x-python",
   "name": "python",
   "nbconvert_exporter": "python",
   "pygments_lexer": "ipython3",
   "version": "3.8.19"
  }
 },
 "nbformat": 4,
 "nbformat_minor": 5
}
