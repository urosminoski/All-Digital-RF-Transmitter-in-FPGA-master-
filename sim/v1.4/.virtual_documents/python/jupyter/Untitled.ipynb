%matplotlib inline
import numpy as np
import matplotlib as mpl
mpl.rc('text', usetex = True)
mpl.rc('font', family = 'serif', size = 18)
import matplotlib.pyplot as plt
import scipy.signal as signal


import q_format


def plot_IIR(data, labels=None, title=None):
    """
    Plots multiple frequency responses on the same plot.
    
    Args:
    - data: List of tuples (w, h) where 'w' is frequency and 'h' is the frequency response.
    - labels: List of labels for each plot. Default is None.
    """
    plt.figure(figsize=(8, 6))
    
    # Plot magnitude response (in dB)
    plt.subplot(2, 1, 1)
    for i, (w, h) in enumerate(data):
        label = labels[i] if labels is not None else f"Filter {i+1}"
        h_dB = 20*np.log10(abs(h))
        h_dB -= np.max(h_dB)
        plt.plot(w / np.pi / 2, h_dB, label=label)
    
    plt.title(title if title is not None else "IIR Filter")
    plt.xlabel(r'$F$')
    plt.ylabel(r'Magnitude $[dB]$')
    plt.grid()
    plt.legend()
    
    # Plot phase response
    plt.subplot(2, 1, 2)
    for i, (w, h) in enumerate(data):
        label = labels[i] if labels is not None else f"Filter {i+1}"
        plt.plot(w / np.pi / 2, np.angle(h), label=label)
    
    plt.xlabel(r'$F$')
    plt.ylabel('Phase [radians]')
    plt.grid()
    plt.legend(fontsize='small')
    
    plt.tight_layout()
    plt.show()


def plot_zeros_poles(data, labels=None):
    """
    Plots multiple zeros and poles on the unit circle.
    
    Args:
    - data: List of tuples (b, a) where 'b' is the numerator coefficients and 'a' is the denominator coefficients.
    - labels: List of labels for each plot. Default is None.
    - title: Title for the plot. Default is None.
    """
    plt.figure(figsize=(6, 6))
    ax = plt.subplot(1, 1, 1)
    
    # Plot the unit circle
    unit_circle = plt.Circle((0, 0), 1, color='gray', fill=False, linestyle='--')
    ax.add_artist(unit_circle)

    # Generate distinct colors for each section
    colors = plt.cm.get_cmap('tab10', len(data))

    for i, (b, a) in enumerate(data):
        label = labels[i] if labels is not None else f"Filter {i+1}"
        zeros = np.roots(b)
        poles = np.roots(a)

        color = colors(i)
        
        # Plot zeros and poles
        plt.scatter(np.real(zeros), np.imag(zeros), s=50, marker='o', color=color, label=f"{label} Zeros")
        plt.scatter(np.real(poles), np.imag(poles), s=50, marker='x', color=color, label=f"{label} Poles")

    plt.axvline(0, color='gray', lw=1)
    plt.axhline(0, color='gray', lw=1)

    plt.xlim([-1.5, 1.5])
    plt.ylim([-1.5, 1.5])
    if title:
        plt.title(title)
    plt.xlabel("Real")
    plt.ylabel("Imaginary")
    plt.grid(True)
    plt.legend(fontsize='small')
    plt.show()

def decompose_iir_to_parallel(b, a):
    # Perform partial fraction expansion (residue form)
    r, p, k = signal.residuez(b, a)

    # Variable to track which pole has been processed
    processed = np.zeros(len(p), dtype = bool)

    b_new = []
    a_new = []
    
    for i in range(len(p)):
        # If pole has been used (complex-conjugate pare) then skip
        if processed[i]:
            continue

        # If pole is real, imaginary part very small, it's a FIRST order section
        if p[i].imag <= 1e-10:
            # First order section H(z) = r[i] / (1 - p[i] * z^-1)
            b = [r[i].real]
            a = [1, -p[i].real]
        else:
            # Second order section. Look for complex conjugate
            for j in range(i + 1, len(p)):
                if p[i].real == p[j].real and p[i].imag == -p[j].imag:
                    # Complex conjugate found. Use both to form second order section
                    # Second order section H(z) = (2*r[i].real - 2*(r[i].real * p[i].real) - r[i].imag * p[i].imag)) / (1 - 2*p[i].real * z^[-1] + (p[i].real^2 + p[i].imag^2) * z^-2)
                    b = [2 * r[i].real,  -2 * (r[i].real * p[i].real + r[i].imag * p[i].imag)]
                    a = [1, -2*p[i].real, (p[i].real**2 + p[i].imag**2)]
                    # Mark the conjuget as processed
                    processed[j] = True
                    break
                    
        b_new.append(b)
        a_new.append(a)

        # Mark this pole as processed
        processed[i] = True

    return [b_new, a_new]

def decompose_iir_to_parallel_H(b, a):
    [b_new, a_new] = decompose_iir_to_parallel(b, a)
    h = 0
    for b, a in zip(b_new, a_new):
        w_tmp, h_tmp = signal.freqz(b, a)
        h += h_tmp
    return [w, h]



# Filter coefficients
b = [3.19382974, -8.02002256, 8.73762976, -4.61756997, 0.97458298]
a = [1, -1.63632004, 1.47600867, -0.75840147, 0.2125798, -0.02541702]

# Decompos IIR filter to parallel IIR sections
[b_parallel, a_parallel] = decompose_iir_to_parallel(b, a)

n_int = 4
n_frac = 8

print(b_parallel)


b_q = a_q = []
for b_i, a_i in zip(b, a):
    b_q.append(q_format.float_to_fixed(b_i, n_int, n_frac))
    a_q.append(q_format.float_to_fixed(a_i, n_int, n_frac))

# Perform fixed-point conversion for each sublist in b_parallel and a_parallel
for b_i, a_i in zip(b_parallel, a_parallel):
    # Convert each element in the sublist (b_i and a_i)
    b_parallel_q.append([q_format.float_to_fixed(coeff, n_int, n_frac) for coeff in b_i])
    a_parallel_q.append([q_format.float_to_fixed(coeff, n_int, n_frac) for coeff in a_i])


# Frequency response
# Floating-Point
w, h = signal.freqz(b, a)
# Q4.8 format
w, h_q = signal.freqz(b_q, a_q)

print(b_q)

# # Frequncy response of parallel decomposition
# w, h_parallel = decompose_iir_to_parallel_H(b, a)
# Plot magnitude/phase response
plot_IIR([(w, h), (w, h_q)], labels=["Floating-Point", "Q4.8 Format"], title="Original IIR Filter")





# Decompos IIR filter to parallel IIR sections
[b_parallel, a_parallel] = decompose_iir_to_parallel(b, a)

# Combine each (b, a) pair into a list of tuples
sections = list(zip(b_parallel, a_parallel))

# Pass this to the plot_zeros_poles function
plot_zeros_poles(sections, labels=[f"Section {i+1}" for i in range(len(sections))], title="Zeros and Poles")






